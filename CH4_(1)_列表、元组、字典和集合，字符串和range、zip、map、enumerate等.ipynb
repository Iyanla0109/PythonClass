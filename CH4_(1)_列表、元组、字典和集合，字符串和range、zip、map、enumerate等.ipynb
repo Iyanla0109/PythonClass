{
 "cells": [
  {
   "cell_type": "markdown",
   "metadata": {},
   "source": [
    "一个列表中的数据类型可以各不相同"
   ]
  },
  {
   "cell_type": "code",
   "execution_count": 1,
   "metadata": {
    "scrolled": true
   },
   "outputs": [
    {
     "name": "stdout",
     "output_type": "stream",
     "text": [
      "<class 'str'>\n"
     ]
    },
    {
     "data": {
      "text/plain": [
       "list"
      ]
     },
     "execution_count": 1,
     "metadata": {},
     "output_type": "execute_result"
    }
   ],
   "source": [
    "a=['spam', 2.0, 5, [10, 20]]\n",
    "print(type(a[0]))\n",
    "\n",
    "type(a[3])\n"
   ]
  },
  {
   "cell_type": "markdown",
   "metadata": {},
   "source": [
    "列表元素的增加"
   ]
  },
  {
   "cell_type": "code",
   "execution_count": 2,
   "metadata": {},
   "outputs": [
    {
     "data": {
      "text/plain": [
       "[3, 4, 5, 7, 8, 9, 10, 11, 12]"
      ]
     },
     "execution_count": 2,
     "metadata": {},
     "output_type": "execute_result"
    }
   ],
   "source": [
    "aList = [3,4,5]\n",
    "aList = aList + [7,8]\n",
    "aList.append(9)\n",
    "aList.extend([10,11,12])\n",
    "aList"
   ]
  },
  {
   "cell_type": "markdown",
   "metadata": {},
   "source": [
    "+= 和append()"
   ]
  },
  {
   "cell_type": "code",
   "execution_count": 11,
   "metadata": {},
   "outputs": [
    {
     "data": {
      "text/plain": [
       "['1234']"
      ]
     },
     "execution_count": 11,
     "metadata": {},
     "output_type": "execute_result"
    }
   ],
   "source": [
    "x = []\n",
    "x.append('1234')\n",
    "x"
   ]
  },
  {
   "cell_type": "code",
   "execution_count": 5,
   "metadata": {},
   "outputs": [
    {
     "name": "stdout",
     "output_type": "stream",
     "text": [
      "['1234']\n"
     ]
    },
    {
     "data": {
      "text/plain": [
       "['1234', '1', '2', '3', '4']"
      ]
     },
     "execution_count": 5,
     "metadata": {},
     "output_type": "execute_result"
    }
   ],
   "source": [
    "x = []\n",
    "x = x+ ['1234']\n",
    "print(x)\n",
    "x += '1234'\n",
    "x"
   ]
  },
  {
   "cell_type": "code",
   "execution_count": 6,
   "metadata": {},
   "outputs": [
    {
     "data": {
      "text/plain": [
       "['1234', '1', '2', '3', '4', 0, 1, 2]"
      ]
     },
     "execution_count": 6,
     "metadata": {},
     "output_type": "execute_result"
    }
   ],
   "source": [
    "x += range(3)\n",
    "x"
   ]
  },
  {
   "cell_type": "code",
   "execution_count": 7,
   "metadata": {},
   "outputs": [
    {
     "data": {
      "text/plain": [
       "['1', '2', '3', '0', '1', '2']"
      ]
     },
     "execution_count": 7,
     "metadata": {},
     "output_type": "execute_result"
    }
   ],
   "source": [
    "x=['1', '2', '3']\n",
    "x += map(str, range(3))\n",
    "x"
   ]
  },
  {
   "cell_type": "code",
   "execution_count": 8,
   "metadata": {},
   "outputs": [
    {
     "data": {
      "text/plain": [
       "['1', '2', '3', '0', '1', '2', range(0, 3)]"
      ]
     },
     "execution_count": 8,
     "metadata": {},
     "output_type": "execute_result"
    }
   ],
   "source": [
    "x.append(range(3))\n",
    "x"
   ]
  },
  {
   "cell_type": "markdown",
   "metadata": {},
   "source": [
    "如果是通过下标来修改序列中元素的值或通过可变序列对象自身提供的方法来增加和删除元素时，序列对象在内存中的起始地址是不变的，仅仅是被改变值的元素地址发生变化，也就是所谓的“原地操作”"
   ]
  },
  {
   "cell_type": "code",
   "execution_count": 9,
   "metadata": {},
   "outputs": [
    {
     "data": {
      "text/plain": [
       "140523869870512"
      ]
     },
     "execution_count": 9,
     "metadata": {},
     "output_type": "execute_result"
    }
   ],
   "source": [
    "a = [1,2,3]\n",
    "id(a)"
   ]
  },
  {
   "cell_type": "code",
   "execution_count": 10,
   "metadata": {},
   "outputs": [
    {
     "data": {
      "text/plain": [
       "140523869870512"
      ]
     },
     "execution_count": 10,
     "metadata": {},
     "output_type": "execute_result"
    }
   ],
   "source": [
    "a.append(4)\n",
    "id(a)"
   ]
  },
  {
   "cell_type": "code",
   "execution_count": 11,
   "metadata": {},
   "outputs": [
    {
     "data": {
      "text/plain": [
       "[1, 2, 3, 4, 7, 8, 9]"
      ]
     },
     "execution_count": 11,
     "metadata": {},
     "output_type": "execute_result"
    }
   ],
   "source": [
    "a.extend([7,8,9])\n",
    "a"
   ]
  },
  {
   "cell_type": "code",
   "execution_count": 9,
   "metadata": {},
   "outputs": [
    {
     "data": {
      "text/plain": [
       "[1, 2, 3, 4, 4, 7, 8, 9, 11, 13]"
      ]
     },
     "execution_count": 9,
     "metadata": {},
     "output_type": "execute_result"
    }
   ],
   "source": [
    "a.extend([11,13])\n",
    "a"
   ]
  },
  {
   "cell_type": "code",
   "execution_count": 12,
   "metadata": {},
   "outputs": [
    {
     "data": {
      "text/plain": [
       "[1, 2, 3, 4, 7, 8, 9, 15, 17]"
      ]
     },
     "execution_count": 12,
     "metadata": {},
     "output_type": "execute_result"
    }
   ],
   "source": [
    "a.extend((15,17))\n",
    "a"
   ]
  },
  {
   "cell_type": "code",
   "execution_count": 13,
   "metadata": {},
   "outputs": [
    {
     "data": {
      "text/plain": [
       "[1, 2, 3, 4, 7, 8, 9, 15, 17, (1, 3)]"
      ]
     },
     "execution_count": 13,
     "metadata": {},
     "output_type": "execute_result"
    }
   ],
   "source": [
    "a.append((1,3))\n",
    "a"
   ]
  },
  {
   "cell_type": "code",
   "execution_count": 14,
   "metadata": {},
   "outputs": [
    {
     "data": {
      "text/plain": [
       "140523869870512"
      ]
     },
     "execution_count": 14,
     "metadata": {},
     "output_type": "execute_result"
    }
   ],
   "source": [
    "id(a)"
   ]
  },
  {
   "cell_type": "code",
   "execution_count": 15,
   "metadata": {},
   "outputs": [
    {
     "data": {
      "text/plain": [
       "[3, 4, 5, 7, 8, 9, 10, 11, 12]"
      ]
     },
     "execution_count": 15,
     "metadata": {},
     "output_type": "execute_result"
    }
   ],
   "source": [
    "aList"
   ]
  },
  {
   "cell_type": "code",
   "execution_count": 16,
   "metadata": {},
   "outputs": [
    {
     "data": {
      "text/plain": [
       "[3, 4, 5, 55, 7, 8, 9, 10, 11, 12]"
      ]
     },
     "execution_count": 16,
     "metadata": {},
     "output_type": "execute_result"
    }
   ],
   "source": [
    "aList.insert(3, 55)\n",
    "aList"
   ]
  },
  {
   "cell_type": "markdown",
   "metadata": {},
   "source": [
    "insert 和 append 的速度"
   ]
  },
  {
   "cell_type": "code",
   "execution_count": 17,
   "metadata": {},
   "outputs": [
    {
     "name": "stdout",
     "output_type": "stream",
     "text": [
      "Insert: 0.33502793312072754\n",
      "Append: 0.008786916732788086\n"
     ]
    }
   ],
   "source": [
    "import time\n",
    "\n",
    "def Insert():\n",
    "    a = []\n",
    "    for i in range(10000):\n",
    "        a.insert(0, i)\n",
    "\n",
    "def Append():\n",
    "    a = []\n",
    "    for i in range(10000):\n",
    "        a.append(i)\n",
    "\n",
    "start = time.time()\n",
    "for i in range(10):\n",
    "    Insert()\n",
    "print('Insert:', time.time()-start)\n",
    "\n",
    "start = time.time()\n",
    "for i in range(10):\n",
    "    Append()\n",
    "print('Append:', time.time()-start)\n"
   ]
  },
  {
   "cell_type": "markdown",
   "metadata": {},
   "source": [
    "列表元素的删除"
   ]
  },
  {
   "cell_type": "code",
   "execution_count": 30,
   "metadata": {},
   "outputs": [
    {
     "data": {
      "text/plain": [
       "[3, 7, 9, 11]"
      ]
     },
     "execution_count": 30,
     "metadata": {},
     "output_type": "execute_result"
    }
   ],
   "source": [
    "a_list = [3,5,7,9,11]\n",
    "del a_list[1]\n",
    "a_list"
   ]
  },
  {
   "cell_type": "markdown",
   "metadata": {},
   "source": [
    "使用列表的pop()方法删除并返回指定位置（默认为最后一个）上的元素"
   ]
  },
  {
   "cell_type": "code",
   "execution_count": 18,
   "metadata": {},
   "outputs": [
    {
     "data": {
      "text/plain": [
       "[3, 7, 9]"
      ]
     },
     "execution_count": 18,
     "metadata": {},
     "output_type": "execute_result"
    }
   ],
   "source": [
    "a_list = list((3,5,7,9,11))\n",
    "a_list.pop()\n",
    "a_list.pop(1)\n",
    "a_list"
   ]
  },
  {
   "cell_type": "markdown",
   "metadata": {},
   "source": [
    "remove()方法删除首次出现的指定元素，如果列表中不存在要删除的元素，则抛出异常"
   ]
  },
  {
   "cell_type": "code",
   "execution_count": 19,
   "metadata": {},
   "outputs": [
    {
     "data": {
      "text/plain": [
       "[2, 2, 2, 2]"
      ]
     },
     "execution_count": 19,
     "metadata": {},
     "output_type": "execute_result"
    }
   ],
   "source": [
    "x = [1,2,1,2,1,2,1,2,1]\n",
    "for i in x:\n",
    "    if i == 1:\n",
    "        x.remove(i)\n",
    "x\n",
    "# x.remove(5)"
   ]
  },
  {
   "cell_type": "markdown",
   "metadata": {},
   "source": [
    "在删除列表元素时，Python会自动对列表内存进行收缩并移动列表元素以保证所有元素之间没有空隙，增加列表元素时也会自动扩展内存并对元素进行移动以保证元素之间没有空隙。每当插入或删除一个元素之后，该元素位置后面所有元素的索引就都改变了。\n",
    "[1, 2, 1, 2, 1, 1, 1]\n",
    "[2, 1, 2, 1, 1, 1]\n",
    "[2, 2, 1, 1, 1]\n",
    "[2, 2, 1, 1]"
   ]
  },
  {
   "cell_type": "code",
   "execution_count": 20,
   "metadata": {},
   "outputs": [
    {
     "data": {
      "text/plain": [
       "[2, 2, 1]"
      ]
     },
     "execution_count": 20,
     "metadata": {},
     "output_type": "execute_result"
    }
   ],
   "source": [
    "x = [1,2,1,2,1,1,1]\n",
    "for i in x:\n",
    "    if i == 1:\n",
    "       x.remove(i)\n",
    "x"
   ]
  },
  {
   "cell_type": "markdown",
   "metadata": {},
   "source": [
    "正确的代码"
   ]
  },
  {
   "cell_type": "code",
   "execution_count": 23,
   "metadata": {},
   "outputs": [
    {
     "data": {
      "text/plain": [
       "[2, 2]"
      ]
     },
     "execution_count": 23,
     "metadata": {},
     "output_type": "execute_result"
    }
   ],
   "source": [
    "x = [1,2,1,2,1,1,1]\n",
    "for i in x[::]:    #切片\n",
    "    if i == 1:\n",
    "        x.remove(i)\n",
    "        \n",
    "x"
   ]
  },
  {
   "cell_type": "code",
   "execution_count": 24,
   "metadata": {},
   "outputs": [
    {
     "data": {
      "text/plain": [
       "[2, 2]"
      ]
     },
     "execution_count": 24,
     "metadata": {},
     "output_type": "execute_result"
    }
   ],
   "source": [
    "x = [1,2,1,2,1,1,1]\n",
    "for i in range(len(x)-1,-1,-1):         #从后往前删\n",
    "    if x[i]==1:\n",
    "        del x[i]\n",
    "x"
   ]
  },
  {
   "cell_type": "markdown",
   "metadata": {},
   "source": [
    "访问和计数"
   ]
  },
  {
   "cell_type": "code",
   "execution_count": 32,
   "metadata": {},
   "outputs": [
    {
     "data": {
      "text/plain": [
       "4"
      ]
     },
     "execution_count": 32,
     "metadata": {},
     "output_type": "execute_result"
    }
   ],
   "source": [
    "aList = [3, 4, 5, 5.5, 7, 9, 11, 13, 7, 17]\n",
    "aList.index(7)"
   ]
  },
  {
   "cell_type": "code",
   "execution_count": 31,
   "metadata": {},
   "outputs": [
    {
     "data": {
      "text/plain": [
       "1"
      ]
     },
     "execution_count": 31,
     "metadata": {},
     "output_type": "execute_result"
    }
   ],
   "source": [
    "aList.count(13)"
   ]
  },
  {
   "cell_type": "code",
   "execution_count": 20,
   "metadata": {},
   "outputs": [
    {
     "data": {
      "text/plain": [
       "True"
      ]
     },
     "execution_count": 20,
     "metadata": {},
     "output_type": "execute_result"
    }
   ],
   "source": [
    "3 in aList"
   ]
  },
  {
   "cell_type": "markdown",
   "metadata": {},
   "source": [
    "切片操作：切片适用于列表、元组、字符串、range对象等类型"
   ]
  },
  {
   "cell_type": "code",
   "execution_count": 34,
   "metadata": {},
   "outputs": [
    {
     "data": {
      "text/plain": [
       "[17, 7, 13, 11, 9, 7, 5.5, 5, 4, 3]"
      ]
     },
     "execution_count": 34,
     "metadata": {},
     "output_type": "execute_result"
    }
   ],
   "source": [
    "[3, 4, 5, 6, 7, 9, 11, 13, 15, 17]\n",
    "aList[::-1]   "
   ]
  },
  {
   "cell_type": "code",
   "execution_count": null,
   "metadata": {},
   "outputs": [],
   "source": [
    "aList = [3, 4, 5, 6, 7, 9, 11, 13, 15, 17]\n",
    "aList[::]                            #返回包含所有元素的新列表\n",
    "#[3, 4, 5, 6, 7, 9, 11, 13, 15, 17]\n",
    "aList[::-1]                          #逆序的所有元素\n",
    "#[17, 15, 13, 11, 9, 7, 6, 5, 4, 3]\n",
    "aList[::2]                           #偶数位置，隔一个取一个\n",
    "#[3, 5, 7, 11, 15]\n",
    "aList[1::2]                          #奇数位置，隔一个取一个\n",
    "#[4, 6, 9, 13, 17]\n",
    "aList[3::]                           #从下标3开始的所有元素\n",
    "#[6, 7, 9, 11, 13, 15, 17]\n",
    "aList[3:6]                           #下标在[3, 6)之间的所有元素\n",
    "#[6, 7, 9]\n",
    "aList[0:100:1]                       #前100个元素，自动截断\n",
    "#[3, 4, 5, 6, 7, 9, 11, 13, 15, 17]\n",
    "aList[100:]                          #下标100之后的所有元素，自动截断\n",
    "#[]\n",
    "aList[100]                           #直接使用下标访问会发生越界\n",
    "#IndexError: list index out of range\n"
   ]
  },
  {
   "cell_type": "markdown",
   "metadata": {},
   "source": [
    "可以使用切片来原地修改列表内容"
   ]
  },
  {
   "cell_type": "code",
   "execution_count": null,
   "metadata": {},
   "outputs": [],
   "source": [
    "aList = [3, 5, 7]\n",
    "aList[len(aList):] = [9]      #在尾部追加元素\n",
    "aList\n",
    "[3, 5, 7, 9]\n",
    "aList[:3] = [1, 2, 3]         #替换前3个元素\n",
    "aList\n",
    "[1, 2, 3, 9]\n",
    "aList[:3] = []                #删除前3个元素\n",
    "aList\n",
    "[9]\n",
    "aList = list(range(10))\n",
    "aList\n",
    "[0, 1, 2, 3, 4, 5, 6, 7, 8, 9]\n",
    "aList[::2] = [0]*5            #替换偶数位置上的元素\n",
    "aList\n",
    "[0, 1, 0, 3, 0, 5, 0, 7, 0, 9]\n",
    "\n",
    "print(aList[::2])\n",
    "aList[::2] = [0]*3            #切片不连续，两侧元素个数必须一样多\n",
    "#ValueError: attempt to assign sequence of size 3 to extended slice of size 5\n"
   ]
  },
  {
   "cell_type": "code",
   "execution_count": null,
   "metadata": {},
   "outputs": [],
   "source": [
    "aList = [3,5,7,9,11]\n",
    "del aList[:3]                          #删除前3个元素\n",
    "aList\n",
    "#[9, 11]\n",
    "\n",
    "aList = [3,5,7,9,11]\n",
    "del aList[::2]                         #删除偶数位置上的元素\n",
    "aList\n",
    "#[5, 9]"
   ]
  },
  {
   "cell_type": "markdown",
   "metadata": {},
   "source": [
    "切片返回的是列表元素的浅复制"
   ]
  },
  {
   "cell_type": "code",
   "execution_count": null,
   "metadata": {},
   "outputs": [],
   "source": [
    "aList = [3, 5, 7]\n",
    "bList = aList              #bList与aList指向同一个内存\n",
    "bList\n",
    "#[3, 5, 7]\n",
    "bList[1] = 8               #修改其中一个对象会影响另一个\n",
    "aList\n",
    "#[3, 8, 7]\n",
    "aList == bList             #两个列表的元素完全一样\n",
    "#True\n",
    "aList is bList             #两个列表是同一个对象\n",
    "#True\n",
    "id(aList)                  #内存地址相同\n",
    "#19061816\n",
    "id(bList)\n",
    "#19061816"
   ]
  },
  {
   "cell_type": "markdown",
   "metadata": {},
   "source": [
    "所谓浅复制，是指生成一个新的列表，并且把原列表中所有元素的引用都复制到新列表中。如果原列表中只包含整数、实数、复数等基本类型或元组、字符串这样的不可变类型的数据，一般是没有问题的。"
   ]
  },
  {
   "cell_type": "code",
   "execution_count": null,
   "metadata": {},
   "outputs": [],
   "source": [
    "aList = [3, 5, 7]\n",
    "bList = aList[::]                 #切片，浅复制\n",
    "aList == bList                    #两个列表的元素完全一样\n",
    "#True\n",
    "aList is bList                    #但不是同一个对象\n",
    "#False\n",
    "id(aList) == id(bList)            #内存地址不一样\n",
    "#False\n",
    "bList[1] = 8                      #修改其中一个不会影响另一个\n",
    "bList\n",
    "#[3, 8, 7]\n",
    "aList\n",
    "#[3, 5, 7]"
   ]
  },
  {
   "cell_type": "code",
   "execution_count": null,
   "metadata": {},
   "outputs": [],
   "source": [
    "如果原列表中包含列表之类的可变数据类型，由于浅复制时只是把子列表的引用复制到新列表中，这样的话修改任何一个都会影响另外一个。"
   ]
  },
  {
   "cell_type": "code",
   "execution_count": null,
   "metadata": {},
   "outputs": [],
   "source": [
    "x = [1, 2, [3,4]]\n",
    "y = x[:]\n",
    "x[0] = 5\n",
    "x\n",
    "#[5, 2, [3, 4]]\n",
    "y\n",
    "#[1, 2, [3, 4]]\n",
    "x[2].append(6)\n",
    "x\n",
    "#[5, 2, [3, 4, 6]]\n",
    "y\n",
    "#[1, 2, [3, 4, 6]]"
   ]
  },
  {
   "cell_type": "markdown",
   "metadata": {},
   "source": [
    "标准库copy中的deepcopy()函数实现深复制。所谓深复制，是指对原列表中的元素进行递归，把所有的值都复制到新列表中，对嵌套的子列表不再是复制引用。新列表和原列表是互相独立，修改任何一个都不会影响另外一个。"
   ]
  },
  {
   "cell_type": "code",
   "execution_count": 45,
   "metadata": {},
   "outputs": [
    {
     "data": {
      "text/plain": [
       "[1, 2, [3, 4, 5]]"
      ]
     },
     "execution_count": 45,
     "metadata": {},
     "output_type": "execute_result"
    }
   ],
   "source": [
    "import copy\n",
    "x = [1, 2, [3, 4]]\n",
    "y = copy.deepcopy(x)             #深复制\n",
    "x[2].append(5)                   #为原列表中的子列表追加元素\n",
    "y.append(6)                      #在新列表尾部追加元素\n",
    "y\n",
    "#[1, 2, [3, 4], 6]\n",
    "x\n",
    "#[1, 2, [3, 4, 5]]"
   ]
  },
  {
   "cell_type": "markdown",
   "metadata": {},
   "source": [
    "列表排序"
   ]
  },
  {
   "cell_type": "code",
   "execution_count": 40,
   "metadata": {},
   "outputs": [
    {
     "name": "stdout",
     "output_type": "stream",
     "text": [
      "[11, 5, 7, 4, 15, 3, 13, 9, 6, 17]\n",
      "[3, 4, 5, 6, 7, 9, 11, 13, 15, 17]\n",
      "[17, 15, 13, 11, 9, 7, 6, 5, 4, 3]\n"
     ]
    },
    {
     "data": {
      "text/plain": [
       "[9, 7, 6, 5, 4, 3, 17, 15, 13, 11]"
      ]
     },
     "execution_count": 40,
     "metadata": {},
     "output_type": "execute_result"
    }
   ],
   "source": [
    "aList = [3, 4, 5, 6, 7, 9, 11, 13, 15, 17]\n",
    "import random\n",
    "random.shuffle(aList)\n",
    "print(aList)\n",
    "aList.sort()                          #默认是升序排序\n",
    "print(aList)\n",
    "aList.sort(reverse = True)            #降序排序\n",
    "print(aList)\n",
    "aList.sort(key = lambda x:len(str(x))) #按转换成字符串的长度排序\n",
    "#aList.sort(key = lambda x:(len(str(x)),x)) #按转换成字符串的长度排序\n",
    "aList"
   ]
  },
  {
   "cell_type": "markdown",
   "metadata": {},
   "source": [
    "使用内置函数sorted()对列表进行排序并返回新列表"
   ]
  },
  {
   "cell_type": "code",
   "execution_count": 43,
   "metadata": {},
   "outputs": [
    {
     "name": "stdout",
     "output_type": "stream",
     "text": [
      "[3, 4, 5, 6, 7, 9, 11, 13, 15, 17]\n"
     ]
    },
    {
     "data": {
      "text/plain": [
       "[6, 5, 15, 11, 9, 4, 13, 3, 7, 17]"
      ]
     },
     "execution_count": 43,
     "metadata": {},
     "output_type": "execute_result"
    }
   ],
   "source": [
    "aList = [3, 4, 5, 6, 7, 9, 11, 13, 15, 17]\n",
    "import random\n",
    "random.shuffle(aList)\n",
    "print(sorted(aList))                            #升序排序\n",
    "sorted(aList,reverse = True)             #降序排序\n",
    "#aList"
   ]
  },
  {
   "cell_type": "code",
   "execution_count": null,
   "metadata": {},
   "outputs": [],
   "source": [
    "aList = [3, 4, 5, 6, 7, 9, 11, 13, 15, 17]\n",
    "aList.reverse()"
   ]
  },
  {
   "cell_type": "markdown",
   "metadata": {},
   "source": [
    "使用内置函数reversed()对列表元素进行逆序排列并返回迭代对象"
   ]
  },
  {
   "cell_type": "code",
   "execution_count": 22,
   "metadata": {},
   "outputs": [
    {
     "name": "stdout",
     "output_type": "stream",
     "text": [
      "[17, 15, 13, 11, 9, 7, 6, 5, 4, 3]\n",
      "17_15_13_11_9_7_6_5_4_3_"
     ]
    }
   ],
   "source": [
    "aList = [3, 4, 5, 6, 7, 9, 11, 13, 15, 17]\n",
    "newList = reversed(aList)                #返回reversed对象\n",
    "print(list(newList))                     #把reversed对象转换成列表\n",
    "#[17, 15, 13, 11, 9, 7, 6, 5, 4, 3]\n",
    "\n",
    "for i in newList:\n",
    "    print(i, end=' ')                    #这里没有输出内容\n",
    "                                         #迭代对象已遍历结束\n",
    "newList = reversed(aList)                #重新创建reversed对象\n",
    "for i in newList:\n",
    "    print(i, end='_')"
   ]
  },
  {
   "cell_type": "markdown",
   "metadata": {},
   "source": [
    "用于序列操作的常用内置函数"
   ]
  },
  {
   "cell_type": "code",
   "execution_count": null,
   "metadata": {},
   "outputs": [],
   "source": [
    "sum(range(1, 11))      #sum()函数的start参数默认为0\n",
    "#55\n",
    "sum(range(1, 11), 5)   #指定start参数为5，等价于5+sum(range(1,11))\n",
    "#60\n",
    "sum([[1, 2], [3], [4]], [])    #这个操作占用空间较大，慎用\n",
    "#[1, 2, 3, 4]"
   ]
  },
  {
   "cell_type": "markdown",
   "metadata": {},
   "source": [
    "zip()函数返回可迭代的zip对象"
   ]
  },
  {
   "cell_type": "code",
   "execution_count": 46,
   "metadata": {},
   "outputs": [
    {
     "data": {
      "text/plain": [
       "[(1, 4), (2, 5), (3, 6)]"
      ]
     },
     "execution_count": 46,
     "metadata": {},
     "output_type": "execute_result"
    }
   ],
   "source": [
    "aList = [1, 2, 3]\n",
    "bList = [4, 5, 6]\n",
    "cList = zip(aList, bList)                 #返回zip对象\n",
    "#print(cList)\n",
    "#print(next(cList))\n",
    "list(cList)      "
   ]
  },
  {
   "cell_type": "markdown",
   "metadata": {},
   "source": [
    "enumerate(列表)"
   ]
  },
  {
   "cell_type": "code",
   "execution_count": 47,
   "metadata": {},
   "outputs": [
    {
     "name": "stdout",
     "output_type": "stream",
     "text": [
      "(0, 'a')\n",
      "(1, 'b')\n",
      "(2, 'c')\n",
      "(3, 'd')\n",
      "(4, 'e')\n",
      "(5, 'f')\n"
     ]
    }
   ],
   "source": [
    "for item in enumerate('abcdef'):\n",
    "    print(item)"
   ]
  },
  {
   "cell_type": "markdown",
   "metadata": {},
   "source": [
    "列表推导式"
   ]
  },
  {
   "cell_type": "markdown",
   "metadata": {},
   "source": [
    "[expression for expr1 in sequence1 if condition1\n",
    "            for expr2 in sequence2 if condition2\n",
    "            for expr3 in sequence3 if condition3\n",
    "            ...\n",
    "            for exprN in sequenceN if conditionN]"
   ]
  },
  {
   "cell_type": "markdown",
   "metadata": {},
   "source": [
    "阿凡提与国王比赛下棋，国王说要是自己输了的话阿凡提想要什么他都可以拿得出来。阿凡提说那就要点米吧，棋盘一共64个小格子，在第一个格子里放1粒米，第二个格子里放2粒米，第三个格子里放4粒米，第四个格子里放8粒米，以此类推，后面每个格子里的米都是前一个格子里的2倍，一直把64个格子都放满。需要多少粒米呢？"
   ]
  },
  {
   "cell_type": "code",
   "execution_count": 44,
   "metadata": {},
   "outputs": [
    {
     "data": {
      "text/plain": [
       "18446744073709551615"
      ]
     },
     "execution_count": 44,
     "metadata": {},
     "output_type": "execute_result"
    }
   ],
   "source": [
    "sum([2**i for i in range(64)])"
   ]
  },
  {
   "cell_type": "code",
   "execution_count": 49,
   "metadata": {},
   "outputs": [
    {
     "data": {
      "text/plain": [
       "18446744073709551615"
      ]
     },
     "execution_count": 49,
     "metadata": {},
     "output_type": "execute_result"
    }
   ],
   "source": [
    "int('1'*64, 2)"
   ]
  },
  {
   "cell_type": "code",
   "execution_count": 2,
   "metadata": {},
   "outputs": [
    {
     "data": {
      "text/plain": [
       "[0, 1, 4, 9, 16, 25, 36, 49, 64, 81]"
      ]
     },
     "execution_count": 2,
     "metadata": {},
     "output_type": "execute_result"
    }
   ],
   "source": [
    "aList = []\n",
    "for x in range(10):\n",
    "    aList.append(x*x)\n",
    "aList"
   ]
  },
  {
   "cell_type": "code",
   "execution_count": 4,
   "metadata": {},
   "outputs": [
    {
     "data": {
      "text/plain": [
       "[0, 1, 4, 9, 16, 25, 36, 49, 64, 81]"
      ]
     },
     "execution_count": 4,
     "metadata": {},
     "output_type": "execute_result"
    }
   ],
   "source": [
    "aList = [x*x for x in range(10)]\n",
    "aList"
   ]
  },
  {
   "cell_type": "code",
   "execution_count": 9,
   "metadata": {},
   "outputs": [
    {
     "data": {
      "text/plain": [
       "[0, 1, 2, 3, 4, 5, 6, 7, 8, 9]"
      ]
     },
     "execution_count": 9,
     "metadata": {},
     "output_type": "execute_result"
    }
   ],
   "source": [
    "aList = list(map(int, range(10)))\n",
    "aList"
   ]
  },
  {
   "cell_type": "code",
   "execution_count": 5,
   "metadata": {},
   "outputs": [
    {
     "data": {
      "text/plain": [
       "[0, 1, 4, 9, 16, 25, 36, 49, 64, 81]"
      ]
     },
     "execution_count": 5,
     "metadata": {},
     "output_type": "execute_result"
    }
   ],
   "source": [
    "aList = list(map(lambda x: x*x, range(10)))\n",
    "aList"
   ]
  },
  {
   "cell_type": "markdown",
   "metadata": {},
   "source": [
    "使用列表推导式实现嵌套列表的平铺"
   ]
  },
  {
   "cell_type": "code",
   "execution_count": 11,
   "metadata": {},
   "outputs": [
    {
     "data": {
      "text/plain": [
       "[1, 2, 3, 4, 5, 6, 7, 8, 9]"
      ]
     },
     "execution_count": 11,
     "metadata": {},
     "output_type": "execute_result"
    }
   ],
   "source": [
    "vec = [[1,2,3], [4,5,6], [7,8,9]] \n",
    "[num for elem in vec for num in elem] "
   ]
  },
  {
   "cell_type": "code",
   "execution_count": 56,
   "metadata": {},
   "outputs": [
    {
     "name": "stdout",
     "output_type": "stream",
     "text": [
      "[1, 2, 3, 4, 5, 6, 7, 8, 9]\n"
     ]
    }
   ],
   "source": [
    "vec = [[1, 2, 3], [4, 5, 6], [7, 8, 9]]\n",
    "y=sum(vec, [])\n",
    "print(y)"
   ]
  },
  {
   "cell_type": "markdown",
   "metadata": {},
   "source": [
    " |  chain(*iterables) --> chain object\n",
    " |  \n",
    " |  Return a chain object whose .__next__() method returns elements from the\n",
    " |  first iterable until it is exhausted, then elements from the next\n",
    " |  iterable, until all of the iterables are exhausted."
   ]
  },
  {
   "cell_type": "code",
   "execution_count": 58,
   "metadata": {},
   "outputs": [
    {
     "data": {
      "text/plain": [
       "[1, 2, 3, 4, 5, 6, 7, 8, 9]"
      ]
     },
     "execution_count": 58,
     "metadata": {},
     "output_type": "execute_result"
    }
   ],
   "source": [
    "vec = [[1, 2, 3], [4, 5, 6], [7, 8, 9]]\n",
    "from itertools import chain\n",
    "list(chain(*vec))"
   ]
  },
  {
   "cell_type": "markdown",
   "metadata": {},
   "source": [
    "列出当前文件夹下所有Python源文件"
   ]
  },
  {
   "cell_type": "code",
   "execution_count": null,
   "metadata": {},
   "outputs": [],
   "source": [
    "import os\n",
    "[filename for filename in os.listdir('.')\\\n",
    "     if filename.endswith(('.py', '.pyw','.ipynb'))]"
   ]
  },
  {
   "cell_type": "markdown",
   "metadata": {},
   "source": [
    "过滤不符合条件的元素"
   ]
  },
  {
   "cell_type": "code",
   "execution_count": 9,
   "metadata": {},
   "outputs": [
    {
     "data": {
      "text/plain": [
       "[6, 7.5, 9]"
      ]
     },
     "execution_count": 9,
     "metadata": {},
     "output_type": "execute_result"
    }
   ],
   "source": [
    "aList = [-1,-4,6,7.5,-2.3,9,-11]\n",
    "[i for i in aList if i>0]"
   ]
  },
  {
   "cell_type": "markdown",
   "metadata": {},
   "source": [
    "已知有一个包含一些同学成绩的字典，计算成绩的最高分、最低分、平均分，并查找所有最高分同学。"
   ]
  },
  {
   "cell_type": "code",
   "execution_count": null,
   "metadata": {},
   "outputs": [],
   "source": [
    ">>> scores = {\"Zhang San\": 45, \"Li Si\": 78, \"Wang Wu\": 40,\n",
    "              \"Zhou Liu\": 96,\"Zhao Qi\": 65, \"Sun Ba\": 90,\n",
    "              \"Zheng Jiu\": 78, \"Wu Shi\": 99,\"Dong Shiyi\": 60}\n",
    ">>> highest = max(scores.values())\n",
    ">>> lowest = min(scores.values())\n",
    ">>> average = sum(scores.values())*1.0/len(scores)\n",
    ">>> highest, lowest, average\n",
    "99  40  72.33333333333333\n",
    ">>> highestPerson = [name for name, score in scores.items()\n",
    "                     if score == highest]\n",
    ">>> highestPerson\n",
    "['Wu Shi']"
   ]
  },
  {
   "cell_type": "code",
   "execution_count": 59,
   "metadata": {},
   "outputs": [
    {
     "data": {
      "text/plain": [
       "[(0, 0), (0, 1), (0, 2), (1, 0), (1, 1), (1, 2), (2, 0), (2, 1), (2, 2)]"
      ]
     },
     "execution_count": 59,
     "metadata": {},
     "output_type": "execute_result"
    }
   ],
   "source": [
    "[(x, y) for x in range(3) for y in range(3)]"
   ]
  },
  {
   "cell_type": "code",
   "execution_count": 60,
   "metadata": {},
   "outputs": [
    {
     "data": {
      "text/plain": [
       "[(1, 3), (1, 4), (2, 3), (2, 1), (2, 4), (3, 1), (3, 4)]"
      ]
     },
     "execution_count": 60,
     "metadata": {},
     "output_type": "execute_result"
    }
   ],
   "source": [
    "[(x, y) for x in [1, 2, 3] for y in [3, 1, 4] if x != y]"
   ]
  },
  {
   "cell_type": "markdown",
   "metadata": {},
   "source": [
    "矩阵转置"
   ]
  },
  {
   "cell_type": "code",
   "execution_count": 61,
   "metadata": {},
   "outputs": [
    {
     "data": {
      "text/plain": [
       "[[1, 5, 9], [2, 6, 10], [3, 7, 11], [4, 8, 12]]"
      ]
     },
     "execution_count": 61,
     "metadata": {},
     "output_type": "execute_result"
    }
   ],
   "source": [
    "matrix = [ [1, 2, 3, 4], [5, 6, 7, 8], [9, 10, 11, 12]] \n",
    "[[row[i] for row in matrix] for i in range(4)] "
   ]
  },
  {
   "cell_type": "code",
   "execution_count": 65,
   "metadata": {},
   "outputs": [
    {
     "data": {
      "text/plain": [
       "[(1, 5, 9), (2, 6, 10), (3, 7, 11), (4, 8, 12)]"
      ]
     },
     "execution_count": 65,
     "metadata": {},
     "output_type": "execute_result"
    }
   ],
   "source": [
    "list(zip(*matrix))                 #序列解包"
   ]
  },
  {
   "cell_type": "code",
   "execution_count": 63,
   "metadata": {},
   "outputs": [
    {
     "data": {
      "text/plain": [
       "[[1, 5, 9], [2, 6, 10], [3, 7, 11], [4, 8, 12]]"
      ]
     },
     "execution_count": 63,
     "metadata": {},
     "output_type": "execute_result"
    }
   ],
   "source": [
    "[list(x) for x in zip(*matrix)]"
   ]
  },
  {
   "cell_type": "code",
   "execution_count": 1,
   "metadata": {},
   "outputs": [
    {
     "data": {
      "text/plain": [
       "[4, 4, 16]"
      ]
     },
     "execution_count": 1,
     "metadata": {},
     "output_type": "execute_result"
    }
   ],
   "source": [
    "[v**2 if v%2 == 0 else v+1 for v in [2, 3, 4, -1] if v>0]"
   ]
  },
  {
   "cell_type": "code",
   "execution_count": 13,
   "metadata": {},
   "outputs": [
    {
     "name": "stdout",
     "output_type": "stream",
     "text": [
      "['from re import findall\\n', '\\n', \"text = '''行尸走肉、金蝉脱壳、百里挑一、金玉满堂、\\n\", '背水一战、霸王别姬、天上人间、不吐不快、海阔天空、\\n', '情非得已、满腹经纶、兵临城下、春暖花开、插翅难逃、\\n', '黄道吉日、天下无双、偷天换日、两小无猜、卧虎藏龙、\\n', '珠光宝气、簪缨世族、花花公子、绘声绘影、国色天香、\\n', '相亲相爱、八仙过海、金玉良缘、掌上明珠、皆大欢喜、\\n', \"浩浩荡荡、平平安安、秀秀气气、斯斯文文、高高兴兴'''\\n\", '\\n', \"pattern = r'(((.).\\\\3.)|((.)\\\\5(.)\\\\6))'\\n\", \"#pattern = r'((.).\\\\2.)'\\n\", \"#pattern = r'((.)\\\\2(.)\\\\3)'\\n\", 'for item in findall(pattern, text):\\n', '    print(item[0])\\n']\n"
     ]
    }
   ],
   "source": [
    "with open('test9.py', 'r') as fp: \n",
    "    print([line for line in fp])"
   ]
  },
  {
   "cell_type": "code",
   "execution_count": 14,
   "metadata": {},
   "outputs": [
    {
     "name": "stdout",
     "output_type": "stream",
     "text": [
      "from re import findall\n",
      "\n",
      "\n",
      "\n",
      "text = '''行尸走肉、金蝉脱壳、百里挑一、金玉满堂、\n",
      "\n",
      "背水一战、霸王别姬、天上人间、不吐不快、海阔天空、\n",
      "\n",
      "情非得已、满腹经纶、兵临城下、春暖花开、插翅难逃、\n",
      "\n",
      "黄道吉日、天下无双、偷天换日、两小无猜、卧虎藏龙、\n",
      "\n",
      "珠光宝气、簪缨世族、花花公子、绘声绘影、国色天香、\n",
      "\n",
      "相亲相爱、八仙过海、金玉良缘、掌上明珠、皆大欢喜、\n",
      "\n",
      "浩浩荡荡、平平安安、秀秀气气、斯斯文文、高高兴兴'''\n",
      "\n",
      "\n",
      "\n",
      "pattern = r'(((.).\\3.)|((.)\\5(.)\\6))'\n",
      "\n",
      "#pattern = r'((.).\\2.)'\n",
      "\n",
      "#pattern = r'((.)\\2(.)\\3)'\n",
      "\n",
      "for item in findall(pattern, text):\n",
      "\n",
      "    print(item[0])\n",
      "\n"
     ]
    }
   ],
   "source": [
    "with open('test9.py', 'r') as fp: \n",
    "    for line in fp:\n",
    "        print(line)"
   ]
  },
  {
   "cell_type": "markdown",
   "metadata": {},
   "source": [
    "使用列表推导式生成100以内的所有素数"
   ]
  },
  {
   "cell_type": "code",
   "execution_count": 74,
   "metadata": {},
   "outputs": [
    {
     "name": "stdout",
     "output_type": "stream",
     "text": [
      "[2, 3, 5, 7, 11, 13, 17, 19, 23, 29, 31, 37, 41, 43, 47, 53, 59, 61, 67, 71, 73, 79, 83, 89, 97]\n"
     ]
    }
   ],
   "source": [
    "print([p for p in range(2, 100) if 0 not in [p%d for d in range(2, int(p**0.5)+1)]])"
   ]
  },
  {
   "cell_type": "code",
   "execution_count": 77,
   "metadata": {},
   "outputs": [
    {
     "name": "stdout",
     "output_type": "stream",
     "text": [
      "[2, 3, 5, 7, 11, 13, 17, 19, 23, 29, 31, 37, 41, 43, 47, 53, 59, 61, 67, 71, 73, 79, 83, 89, 97]\n"
     ]
    }
   ],
   "source": [
    "# -*- coding: UTF-8 -*-\n",
    "import math\n",
    "num = [];\n",
    "i = 2\n",
    "for i in range(2, 100):\n",
    "    for j in range(2, int(math.sqrt(i))+1):\n",
    "        if i % j == 0:\n",
    "            break\n",
    "    else:\n",
    "        num.append(i)\n",
    "print(num)"
   ]
  },
  {
   "cell_type": "code",
   "execution_count": null,
   "metadata": {},
   "outputs": [],
   "source": [
    "使用列表实现向量运算"
   ]
  },
  {
   "cell_type": "code",
   "execution_count": 78,
   "metadata": {},
   "outputs": [
    {
     "data": {
      "text/plain": [
       "[6, 6, 17, 13, 12, 7, 8, 16, 8, 12]"
      ]
     },
     "execution_count": 78,
     "metadata": {},
     "output_type": "execute_result"
    }
   ],
   "source": [
    "import random\n",
    "\n",
    "x = [random.randint(1, 100) for i in range(10)]  # 生成随机数\n",
    "list(map(lambda i: i + 5, x))  # 所有元素同时加5\n",
    "\n",
    "x = [random.randint(1, 10) for i in range(10)]\n",
    "y = [random.randint(1, 10) for i in range(10)]\n",
    "import operator\n",
    "\n",
    "sum(map(operator.mul, x, y))  # 向量内积\n",
    "sum((i * j for i, j in zip(x, y)))  # 向量内积\n",
    "list(map(operator.add, x, y))  # 两个等长的向量对应元素相加"
   ]
  },
  {
   "cell_type": "code",
   "execution_count": null,
   "metadata": {},
   "outputs": [],
   "source": [
    "切片+filter()实现筛选法求素数"
   ]
  },
  {
   "cell_type": "code",
   "execution_count": 81,
   "metadata": {},
   "outputs": [
    {
     "name": "stdout",
     "output_type": "stream",
     "text": [
      "[2, 3, 5, 7, 11, 13, 17, 19, 23, 29, 31, 37, 41, 43, 47, 53, 59, 61, 67, 71, 73, 79, 83, 89, 97]\n"
     ]
    }
   ],
   "source": [
    "def primes(maxNumber):\n",
    "    '''筛选法获取小于maxNumber的所有素数'''\n",
    "    #待判断整数\n",
    "    lst = list(range(2, maxNumber))\n",
    "    #最大整数的平方根\n",
    "    m = int(maxNumber**0.5)\n",
    "    for index, value in enumerate(lst):\n",
    "        #如果当前数字已大于最大整数的平方根，结束判断\n",
    "        if value > m:\n",
    "            break\n",
    "        #对该位置之后的元素进行过滤\n",
    "        lst[index+1:] = filter(lambda x: x%value != 0,lst[index+1:])\n",
    "    return lst\n",
    "\n",
    "print(primes(100))"
   ]
  },
  {
   "cell_type": "code",
   "execution_count": null,
   "metadata": {},
   "outputs": [],
   "source": [
    "查找列表中相加等于s的n个数字"
   ]
  },
  {
   "cell_type": "code",
   "execution_count": 16,
   "metadata": {},
   "outputs": [
    {
     "name": "stdout",
     "output_type": "stream",
     "text": [
      "(30, -33, 3)\n",
      "(2, -15, 13)\n",
      "(45, -31, -14)\n",
      "(45, -23, -22)\n",
      "(45, -15, -30)\n",
      "(-31, -11, 42)\n",
      "(-23, 38, -15)\n"
     ]
    }
   ],
   "source": [
    "#命令式编程\n",
    "from itertools import combinations\n",
    "from random import randrange\n",
    "\n",
    "def sumToS(lst, n, s):\n",
    "    for numbers in combinations(lst, n):\n",
    "        if sum(numbers) == s:\n",
    "            print(numbers)\n",
    "\n",
    "lst = [randrange(-50, 50) for _ in range(20)]\n",
    "sumToS(lst, 3, 0)"
   ]
  },
  {
   "cell_type": "code",
   "execution_count": 4,
   "metadata": {},
   "outputs": [
    {
     "name": "stdout",
     "output_type": "stream",
     "text": [
      "(20, -21, 1)\n",
      "(20, -23, 3)\n",
      "(20, 20, -40)\n",
      "(20, -37, 17)\n",
      "(20, 19, -39)\n",
      "(-21, 1, 20)\n",
      "(1, -16, 15)\n",
      "(-23, 3, 20)\n",
      "(-23, 8, 15)\n",
      "(8, -31, 23)\n",
      "(20, -37, 17)\n",
      "(20, 19, -39)\n",
      "(17, 23, -40)\n",
      "(17, -32, 15)\n"
     ]
    }
   ],
   "source": [
    "#函数式编程\n",
    "from itertools import combinations\n",
    "from random import randrange\n",
    "\n",
    "def sumToS(lst, n, s):\n",
    "    f = lambda item:sum(item)==s\n",
    "    result = filter(f, combinations(lst, n))\n",
    "    for item in result:\n",
    "        print(item)\n",
    "\n",
    "lst = [randrange(-50, 50) for _ in range(20)]\n",
    "sumToS(lst, 3, 0)"
   ]
  }
 ],
 "metadata": {
  "interpreter": {
   "hash": "aee8b7b246df8f9039afb4144a1f6fd8d2ca17a180786b69acc140d282b71a49"
  },
  "kernelspec": {
   "display_name": "Python 3 (ipykernel)",
   "language": "python",
   "name": "python3"
  },
  "language_info": {
   "codemirror_mode": {
    "name": "ipython",
    "version": 3
   },
   "file_extension": ".py",
   "mimetype": "text/x-python",
   "name": "python",
   "nbconvert_exporter": "python",
   "pygments_lexer": "ipython3",
   "version": "3.7.4"
  }
 },
 "nbformat": 4,
 "nbformat_minor": 4
}
