{
 "cells": [
  {
   "cell_type": "markdown",
   "metadata": {
    "pycharm": {
     "name": "#%% md\n"
    }
   },
   "source": [
    "【创建数据库】"
   ]
  },
  {
   "cell_type": "code",
   "execution_count": 3,
   "metadata": {},
   "outputs": [],
   "source": [
    "\n",
    "import sqlite3\n",
    "conn = sqlite3.connect(\"/Volumes/DATUM/PythonLab/test.db\")    \n",
    "\n",
    "c = conn.cursor()\n",
    "\n",
    "# 创建表格\n",
    "c.execute('''CREATE TABLE category(id int primary key, sort int, name text)''')\n",
    "c.execute('''CREATE TABLE book\n",
    "      (id int primary key, \n",
    "       sort int, \n",
    "       name text, \n",
    "       price real, \n",
    "       category int,\n",
    "       FOREIGN KEY (category) REFERENCES category(id))''')\n",
    "\n",
    "# 提交\n",
    "conn.commit()\n",
    "\n",
    "# 关闭连接\n",
    "conn.close()\n"
   ]
  },
  {
   "cell_type": "markdown",
   "metadata": {
    "pycharm": {
     "name": "#%% md\n"
    }
   },
   "source": [
    "【插入数据】"
   ]
  },
  {
   "cell_type": "code",
   "execution_count": null,
   "metadata": {},
   "outputs": [],
   "source": [
    "\n",
    "import sqlite3\n",
    "conn = sqlite3.connect(\"d:/test.db\")\n",
    "c    = conn.cursor()\n",
    "\n",
    "books = [(1, 1, 'Cook', 3.12, 1),\n",
    "    (2, 3, 'Python', 17.5, 2),\n",
    "    (3, 2, 'OS', 13.6, 2),\n",
    "]\n",
    "\n",
    "# 执行插入命令 \n",
    "c.execute(\"INSERT INTO category VALUES (1, 1, 'kitchen')\")\n",
    "# 执行多条命令\n",
    "c.executemany('INSERT INTO book VALUES (?, ?, ?, ?, ?)', books)\n",
    "\n",
    "conn.commit()\n",
    "conn.close()\n"
   ]
  },
  {
   "cell_type": "markdown",
   "metadata": {
    "pycharm": {
     "name": "#%% md\n"
    }
   },
   "source": [
    "【查询数据】"
   ]
  },
  {
   "cell_type": "code",
   "execution_count": null,
   "metadata": {},
   "outputs": [],
   "source": [
    "\n",
    "import sqlite3\n",
    "conn = sqlite3.connect('d:/test.db')\n",
    "c = conn.cursor()\n",
    "\n",
    "# 查询一条记录\n",
    "c.execute('SELECT name FROM category ORDER BY sort')\n",
    "print(c.fetchone())\n",
    "\n",
    "# 查询列表中所有记录\n",
    "c.execute('SELECT * FROM book WHERE book.category=1')\n",
    "print(c.fetchall())\n",
    "\n",
    "for row in c.execute('SELECT name, price FROM book ORDER BY sort'):\n",
    "print(row)\n",
    "运行结果如下所示：\n",
    "('kitchen',)\n",
    "[(1, 1, 'Cook', 3.12, 1)]\n",
    "('Cook', 3.12)\n",
    "('OS', 13.6)\n",
    "('Python', 17.5)\n"
   ]
  },
  {
   "cell_type": "markdown",
   "metadata": {
    "pycharm": {
     "name": "#%% md\n"
    }
   },
   "source": [
    "【修改删除数据】"
   ]
  },
  {
   "cell_type": "code",
   "execution_count": null,
   "metadata": {},
   "outputs": [],
   "source": [
    "\n",
    "conn = sqlite3.connect(\"d:/test.db\")\n",
    "c = conn.cursor()\n",
    "\n",
    "# 修改记录\n",
    "c.execute('UPDATE book SET price=? WHERE id=?',(1000, 1))\n",
    "# 删除记录\n",
    "c.execute('DELETE FROM book WHERE id=2')\n",
    "\n",
    "conn.commit()\n",
    "conn.close()\n"
   ]
  },
  {
   "cell_type": "markdown",
   "metadata": {
    "pycharm": {
     "name": "#%% md\n"
    }
   },
   "source": [
    "操作MySQL "
   ]
  },
  {
   "cell_type": "markdown",
   "metadata": {
    "pycharm": {
     "name": "#%% md\n"
    }
   },
   "source": [
    "【创建数据库表】"
   ]
  },
  {
   "cell_type": "code",
   "execution_count": null,
   "metadata": {},
   "outputs": [],
   "source": [
    "\n",
    "import pymysql           \n",
    "# 打开数据库连接\n",
    "conn = pymysql.connect(host='localhost', port=3306, user='root', passwd=' ', db='blog', charset='utf8')\n",
    "cursor = conn.cursor()          # 使用 cursor() 方法创建一个游标对象 cursor\n",
    " # 使用 execute() 方法执行 SQL，如果表存在则删除\n",
    "cursor.execute(\"DROP TABLE IF EXISTS EMPLOYEE\")\n",
    " # 使用预处理语句创建表\n",
    "sql = \"\"\"CREATE TABLE EMPLOYEE (\n",
    "         FIRST_NAME  CHAR(20) NOT NULL,\n",
    "         LAST_NAME  CHAR(20),\n",
    "         AGE INT,  \n",
    "         SEX CHAR(1),\n",
    "         INCOME FLOAT )\"\"\"\n",
    "cursor.execute(sql)         # 执行SQL语句\n",
    "conn.commit()          # 提交，不然无法保存新建或者修改的数据\n",
    "cursor.close()            # 关闭游标\n",
    "conn.close()              # 关闭数据库连接\n"
   ]
  },
  {
   "cell_type": "markdown",
   "metadata": {
    "pycharm": {
     "name": "#%% md\n"
    }
   },
   "source": [
    "【插入操作】"
   ]
  },
  {
   "cell_type": "code",
   "execution_count": null,
   "metadata": {},
   "outputs": [],
   "source": [
    "\n",
    "使用 INSERT 语句向表 EMPLOYEE 插入记录。\n",
    "# SQL 插入语句\n",
    "sql = \"\"\"INSERT INTO EMPLOYEE(FIRST_NAME, LAST_NAME, AGE, SEX, INCOME)\n",
    "         VALUES ('Mac', 'Mohan', 20, 'M', 2000)\"\"\"\n",
    "try:\n",
    "   cursor.execute(sql)\n",
    "   conn.commit()\n",
    "except:\n",
    "   conn.rollback()\n"
   ]
  },
  {
   "cell_type": "markdown",
   "metadata": {
    "pycharm": {
     "name": "#%% md\n"
    }
   },
   "source": [
    "【查询操作】"
   ]
  },
  {
   "cell_type": "code",
   "execution_count": null,
   "metadata": {},
   "outputs": [],
   "source": [
    "\n",
    "查询EMPLOYEE表中salary（工资）字段大于1000的所有数据。\n",
    "# SQL 查询语句\n",
    "sql = \"SELECT * FROM EMPLOYEE  WHERE INCOME > '%d'\" % (1000)\n",
    "try:\n",
    "   cursor.execute(sql)\n",
    "   #将所有查询结果返回为元组  \n",
    "   results = cursor.fetchall()\n",
    "   for row in results:\n",
    "      fname = row[0]\n",
    "      lname = row[1]\n",
    "      age = row[2]\n",
    "      sex = row[3]\n",
    "      income = row[4]\n",
    "       # 打印结果\n",
    "      print (\"fname=%s,lname=%s,age=%d,sex=%s,income=%d\" % (fname, lname, age, sex, income ))\n",
    "except:\n",
    "   print (\"Error: unable to fetch data\")\n"
   ]
  },
  {
   "cell_type": "markdown",
   "metadata": {
    "pycharm": {
     "name": "#%% md\n"
    }
   },
   "source": [
    "【更新操作】"
   ]
  },
  {
   "cell_type": "code",
   "execution_count": null,
   "metadata": {},
   "outputs": [],
   "source": [
    "\n",
    "实现 TESTDB表中的 SEX 字段全部修改为 'M'，AGE 字段递增1的操作。\n",
    "\n",
    "# SQL 更新语句\n",
    "sql = \"UPDATE EMPLOYEE SET AGE = AGE + 1 WHERE SEX = '%c'\" % ('M')\n",
    "try:\n",
    "   cursor.execute(sql)\n",
    "   conn.commit()\n",
    "except:\n",
    "   conn.rollback()\n"
   ]
  },
  {
   "cell_type": "markdown",
   "metadata": {
    "pycharm": {
     "name": "#%% md\n"
    }
   },
   "source": [
    "【删除操作】"
   ]
  },
  {
   "cell_type": "code",
   "execution_count": null,
   "metadata": {
    "pycharm": {
     "name": "#%%\n"
    }
   },
   "outputs": [],
   "source": [
    "\n",
    "删除数据表 EMPLOYEE 中 AGE 大于 20 的所有数据。\n",
    "\n",
    "# SQL 删除语句\n",
    "sql = \"DELETE FROM EMPLOYEE WHERE AGE > '%d'\" % (20)\n",
    "try:\n",
    "   cursor.execute(sql)\n",
    "   conn.commit()\n",
    "except:\n",
    "    conn.rollback()\n"
   ]
  }
 ],
 "metadata": {
  "kernelspec": {
   "display_name": "Python 3",
   "language": "python",
   "name": "python3"
  },
  "language_info": {
   "codemirror_mode": {
    "name": "ipython",
    "version": 3
   },
   "file_extension": ".py",
   "mimetype": "text/x-python",
   "name": "python",
   "nbconvert_exporter": "python",
   "pygments_lexer": "ipython3",
   "version": "3.7.1"
  }
 },
 "nbformat": 4,
 "nbformat_minor": 1
}