{
 "cells": [
  {
   "cell_type": "markdown",
   "metadata": {},
   "source": [
    "# 字符串"
   ]
  },
  {
   "cell_type": "markdown",
   "metadata": {},
   "source": [
    "最早的字符串编码是美国标准信息交换码ASCII，仅对10个数字、26个大写英文字母、26个小写英文字母及一些其他符号进行了编码。ASCII码采用1个字节来对字符进行编码，最多只能表示256个符号\n",
    "常见编码格式主要有UTF-8、UTF-16、UTF-32、GB2312、GBK、CP936、base64、CP437等等"
   ]
  },
  {
   "cell_type": "code",
   "execution_count": null,
   "metadata": {
    "pycharm": {
     "name": "#%%\n"
    }
   },
   "outputs": [],
   "source": [
    "hex( ord('a') )"
   ]
  },
  {
   "cell_type": "code",
   "execution_count": null,
   "metadata": {
    "pycharm": {
     "name": "#%%\n"
    }
   },
   "outputs": [],
   "source": [
    "ord('a')"
   ]
  },
  {
   "cell_type": "code",
   "execution_count": null,
   "metadata": {
    "pycharm": {
     "name": "#%%\n"
    }
   },
   "outputs": [],
   "source": [
    "chr(int('0x61',16))"
   ]
  },
  {
   "cell_type": "code",
   "execution_count": null,
   "metadata": {
    "pycharm": {
     "name": "#%%\n"
    }
   },
   "outputs": [],
   "source": [
    "int('0x61',16)"
   ]
  },
  {
   "cell_type": "code",
   "execution_count": null,
   "metadata": {
    "pycharm": {
     "name": "#%%\n"
    }
   },
   "outputs": [],
   "source": [
    "'钶那斯'.encode('utf8')"
   ]
  },
  {
   "cell_type": "code",
   "execution_count": null,
   "metadata": {
    "pycharm": {
     "name": "#%%\n"
    }
   },
   "outputs": [],
   "source": [
    "'钶那斯'.encode('cp936')"
   ]
  },
  {
   "cell_type": "code",
   "execution_count": null,
   "metadata": {
    "pycharm": {
     "name": "#%%\n"
    }
   },
   "outputs": [],
   "source": [
    "'钶那斯'.encode('cp936').decode('cp936')"
   ]
  },
  {
   "cell_type": "code",
   "execution_count": null,
   "metadata": {
    "pycharm": {
     "name": "#%%\n"
    }
   },
   "outputs": [],
   "source": [
    "'Python程序设计'.encode('utf8')"
   ]
  },
  {
   "cell_type": "markdown",
   "metadata": {},
   "source": [
    "Python 3.x完全支持中文字符，默认使用UTF8编码格式，无论是一个数字、英文字母，还是一个汉字，在统计字符串长度时都按一个字符对待和处理"
   ]
  },
  {
   "cell_type": "code",
   "execution_count": null,
   "metadata": {
    "pycharm": {
     "name": "#%%\n"
    }
   },
   "outputs": [],
   "source": [
    "len('Python程序设计')"
   ]
  },
  {
   "cell_type": "markdown",
   "metadata": {},
   "source": [
    "统计字符串中的中英文字符、数字空格，特殊字符"
   ]
  },
  {
   "cell_type": "code",
   "execution_count": null,
   "metadata": {
    "pycharm": {
     "name": "#%%\n"
    }
   },
   "outputs": [],
   "source": [
    "# -*- coding:utf8 -*-\n",
    "import string\n",
    "from collections import namedtuple\n",
    "\n",
    "def str_count(s):\n",
    "    '''找出字符串中的中英文、空格、数字、标点符号个数'''\n",
    "    count_en = count_dg = count_sp = count_zh = count_pu = 0\n",
    "\n",
    "    s_len = len(s)\n",
    "    for c in s:\n",
    "        # 英文\n",
    "        if c in string.ascii_letters:\n",
    "            count_en += 1\n",
    "        # 数字\n",
    "        elif c.isdigit():\n",
    "            count_dg += 1\n",
    "        # 空格\n",
    "        elif c.isspace():\n",
    "            count_sp += 1\n",
    "        # 中文\n",
    "        elif c.isalpha():\n",
    "            count_zh += 1\n",
    "        # 特殊字符\n",
    "        else:\n",
    "            count_pu += 1\n",
    "\n",
    "    total_chars = count_zh + count_en + count_sp + count_dg + count_pu\n",
    "    if total_chars == s_len:\n",
    "        return namedtuple('Count', ['total', 'zh', 'en', 'space', 'digit', 'punc'])\\\n",
    "                                    (s_len, count_zh, count_en,count_sp, count_dg, count_pu)\n",
    "    else:\n",
    "        print('Something is wrong!')\n",
    "        return None\n",
    "\n",
    "if __name__ == '__main__':\n",
    "    str_l = \"Python程序设计.。\"\n",
    "    count = str_count(str_l)\n",
    "    print(str_l, end='\\n')\n",
    "    print('该字符串共有 {} 个字符，其中有 {} 个汉字，{} 个英文，{} 个空格，{} 个数字，{} 个标点符号。'\\\n",
    "          .format(count.total, count.zh, count.en, count.space,count.digit, count.punc))"
   ]
  },
  {
   "cell_type": "code",
   "execution_count": null,
   "metadata": {
    "pycharm": {
     "name": "#%%\n"
    }
   },
   "outputs": [],
   "source": [
    "'Python程序设计'.encode('utf8').decode('cp936')"
   ]
  },
  {
   "cell_type": "code",
   "execution_count": null,
   "metadata": {
    "pycharm": {
     "name": "#%%\n"
    }
   },
   "outputs": [],
   "source": [
    "'Python程序设计'.encode('cp936').decode('utf8')"
   ]
  },
  {
   "cell_type": "raw",
   "metadata": {},
   "source": [
    "在Python中，字符串属于不可变序列类型，除了支持序列通用方法（包括分片操作）以外，还支持特有的字符串操作方法。如upper()、lower()、swapcase()、ljust()、rjust()、find()、replace()等"
   ]
  },
  {
   "cell_type": "code",
   "execution_count": null,
   "metadata": {
    "pycharm": {
     "name": "#%%\n"
    }
   },
   "outputs": [],
   "source": [
    "str1='Python程序设计'"
   ]
  },
  {
   "cell_type": "code",
   "execution_count": null,
   "metadata": {
    "pycharm": {
     "name": "#%%\n"
    }
   },
   "outputs": [],
   "source": [
    "x=str1[6]\n",
    "x"
   ]
  },
  {
   "cell_type": "code",
   "execution_count": null,
   "metadata": {
    "pycharm": {
     "name": "#%%\n"
    }
   },
   "outputs": [],
   "source": [
    "str1[6]='3'"
   ]
  },
  {
   "cell_type": "code",
   "execution_count": null,
   "metadata": {
    "pycharm": {
     "name": "#%%\n"
    }
   },
   "outputs": [],
   "source": [
    "str1[:6]"
   ]
  },
  {
   "cell_type": "code",
   "execution_count": null,
   "metadata": {
    "pycharm": {
     "name": "#%%\n"
    }
   },
   "outputs": [],
   "source": [
    "str2 = '====== 结果 ====='\n",
    "str2.strip('=')"
   ]
  },
  {
   "cell_type": "markdown",
   "metadata": {},
   "source": [
    "# 字符串格式化"
   ]
  },
  {
   "cell_type": "markdown",
   "metadata": {},
   "source": [
    "格式字符\n",
    "说明\n",
    "%s\n",
    "字符串 (采用str()的显示)\n",
    "%r\n",
    "字符串 (采用repr()的显示)\n",
    "%c\n",
    "单个字符\n",
    "%d\n",
    "十进制整数\n",
    "%i\n",
    "十进制整数\n",
    "%o\n",
    "八进制整数\n",
    "%x\n",
    "十六进制整数\n",
    "%e\n",
    "指数 (基底写为e)\n",
    "%E\n",
    "指数 (基底写为E)\n",
    "%f、%F\n",
    "浮点数\n",
    "%g\n",
    "指数(e)或浮点数 (根据显示长度)\n",
    "%G\n",
    "指数(E)或浮点数 (根据显示长度)\n",
    "%%\n",
    "一个字符\"%\""
   ]
  },
  {
   "cell_type": "code",
   "execution_count": null,
   "metadata": {
    "pycharm": {
     "name": "#%%\n"
    }
   },
   "outputs": [],
   "source": [
    "x = 12345\n",
    "sh = \"%x\" % x"
   ]
  },
  {
   "cell_type": "code",
   "execution_count": null,
   "metadata": {
    "pycharm": {
     "name": "#%%\n"
    }
   },
   "outputs": [],
   "source": [
    "se = \"%e\" % x\n",
    "print(se)"
   ]
  },
  {
   "cell_type": "code",
   "execution_count": null,
   "metadata": {
    "pycharm": {
     "name": "#%%\n"
    }
   },
   "outputs": [],
   "source": [
    "chr(ord(\"3\")+1)"
   ]
  },
  {
   "cell_type": "code",
   "execution_count": null,
   "metadata": {
    "pycharm": {
     "name": "#%%\n"
    }
   },
   "outputs": [],
   "source": [
    "print(\"The number {0:,} in hex is: {0:#x}, the number {1} in oct is {1:#o}\".format(5555,55))"
   ]
  },
  {
   "cell_type": "code",
   "execution_count": null,
   "metadata": {
    "pycharm": {
     "name": "#%%\n"
    }
   },
   "outputs": [],
   "source": [
    "position = (5, 8, 13)\n",
    "print(\"X:{0[0]};Y:{0[1]};Z:{0[2]}\".format(position))"
   ]
  },
  {
   "cell_type": "code",
   "execution_count": null,
   "metadata": {
    "pycharm": {
     "name": "#%%\n"
    }
   },
   "outputs": [],
   "source": [
    "'{0:<8d},{0:^8d},{0:>8d}'.format(65) #设置对齐方式"
   ]
  },
  {
   "cell_type": "code",
   "execution_count": null,
   "metadata": {
    "pycharm": {
     "name": "#%%\n"
    }
   },
   "outputs": [],
   "source": [
    "width = 10\n",
    "precision = 4\n",
    "value = 11/3\n",
    "f'result:{value:{width}.{precision}}'"
   ]
  },
  {
   "cell_type": "code",
   "execution_count": null,
   "metadata": {
    "pycharm": {
     "name": "#%%\n"
    }
   },
   "outputs": [],
   "source": [
    "name = 'Dong'\n",
    "age = 39\n",
    "f'My name is {name}, and I am {age} years old.'"
   ]
  },
  {
   "cell_type": "markdown",
   "metadata": {},
   "source": [
    "# 字符串常用方法"
   ]
  },
  {
   "cell_type": "markdown",
   "metadata": {},
   "source": [
    "S.find(sub[, start[, end]]) -> int:Return the lowest index in S where substring sub is found.Return -1 on failure"
   ]
  },
  {
   "cell_type": "code",
   "execution_count": null,
   "metadata": {
    "pycharm": {
     "name": "#%%\n"
    }
   },
   "outputs": [],
   "source": [
    "s=\"apple,peach,banana,peach,pear\""
   ]
  },
  {
   "cell_type": "code",
   "execution_count": null,
   "metadata": {
    "pycharm": {
     "name": "#%%\n"
    }
   },
   "outputs": [],
   "source": [
    "s.find(\"peach\")"
   ]
  },
  {
   "cell_type": "code",
   "execution_count": null,
   "metadata": {
    "pycharm": {
     "name": "#%%\n"
    }
   },
   "outputs": [],
   "source": [
    "s.find(\"peach\",7)"
   ]
  },
  {
   "cell_type": "code",
   "execution_count": null,
   "metadata": {
    "pycharm": {
     "name": "#%%\n"
    }
   },
   "outputs": [],
   "source": [
    "s.find(\"peach\",7,20)"
   ]
  },
  {
   "cell_type": "code",
   "execution_count": null,
   "metadata": {
    "pycharm": {
     "name": "#%%\n"
    }
   },
   "outputs": [],
   "source": [
    "s.rfind('p')"
   ]
  },
  {
   "cell_type": "markdown",
   "metadata": {},
   "source": [
    "S.index(sub[, start[, end]]) ->  Return the lowest index in S where substring sub is found, Raises ValueError when the substring is not found."
   ]
  },
  {
   "cell_type": "code",
   "execution_count": null,
   "metadata": {
    "pycharm": {
     "name": "#%%\n"
    }
   },
   "outputs": [],
   "source": [
    "s.index('p')"
   ]
  },
  {
   "cell_type": "code",
   "execution_count": null,
   "metadata": {
    "pycharm": {
     "name": "#%%\n"
    }
   },
   "outputs": [],
   "source": [
    "s.index('pe')"
   ]
  },
  {
   "cell_type": "code",
   "execution_count": null,
   "metadata": {
    "pycharm": {
     "name": "#%%\n"
    }
   },
   "outputs": [],
   "source": [
    "s.index('ppp')"
   ]
  },
  {
   "cell_type": "code",
   "execution_count": null,
   "metadata": {
    "pycharm": {
     "name": "#%%\n"
    }
   },
   "outputs": [],
   "source": [
    "s.count('ppp')"
   ]
  },
  {
   "cell_type": "markdown",
   "metadata": {},
   "source": [
    "查找字符串中每个字符的第一次出现"
   ]
  },
  {
   "cell_type": "code",
   "execution_count": null,
   "metadata": {
    "pycharm": {
     "name": "#%%\n"
    }
   },
   "outputs": [],
   "source": [
    "text = '''\n",
    "东边来个小朋友叫小松，手里拿着一捆葱。\n",
    "西边来个小朋友叫小丛，手里拿着小闹钟。\n",
    "小松手里葱捆得松，掉在地上一些葱。\n",
    "小丛忙放闹钟去拾葱，帮助小松捆紧葱.\n",
    "小松夸小丛像雷锋，小丛说小松爱劳动。\n",
    "'''\n",
    "\n",
    "for index, ch in enumerate(text):\n",
    "    if index == text.index(ch):\n",
    "        print((index, ch), end= '')"
   ]
  },
  {
   "cell_type": "markdown",
   "metadata": {},
   "source": [
    "统计每个字符出现的次数"
   ]
  },
  {
   "cell_type": "code",
   "execution_count": null,
   "metadata": {
    "pycharm": {
     "name": "#%%\n"
    }
   },
   "outputs": [],
   "source": [
    "res = dict()\n",
    "for index, ch in enumerate(text):\n",
    "    if ch in res.keys():\n",
    "        res[ch] += 1\n",
    "    else:\n",
    "        res.update({ch:1})\n",
    "\n",
    "print(res)\n",
    "print(sorted(res.items(),key=lambda item:item[1],reverse=True))\n",
    "dict(sorted(res.items(),key=lambda item:item[1],reverse=True))"
   ]
  },
  {
   "cell_type": "code",
   "execution_count": null,
   "metadata": {
    "pycharm": {
     "name": "#%%\n"
    }
   },
   "outputs": [],
   "source": [
    "s = \"apple,peach,banana,pear\"\n",
    "s.split(\",\")"
   ]
  },
  {
   "cell_type": "code",
   "execution_count": null,
   "metadata": {
    "pycharm": {
     "name": "#%%\n"
    }
   },
   "outputs": [],
   "source": [
    "s.partition(',')"
   ]
  },
  {
   "cell_type": "code",
   "execution_count": null,
   "metadata": {
    "pycharm": {
     "name": "#%%\n"
    }
   },
   "outputs": [],
   "source": [
    "s.rpartition(',')"
   ]
  },
  {
   "cell_type": "code",
   "execution_count": null,
   "metadata": {
    "pycharm": {
     "name": "#%%\n"
    }
   },
   "outputs": [],
   "source": [
    "s.rpartition('banana')"
   ]
  },
  {
   "cell_type": "code",
   "execution_count": null,
   "metadata": {
    "pycharm": {
     "name": "#%%\n"
    }
   },
   "outputs": [],
   "source": [
    "li = [\"apple\", \"peach\", \"banana\", \"pear\"]\n",
    "','.join(li)"
   ]
  },
  {
   "cell_type": "code",
   "execution_count": null,
   "metadata": {
    "pycharm": {
     "name": "#%%\n"
    }
   },
   "outputs": [],
   "source": [
    "'.'.join(li)"
   ]
  },
  {
   "cell_type": "code",
   "execution_count": null,
   "metadata": {
    "pycharm": {
     "name": "#%%\n"
    }
   },
   "outputs": [],
   "source": [
    "'::'.join(li)"
   ]
  },
  {
   "cell_type": "markdown",
   "metadata": {},
   "source": [
    "将字符串重复指定次数，并使用指定的分隔符进行连接，结果字符串最后不带分隔符。"
   ]
  },
  {
   "cell_type": "code",
   "execution_count": null,
   "metadata": {
    "pycharm": {
     "name": "#%%\n"
    }
   },
   "outputs": [],
   "source": [
    "def concat(s, n, separator):\n",
    "    return separator.join([s]*n)\n",
    "\n",
    "print(concat('good', 5, ','))"
   ]
  },
  {
   "cell_type": "code",
   "execution_count": null,
   "metadata": {
    "pycharm": {
     "name": "#%%\n"
    }
   },
   "outputs": [],
   "source": [
    "','.join(\"good\"*5)"
   ]
  },
  {
   "cell_type": "code",
   "execution_count": null,
   "metadata": {
    "pycharm": {
     "name": "#%%\n"
    }
   },
   "outputs": [],
   "source": [
    "((\"good\"+',')*5)[:-1]"
   ]
  },
  {
   "cell_type": "markdown",
   "metadata": {},
   "source": [
    "使用列表推导式生成100个字符串"
   ]
  },
  {
   "cell_type": "code",
   "execution_count": null,
   "metadata": {
    "pycharm": {
     "name": "#%%\n"
    }
   },
   "outputs": [],
   "source": [
    "strlist = [f'This is a long string that will not keep in memory.{n}' \n",
    "           for n in range(100)]\n",
    "strlist"
   ]
  },
  {
   "cell_type": "code",
   "execution_count": null,
   "metadata": {
    "pycharm": {
     "name": "#%%\n"
    }
   },
   "outputs": [],
   "source": [
    "#使用字符串对象的join()方法连接多个字符串\n",
    "def use_join():\n",
    "    return ''.join(strlist)\n",
    "\n",
    "use_join()"
   ]
  },
  {
   "cell_type": "markdown",
   "metadata": {},
   "source": [
    "Python字符串驻留机制：对于短字符串，将其赋值给多个不同的对象时，内存中只有一个副本，多个对象共享该副本。长字符串不遵守驻留机制。"
   ]
  },
  {
   "cell_type": "code",
   "execution_count": null,
   "metadata": {
    "pycharm": {
     "name": "#%%\n"
    }
   },
   "outputs": [],
   "source": [
    "str1 = \"hello\"\n",
    "str2 = \"hello\"\n",
    "strlist1 = 'This is a long string that will not keep in memory.' \n",
    "strlist2 = 'This is a long string that will not keep in memory.' "
   ]
  },
  {
   "cell_type": "code",
   "execution_count": null,
   "metadata": {
    "pycharm": {
     "name": "#%%\n"
    }
   },
   "outputs": [],
   "source": [
    "id(str1)"
   ]
  },
  {
   "cell_type": "code",
   "execution_count": null,
   "metadata": {
    "pycharm": {
     "name": "#%%\n"
    }
   },
   "outputs": [],
   "source": [
    "id(str2)"
   ]
  },
  {
   "cell_type": "code",
   "execution_count": null,
   "metadata": {
    "pycharm": {
     "name": "#%%\n"
    }
   },
   "outputs": [],
   "source": [
    "id(strlist1)"
   ]
  },
  {
   "cell_type": "code",
   "execution_count": null,
   "metadata": {
    "pycharm": {
     "name": "#%%\n"
    }
   },
   "outputs": [],
   "source": [
    "id(strlist2)"
   ]
  },
  {
   "cell_type": "markdown",
   "metadata": {},
   "source": [
    "凯撒加密，每个字母替换为后面第k个"
   ]
  },
  {
   "cell_type": "code",
   "execution_count": null,
   "metadata": {
    "pycharm": {
     "name": "#%%\n"
    }
   },
   "outputs": [],
   "source": [
    "from string import ascii_letters, ascii_lowercase, ascii_uppercase\n",
    "\n",
    "def kaisaEncrypt(text, k):\n",
    "    # 凯撒加密\n",
    "    lower = ascii_lowercase[k:]+ascii_lowercase[:k]\n",
    "    upper = ascii_uppercase[k:]+ascii_uppercase[:k]\n",
    "    table = ''.maketrans(ascii_letters, lower+upper)\n",
    "    return text.translate(table)\n",
    "\n",
    "s = \"Python is a greate programming language. I like it!\"\n",
    "print(kaisaEncrypt(s, 3))"
   ]
  },
  {
   "cell_type": "markdown",
   "metadata": {},
   "source": [
    "凯撒解密"
   ]
  },
  {
   "cell_type": "code",
   "execution_count": null,
   "metadata": {
    "pycharm": {
     "name": "#%%\n"
    }
   },
   "outputs": [],
   "source": [
    "def check(text):\n",
    "    # 测试文本中是否存在至少两个最常见的英语单词\n",
    "    # 列表可扩展，规则可调整\n",
    "    mostCommonWords = ('the', 'is', 'to', 'not', 'have', 'than', 'for')\n",
    "    return sum(1 for word in mostCommonWords if word in text)>=2\n",
    "\n",
    "# 测试\n",
    "text = 'Beautiful is better than ugly.'\n",
    "# 加密\n",
    "encryptedText = kaisaEncrypt(text, 20)\n",
    "encryptedText"
   ]
  },
  {
   "cell_type": "code",
   "execution_count": null,
   "metadata": {
    "pycharm": {
     "name": "#%%\n"
    }
   },
   "outputs": [],
   "source": [
    "# 暴力破解\n",
    "for i in range(1, 26):\n",
    "    t = kaisaEncrypt(encryptedText, -i)\n",
    "    if check(t):\n",
    "        print(i)\n",
    "        print(t)\n",
    "        break"
   ]
  },
  {
   "cell_type": "code",
   "execution_count": null,
   "metadata": {
    "pycharm": {
     "name": "#%%\n"
    }
   },
   "outputs": [],
   "source": [
    "from datetime import datetime    # strftime() style string\n",
    "print( datetime.now().strftime('%y-%m-%d').center(50,'=') )"
   ]
  },
  {
   "cell_type": "markdown",
   "metadata": {},
   "source": [
    "# 字符串常量"
   ]
  },
  {
   "cell_type": "code",
   "execution_count": null,
   "metadata": {
    "pycharm": {
     "name": "#%%\n"
    }
   },
   "outputs": [],
   "source": [
    "import string\n",
    "string.digits\n",
    "'0123456789'\n",
    "string.punctuation\n",
    "'!\"#$%&\\'()*+,-./:;<=>?@[\\\\]^_`{|}~'\n",
    "string.ascii_letters\n",
    "'abcdefghijklmnopqrstuvwxyzABCDEFGHIJKLMNOPQRSTUVWXYZ'\n",
    "string.ascii_lowercase\n",
    "'abcdefghijklmnopqrstuvwxyz'\n",
    "string.ascii_uppercase"
   ]
  },
  {
   "cell_type": "markdown",
   "metadata": {},
   "source": [
    "# 可变字符串"
   ]
  },
  {
   "cell_type": "code",
   "execution_count": null,
   "metadata": {
    "pycharm": {
     "name": "#%%\n"
    }
   },
   "outputs": [],
   "source": [
    "import io\n",
    "s = \"Hello, world\"\n",
    "sio = io.StringIO(s)\n",
    "sio.getvalue()\n"
   ]
  },
  {
   "cell_type": "code",
   "execution_count": null,
   "metadata": {
    "pycharm": {
     "name": "#%%\n"
    }
   },
   "outputs": [],
   "source": [
    "sio.seek(7)\n",
    "\n",
    "sio.write(\"there!\")\n",
    "\n",
    "sio.getvalue()"
   ]
  },
  {
   "cell_type": "code",
   "execution_count": null,
   "metadata": {
    "pycharm": {
     "name": "#%%\n"
    }
   },
   "outputs": [],
   "source": [
    "import array     # array — Efficient arrays of numeric values\n",
    "s = \"Hello, there\"\n",
    "a = array.array('u', s)   # Unicode character\n",
    "print(a)"
   ]
  },
  {
   "cell_type": "code",
   "execution_count": null,
   "metadata": {
    "pycharm": {
     "name": "#%%\n"
    }
   },
   "outputs": [],
   "source": [
    "from array import array\n",
    "array('u', 'Hello, world')"
   ]
  },
  {
   "cell_type": "code",
   "execution_count": null,
   "metadata": {
    "pycharm": {
     "name": "#%%\n"
    }
   },
   "outputs": [],
   "source": [
    "a[0] = 'y'\n",
    "print(a)\n",
    "array('u', 'yello, world')\n",
    "a.tounicode()"
   ]
  },
  {
   "cell_type": "markdown",
   "metadata": {},
   "source": [
    "# 中文分词"
   ]
  },
  {
   "cell_type": "code",
   "execution_count": null,
   "metadata": {
    "pycharm": {
     "name": "#%%\n"
    }
   },
   "outputs": [],
   "source": [
    "import jieba  # 导入jieba模块\n",
    "\n",
    "x = '分词的准确度直接影响了后续文本处理和挖掘算法的最终效果。'\n",
    "y = jieba.cut(x)  # 使用默认词库进行分词\n",
    "print(list(y))\n",
    "\n",
    "y = jieba.lcut('Python高级编程，Python爬虫开发宝典')  # 直接给出列表\n",
    "print(y)\n",
    "\n",
    "jieba.del_word('花纸杯')\n",
    "print(list(jieba.cut('花纸杯')))"
   ]
  },
  {
   "cell_type": "code",
   "execution_count": null,
   "metadata": {
    "pycharm": {
     "name": "#%%\n"
    }
   },
   "outputs": [],
   "source": [
    "jieba.add_word('花纸杯')  # 增加词条\n",
    "list(jieba.cut('花纸杯'))  # 使用新题库进行分词"
   ]
  },
  {
   "cell_type": "code",
   "execution_count": null,
   "metadata": {
    "pycharm": {
     "name": "#%%\n"
    }
   },
   "outputs": [],
   "source": [
    "from jieba import posseg\n",
    "text = '分词的准确度直接影响了后续文本处理和挖掘算法的最终效果。'\n",
    "for word, tag in posseg.cut(text):  # 得到分词及其词性\n",
    "    print(word, tag, sep=':')"
   ]
  },
  {
   "cell_type": "markdown",
   "metadata": {},
   "source": [
    "过滤字符串中的空白字符和中英文标点符号。"
   ]
  },
  {
   "cell_type": "code",
   "execution_count": null,
   "metadata": {
    "pycharm": {
     "name": "#%%\n"
    }
   },
   "outputs": [],
   "source": [
    "from random import choice\n",
    "from jieba import cut\n",
    "\n",
    "def delPuncs(s):\n",
    "    f = lambda word: len(word)>1 or '\\u4e00'<=word<='\\u9fa5'\n",
    "    return ''.join(filter(f, cut(s)))\n",
    "\n",
    "sentence = '''\n",
    "东边来个小朋友叫小松，手里拿着一捆葱。\n",
    "西边来个小朋友叫小丛，手里拿着小闹钟。\n",
    "小松手里葱捆得松，掉在地上一些葱。\n",
    "小丛忙放闹钟去拾葱，帮助小松捆紧葱.\n",
    "小松夸小丛像雷锋，小丛说小松爱劳动。\n",
    "'''\n",
    "\n",
    "print(delPuncs(sentence))"
   ]
  },
  {
   "cell_type": "markdown",
   "metadata": {},
   "source": [
    "# 中文转换为拼音"
   ]
  },
  {
   "cell_type": "code",
   "execution_count": null,
   "metadata": {
    "pycharm": {
     "name": "#%%\n"
    }
   },
   "outputs": [],
   "source": [
    "from pypinyin import lazy_pinyin, pinyin\n",
    "lazy_pinyin('张国庆')               #返回拼音\n",
    "\n",
    "lazy_pinyin('张国庆', 1)            #带声调的拼音\n",
    "\n",
    "lazy_pinyin('张国庆', 2)            #另一种拼音形式，数字表示前面字母的声调\n",
    "\n",
    "lazy_pinyin('张国庆', 3)            #只返回拼音首字母\n",
    "\n",
    "lazy_pinyin('重要', 1)              #能够根据词组智能识别多音字\n",
    "\n",
    "lazy_pinyin('重阳', 1)\n",
    "\n",
    "pinyin('重阳')                      #返回拼音\n",
    "\n",
    "pinyin('重阳节', heteronym=True)    #返回多音字的所有读音"
   ]
  },
  {
   "cell_type": "code",
   "execution_count": null,
   "metadata": {
    "pycharm": {
     "name": "#%%\n"
    }
   },
   "outputs": [],
   "source": [
    "import jieba                       #其实不需要导入jieba，这里只是说明已安装\n",
    "from pypinyin import lazy_pinyin\n",
    "x = '中英文混合test123'"
   ]
  },
  {
   "cell_type": "code",
   "execution_count": null,
   "metadata": {
    "pycharm": {
     "name": "#%%\n"
    }
   },
   "outputs": [],
   "source": [
    "lazy_pinyin(x)                     #自动调用已安装的jieba扩展库分词功能"
   ]
  },
  {
   "cell_type": "code",
   "execution_count": null,
   "metadata": {
    "pycharm": {
     "name": "#%%\n"
    }
   },
   "outputs": [],
   "source": [
    "lazy_pinyin(jieba.cut(x))"
   ]
  },
  {
   "cell_type": "code",
   "execution_count": null,
   "metadata": {
    "pycharm": {
     "name": "#%%\n"
    }
   },
   "outputs": [],
   "source": [
    "x = '浙江宁波的杨梅真好吃呀'\n",
    "sorted(x, key=lambda ch: lazy_pinyin(ch)) #按拼音对汉字进行排序"
   ]
  },
  {
   "cell_type": "markdown",
   "metadata": {},
   "source": [
    "# 字符串应用案例"
   ]
  },
  {
   "cell_type": "markdown",
   "metadata": {},
   "source": [
    "有一些句子和一些关键词，现在想找出包含至少一个关键词的那些句子（文本嗅探），或者想进一步计算每个句子中的关键词占比（句子中所有关键词长度之和/句子长度）。关键词占比是比较常用的一个文本分类标准。"
   ]
  },
  {
   "cell_type": "code",
   "execution_count": null,
   "metadata": {
    "pycharm": {
     "name": "#%%\n"
    }
   },
   "outputs": [],
   "source": [
    "from random import choice\n",
    "from string import ascii_letters\n",
    "\n",
    "def check(sentences, words):\n",
    "    '''返回包含至少一个关键词的句子列表'''\n",
    "    return [sentence \\\n",
    "            for sentence in sentences \\\n",
    "            if sum(sentence.count(word) for word in words)>0]"
   ]
  },
  {
   "cell_type": "code",
   "execution_count": null,
   "metadata": {
    "pycharm": {
     "name": "#%%\n"
    }
   },
   "outputs": [],
   "source": [
    "sentences = ['This is a test.',\n",
    "             'Beautiful is better than ugly.',\n",
    "             'Explicit is better than implicit.',\n",
    "             'Simple is better than complex.',\n",
    "             'Sparse is better than dense.',\n",
    "             'Readability counts.',\n",
    "             'Now is better than never.']\n",
    "words = ['test', 'count', 'dense', 'is', 'simple']"
   ]
  },
  {
   "cell_type": "code",
   "execution_count": null,
   "metadata": {
    "pycharm": {
     "name": "#%%\n"
    }
   },
   "outputs": [],
   "source": [
    "result = check(sentences, words)\n",
    "for item in result:\n",
    "    print(item)\n",
    "\n",
    "print('='*30)\n",
    "# 计算每个句子中所有关键字总长度的占比\n",
    "d = {sentence:round(sum(sentence.count(word)*len(word)\\\n",
    "                        for word in words)/len(sentence),3)\\\n",
    "     for sentence in result}\n",
    "for item in d.items():\n",
    "    print(item)"
   ]
  },
  {
   "cell_type": "markdown",
   "metadata": {},
   "source": [
    "给定任意字符串，查找其中每个字符的最后一次出现，并按每个字符最后一次出现的先后顺序依次存入列表。例如对于字符串'abcda'的处理结果为['b', 'c', 'd', 'a']，而字符串'abcbda'的处理结果为['c', 'b', 'd', 'a']。"
   ]
  },
  {
   "cell_type": "code",
   "execution_count": null,
   "metadata": {
    "pycharm": {
     "name": "#%%\n"
    }
   },
   "outputs": [],
   "source": [
    "s = 'aaaabcdawerasdfasdfwerngsnnvAAAweB3a'"
   ]
  },
  {
   "cell_type": "code",
   "execution_count": null,
   "metadata": {
    "pycharm": {
     "name": "#%%\n"
    }
   },
   "outputs": [],
   "source": [
    "# 使用列表\n",
    "result = []\n",
    "for ch in s:\n",
    "    if ch in result:\n",
    "        result.remove(ch)\n",
    "    result.append(ch)\n",
    "print(result)"
   ]
  },
  {
   "cell_type": "code",
   "execution_count": null,
   "metadata": {
    "pycharm": {
     "name": "#%%\n"
    }
   },
   "outputs": [],
   "source": [
    "# 使用正则表达式\n",
    "import re\n",
    "print(re.findall(r'(\\w)(?!.*\\1)', s))"
   ]
  },
  {
   "cell_type": "code",
   "execution_count": null,
   "metadata": {
    "pycharm": {
     "name": "#%%\n"
    }
   },
   "outputs": [],
   "source": [
    "# 使用有序字典+内置函数\n",
    "from collections import OrderedDict\n",
    "print(list(reversed(OrderedDict.fromkeys(reversed(s)))))"
   ]
  },
  {
   "cell_type": "code",
   "execution_count": null,
   "metadata": {
    "pycharm": {
     "name": "#%%\n"
    }
   },
   "outputs": [],
   "source": [
    "# 使用推导式\n",
    "result = {ch:s.rindex(ch) for ch in set(s)}\n",
    "result = sorted(result.items(), key=lambda item:item[1])\n",
    "result = [item[0] for item in result]\n",
    "#result = list(map(lambda item:item[0], result))\n",
    "print(result)"
   ]
  },
  {
   "cell_type": "code",
   "execution_count": null,
   "metadata": {
    "pycharm": {
     "name": "#%%\n"
    }
   },
   "outputs": [],
   "source": [
    "sentences = ['This is a test.',\n",
    "             'Beautiful is better than ugly.',\n",
    "             'Explicit is better than implicit.',\n",
    "             'Simple is better than complex.',\n",
    "             'Sparse is better than dense.',\n",
    "             'Readability counts.',\n",
    "             'Now is better than never.']\n",
    "words = ['test', 'count', 'dense', 'is', 'simple']"
   ]
  },
  {
   "cell_type": "code",
   "execution_count": null,
   "metadata": {
    "pycharm": {
     "name": "#%%\n"
    }
   },
   "outputs": [],
   "source": [
    "result = check(sentences, words)\n",
    "for item in result:\n",
    "    print(item)\n",
    "\n",
    "print('='*30)\n",
    "# 计算每个句子中所有关键字总长度的占比\n",
    "d = {sentence:round(sum(sentence.count(word)*len(word)\\\n",
    "                        for word in words)/len(sentence),3)\\\n",
    "     for sentence in result}\n",
    "for item in d.items():\n",
    "    print(item)"
   ]
  },
  {
   "cell_type": "markdown",
   "metadata": {},
   "source": [
    "给定任意字符串，查找其中每个字符的最后一次出现，并按每个字符最后一次出现的先后顺序依次存入列表。例如对于字符串'abcda'的处理结果为['b', 'c', 'd', 'a']，而字符串'abcbda'的处理结果为['c', 'b', 'd', 'a']。"
   ]
  },
  {
   "cell_type": "code",
   "execution_count": null,
   "metadata": {
    "pycharm": {
     "name": "#%%\n"
    }
   },
   "outputs": [],
   "source": [
    "s = 'aaaabcdawerasdfasdfwerngsnnvAAAweB3a'"
   ]
  },
  {
   "cell_type": "code",
   "execution_count": null,
   "metadata": {
    "pycharm": {
     "name": "#%%\n"
    }
   },
   "outputs": [],
   "source": [
    "# 使用列表\n",
    "result = []\n",
    "for ch in s:\n",
    "    if ch in result:\n",
    "        result.remove(ch)\n",
    "    result.append(ch)\n",
    "print(result)"
   ]
  },
  {
   "cell_type": "code",
   "execution_count": null,
   "metadata": {
    "pycharm": {
     "name": "#%%\n"
    }
   },
   "outputs": [],
   "source": [
    "# 使用正则表达式\n",
    "import re\n",
    "print(re.findall(r'(\\w)(?!.*\\1)', s))"
   ]
  },
  {
   "cell_type": "code",
   "execution_count": null,
   "metadata": {
    "pycharm": {
     "name": "#%%\n"
    }
   },
   "outputs": [],
   "source": [
    "# 使用有序字典+内置函数\n",
    "from collections import OrderedDict\n",
    "print(list(reversed(OrderedDict.fromkeys(reversed(s)))))"
   ]
  },
  {
   "cell_type": "code",
   "execution_count": null,
   "metadata": {
    "pycharm": {
     "name": "#%%\n"
    }
   },
   "outputs": [],
   "source": [
    "# 使用推导式\n",
    "result = {ch:s.rindex(ch) for ch in set(s)}\n",
    "result = sorted(result.items(), key=lambda item:item[1])\n",
    "result = [item[0] for item in result]\n",
    "#result = list(map(lambda item:item[0], result))\n",
    "print(result)"
   ]
  },
  {
   "cell_type": "markdown",
   "metadata": {},
   "source": []
  }
 ],
 "metadata": {
  "kernelspec": {
   "display_name": "Python 3",
   "language": "python",
   "name": "python3"
  },
  "language_info": {
   "codemirror_mode": {
    "name": "ipython",
    "version": 3
   },
   "file_extension": ".py",
   "mimetype": "text/x-python",
   "name": "python",
   "nbconvert_exporter": "python",
   "pygments_lexer": "ipython3",
   "version": "3.7.4"
  }
 },
 "nbformat": 4,
 "nbformat_minor": 1
}