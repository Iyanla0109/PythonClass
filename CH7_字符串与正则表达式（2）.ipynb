{
 "cells": [
  {
   "cell_type": "markdown",
   "metadata": {},
   "source": [
    "# 正则表达式"
   ]
  },
  {
   "cell_type": "markdown",
   "metadata": {},
   "source": [
    "正则表达式使用某种预定义的模式去匹配一类具有共同特征的字符串，主要用于处理字符串，可以快速、准确地完成复杂的查找、替换等处理要求，在文本编辑与处理、网页爬虫之类的场合中有重要应用"
   ]
  },
  {
   "cell_type": "markdown",
   "metadata": {},
   "source": [
    "# 正则表达式语法"
   ]
  },
  {
   "cell_type": "markdown",
   "metadata": {},
   "source": [
    ".\n",
    "匹配除换行符以外的任意单个字符\n",
    "*\n",
    "匹配位于*之前的字符或子模式的0次或多次出现\n",
    "+\n",
    "匹配位于+之前的字符或子模式的1次或多次出现\n",
    "-\n",
    "在[]之内用来表示范围\n",
    "|\n",
    "匹配位于|之前或之后的字符\n",
    "^\n",
    "匹配行首，匹配以^后面的字符开头的字符串\n",
    "$\n",
    "匹配行尾，匹配以$之前的字符结束的字符串\n",
    "?\n",
    "匹配位于?之前的0个或1个字符。当此字符紧随任何其他限定符（*、+、?、{n}、{n,}、{n,m}）之后时，匹配模式是“非贪心的”。“非贪心的”模式匹配搜索到的、尽可能短的字符串，而默认的“贪心的”模式匹配搜索到的、尽可能长的字符串。例如，在字符串“oooo”中，“o+?”只匹配单个“o”，而“o+”匹配所有“o”\n",
    "\\\n",
    "表示位于\\之后的为转义字符\n",
    "\\num\n",
    "此处的num是一个正整数，表示子模式编号。\n",
    "例如，“(.)\\1”匹配两个连续的相同字符\n",
    "\\f\n",
    "换页符匹配\n",
    "\\n\n",
    "换行符匹配"
   ]
  },
  {
   "cell_type": "markdown",
   "metadata": {},
   "source": [
    "\\r\n",
    "匹配一个回车符\n",
    "\\b\n",
    "匹配单词头或单词尾\n",
    "\\B\n",
    "与\\b含义相反\n",
    "\\d\n",
    "匹配任何数字，相当于[0-9]\n",
    "\\D\n",
    "与\\d含义相反，等效于[^0-9]\n",
    "\\s\n",
    "匹配任何空白字符，包括空格、制表符、换页符，与 [ \\f\\n\\r\\t\\v] 等效\n",
    "\\S\n",
    "与\\s含义相反\n",
    "\\w\n",
    "匹配任何字母、数字以及下划线，相当于[a-zA-Z0-9_]\n",
    "\\W\n",
    "与\\w含义相反\\w含义相反，与“[^A-Za-z0-9_]”等效\n",
    "()\n",
    "将位于()内的内容作为一个整体来对待\n",
    "{m,n}\n",
    "{}前的字符或子模式重复至少m次，至多n次\n",
    "[]\n",
    "表示范围，匹配位于[]中的任意一个字符\n",
    "[^xyz]\n",
    "反向字符集，匹配除x、y、z之外的任何字符\n",
    "[a-z]\n",
    "字符范围，匹配指定范围内的任何字符\n",
    "[^a-z]\n",
    "反向范围字符，匹配除小写英文字母之外的任何字符\n"
   ]
  },
  {
   "cell_type": "markdown",
   "metadata": {},
   "source": [
    "# re模块主要方法"
   ]
  },
  {
   "cell_type": "markdown",
   "metadata": {},
   "source": [
    "方法\n",
    "功能说明\n",
    "compile(pattern[, flags])\n",
    "创建模式对象\n",
    "escape(string)\n",
    "将字符串中所有特殊正则表达式字符转义\n",
    "findall(pattern, string[, flags])\n",
    "返回包含字符串中所有与给定模式匹配的项的列表\n",
    "finditer(pattern, string, flags=0)\n",
    "返回包含所有匹配项的迭代对象，其中每个匹配项都是match对象\n",
    "fullmatch(pattern, string, flags=0)\n",
    "尝试把模式作用于整个字符串，返回match对象或None\n",
    "match(pattern, string[, flags])\n",
    "从字符串的开始处匹配模式，返回match对象或None\n",
    "purge()\n",
    "清空正则表达式缓存\n",
    "search(pattern, string[, flags])\n",
    "在整个字符串中寻找模式，返回match对象或None\n",
    "split(pattern, string[, maxsplit=0])\n",
    "根据模式匹配项分隔字符串\n",
    "sub(pat, repl, string[, count=0])\n",
    "将字符串中所有与pat匹配的项用repl替换，返回新字符串，repl可以是字符串或返回字符串的可调用对象，作用于每个匹配的match对象\n",
    "subn(pat, repl, string[, count=0])\n",
    "将字符串中所有pat的匹配项用repl替换，返回包含新字符串和替换次数的二元元组\n",
    "repl可以是字符串或返回字符串的可调用对象，\n",
    "作用于每个匹配的match对象"
   ]
  },
  {
   "cell_type": "markdown",
   "metadata": {},
   "source": [
    "# 直接使用re模块"
   ]
  },
  {
   "cell_type": "code",
   "execution_count": null,
   "metadata": {
    "pycharm": {
     "name": "#%%\n"
    }
   },
   "outputs": [],
   "source": [
    "import re                            #导入re模块\n",
    "text = 'alpha. beta....gamma delta'  #测试用的字符串\n",
    "text.split('.')"
   ]
  },
  {
   "cell_type": "code",
   "execution_count": null,
   "metadata": {
    "pycharm": {
     "name": "#%%\n"
    }
   },
   "outputs": [],
   "source": [
    "re.split('[\\. ]+', text)             #使用指定字符作为分隔符进行分隔"
   ]
  },
  {
   "cell_type": "code",
   "execution_count": null,
   "metadata": {
    "pycharm": {
     "name": "#%%\n"
    }
   },
   "outputs": [],
   "source": [
    "re.split('[\\. ]+', text, maxsplit=2) #最多分隔2次"
   ]
  },
  {
   "cell_type": "code",
   "execution_count": null,
   "metadata": {
    "pycharm": {
     "name": "#%%\n"
    }
   },
   "outputs": [],
   "source": [
    "re.split('[\\. ]+', text, maxsplit=1) #最多分隔1次"
   ]
  },
  {
   "cell_type": "code",
   "execution_count": null,
   "metadata": {
    "pycharm": {
     "name": "#%%\n"
    }
   },
   "outputs": [],
   "source": [
    "pat = '[a-zA-Z]+'\n",
    "re.findall(pat, text)                #查找所有单词"
   ]
  },
  {
   "cell_type": "markdown",
   "metadata": {},
   "source": [
    "把单词中间误写作大写的字母改为小写："
   ]
  },
  {
   "cell_type": "code",
   "execution_count": null,
   "metadata": {
    "pycharm": {
     "name": "#%%\n"
    }
   },
   "outputs": [],
   "source": [
    "import re\n",
    "def checkModify(s):\n",
    "    return re.sub(r'\\b(\\w)(\\w+)(\\w)\\b',\\\n",
    "                  lambda x: x.group(1)+x.group(2).lower()+x.group(3),\\\n",
    "                  s)\n",
    "print(checkModify('aBc ABBC D eeee fFFFfF'))"
   ]
  },
  {
   "cell_type": "code",
   "execution_count": null,
   "metadata": {
    "pycharm": {
     "name": "#%%\n"
    }
   },
   "outputs": [],
   "source": [
    "pat = '{name}'\n",
    "text = 'Dear {name}...'\n",
    "re.sub(pat, 'Mr.Dong', text)        #字符串替换"
   ]
  },
  {
   "cell_type": "code",
   "execution_count": null,
   "metadata": {
    "pycharm": {
     "name": "#%%\n"
    }
   },
   "outputs": [],
   "source": [
    "s = 'a s d'\n",
    "re.sub('a|s|d', 'good', s)          #字符串替换"
   ]
  },
  {
   "cell_type": "code",
   "execution_count": null,
   "metadata": {
    "pycharm": {
     "name": "#%%\n"
    }
   },
   "outputs": [],
   "source": [
    "s = \"It's a very good good idea\"\n",
    "re.sub(r'(\\b\\w+) \\1', r'\\1', s)     #处理连续的重复单词"
   ]
  },
  {
   "cell_type": "code",
   "execution_count": null,
   "metadata": {
    "pycharm": {
     "name": "#%%\n"
    }
   },
   "outputs": [],
   "source": [
    "re.sub(r'((\\w+) )\\1', r'\\2', s)"
   ]
  },
  {
   "cell_type": "code",
   "execution_count": null,
   "metadata": {
    "pycharm": {
     "name": "#%%\n"
    }
   },
   "outputs": [],
   "source": [
    "re.sub('a', lambda x:x.group(0).upper(),'aaa abc abde') #repl为可调用对象"
   ]
  },
  {
   "cell_type": "code",
   "execution_count": null,
   "metadata": {
    "pycharm": {
     "name": "#%%\n"
    }
   },
   "outputs": [],
   "source": [
    "example = 'Beautiful is better than ugly.'\n",
    "re.findall('\\\\bb.+?\\\\b', example)  #以字母b开头的完整单词  #此处问号?表示非贪心模式"
   ]
  },
  {
   "cell_type": "code",
   "execution_count": null,
   "metadata": {
    "pycharm": {
     "name": "#%%\n"
    }
   },
   "outputs": [],
   "source": [
    "example = 'Beautiful is better than ugly.'\n",
    "re.findall(r'\\bb.+?\\b', example)  #以字母b开头的完整单词  #此处问号?表示非贪心模式"
   ]
  },
  {
   "cell_type": "code",
   "execution_count": null,
   "metadata": {
    "pycharm": {
     "name": "#%%\n"
    }
   },
   "outputs": [],
   "source": [
    "re.findall('\\\\bb.+\\\\b', example)   #贪心模式的匹配结果"
   ]
  },
  {
   "cell_type": "code",
   "execution_count": null,
   "metadata": {
    "pycharm": {
     "name": "#%%\n"
    }
   },
   "outputs": [],
   "source": [
    "re.findall('\\\\bb\\w*\\\\b', example)"
   ]
  },
  {
   "cell_type": "code",
   "execution_count": null,
   "metadata": {
    "pycharm": {
     "name": "#%%\n"
    }
   },
   "outputs": [],
   "source": [
    "re.findall('\\\\Bh.+?\\\\b', example)    #不以h开头且含有h字母的单词剩余部分"
   ]
  },
  {
   "cell_type": "code",
   "execution_count": null,
   "metadata": {
    "pycharm": {
     "name": "#%%\n"
    }
   },
   "outputs": [],
   "source": [
    "re.findall('\\\\b\\w.+?\\\\b', example)   #所有单词"
   ]
  },
  {
   "cell_type": "code",
   "execution_count": null,
   "metadata": {
    "pycharm": {
     "name": "#%%\n"
    }
   },
   "outputs": [],
   "source": [
    "re.findall('\\d+\\.\\d+\\.\\d+', 'Python 2.7.13')    #查找并返回x.x.x形式的数字"
   ]
  },
  {
   "cell_type": "code",
   "execution_count": null,
   "metadata": {
    "pycharm": {
     "name": "#%%\n"
    }
   },
   "outputs": [],
   "source": [
    "re.findall('\\d+\\.\\d+\\.\\d+', 'Python 2.7.13,Python 3.6.0')"
   ]
  },
  {
   "cell_type": "code",
   "execution_count": null,
   "metadata": {
    "pycharm": {
     "name": "#%%\n"
    }
   },
   "outputs": [],
   "source": [
    "s = '<html><head>This is head.</head><body>This is body.</body></html>'\n",
    "pattern = r'<html><head>(.+)</head><body>(.+)</body></html>'\n",
    "result = re.search(pattern, s)\n",
    "result.group(1)                 #第一个子模式"
   ]
  },
  {
   "cell_type": "code",
   "execution_count": null,
   "metadata": {
    "pycharm": {
     "name": "#%%\n"
    }
   },
   "outputs": [],
   "source": [
    "result.group(2)"
   ]
  },
  {
   "cell_type": "markdown",
   "metadata": {},
   "source": [
    "将一句话的单词进行倒置，标点不倒置。比如 I like beijing. 经过函数后变为：beijing. like I"
   ]
  },
  {
   "cell_type": "code",
   "execution_count": null,
   "metadata": {
    "pycharm": {
     "name": "#%%\n"
    }
   },
   "outputs": [],
   "source": [
    "def rev3(s):\n",
    "    '''考虑开头或结束有空格的情况'''\n",
    "    import re\n",
    "    t = re.split('\\s+', s.strip())\n",
    "    t.reverse()\n",
    "    return ' '.join(t)\n",
    "\n",
    "def rev4(s):\n",
    "    '''考虑开头或结束有空格的情况'''\n",
    "    import re\n",
    "    t = re.split('\\s+', s.strip())\n",
    "    return ' '.join(reversed(t))"
   ]
  },
  {
   "cell_type": "code",
   "execution_count": null,
   "metadata": {
    "pycharm": {
     "name": "#%%\n"
    }
   },
   "outputs": [],
   "source": [
    "str1 = 'I like beijing.'\n",
    "rev3(str1)"
   ]
  },
  {
   "cell_type": "markdown",
   "metadata": {},
   "source": [
    "查找字符串中最长的数字子串"
   ]
  },
  {
   "cell_type": "code",
   "execution_count": null,
   "metadata": {
    "pycharm": {
     "name": "#%%\n"
    }
   },
   "outputs": [],
   "source": [
    "def longest1(s):\n",
    "    '''查找所有连续数字'''\n",
    "    import re\n",
    "    t = re.findall('\\d+', s)\n",
    "    if t:\n",
    "        return max(t, key=len)\n",
    "    return 'No'"
   ]
  },
  {
   "cell_type": "code",
   "execution_count": null,
   "metadata": {
    "pycharm": {
     "name": "#%%\n"
    }
   },
   "outputs": [],
   "source": [
    "str2 = 'Regular expressions are used in search engines 1, search and replace dialogs of word processors and text editors 22, in text processing utilities such as sed and AWK and in lexical analysis 3. Many programming languages provide regex capabilities either built-in or via libraries. 4'\n",
    "longest1(str2)"
   ]
  },
  {
   "cell_type": "markdown",
   "metadata": {},
   "source": [
    "# 使用正则表达式对象"
   ]
  },
  {
   "cell_type": "markdown",
   "metadata": {},
   "source": [
    "正则表达式对象的match(string[, pos[, endpos]])方法用于在字符串开头或指定位置进行搜索，模式必须出现在字符串开头或指定位置；\n",
    "正则表达式对象的search(string[, pos[, endpos]])方法用于在整个字符串中进行搜索；\n",
    "正则表达式对象的findall(string[, pos[, endpos]])方法用于在字符串中查找所有符合正则表达式的字符串并返回列表。"
   ]
  },
  {
   "cell_type": "code",
   "execution_count": null,
   "metadata": {
    "pycharm": {
     "name": "#%%\n"
    }
   },
   "outputs": [],
   "source": [
    "import re\n",
    "example = 'Changsha Institute of Business and Technology'\n",
    "pattern = re.compile(r'\\bB\\w+\\b')   #查找以B开头的单词\n",
    "pattern.findall(example)            #使用正则表达式对象的findall()方法"
   ]
  },
  {
   "cell_type": "code",
   "execution_count": null,
   "metadata": {
    "pycharm": {
     "name": "#%%\n"
    }
   },
   "outputs": [],
   "source": [
    "pattern = re.compile(r'\\w+a\\b')     #查找以字母a结尾的单词\n",
    "pattern.findall(example)"
   ]
  },
  {
   "cell_type": "code",
   "execution_count": null,
   "metadata": {
    "pycharm": {
     "name": "#%%\n"
    }
   },
   "outputs": [],
   "source": [
    "pattern = re.compile(r'\\b[a-zA-Z]{3}\\b')   #查找3个字母长的单词\n",
    "pattern.findall(example)"
   ]
  },
  {
   "cell_type": "code",
   "execution_count": null,
   "metadata": {
    "pycharm": {
     "name": "#%%\n"
    }
   },
   "outputs": [],
   "source": [
    "s = 'ab134ab98723jafjweoruiagab'\n",
    "m = re.search(r'((ab).*){2}.*(ab)', s)     #在s中查找ab的第3次出现\n",
    "m.group(3)"
   ]
  },
  {
   "cell_type": "code",
   "execution_count": null,
   "metadata": {
    "pycharm": {
     "name": "#%%\n"
    }
   },
   "outputs": [],
   "source": [
    "m.span(1)  #为什么第1组是ab98723jafjweoruiag？找到ab134还不算找到？因为{2}要求有两个？"
   ]
  },
  {
   "cell_type": "code",
   "execution_count": null,
   "metadata": {
    "pycharm": {
     "name": "#%%\n"
    }
   },
   "outputs": [],
   "source": [
    "s[5:24]"
   ]
  },
  {
   "cell_type": "code",
   "execution_count": null,
   "metadata": {
    "pycharm": {
     "name": "#%%\n"
    }
   },
   "outputs": [],
   "source": [
    "m.span(2)"
   ]
  },
  {
   "cell_type": "code",
   "execution_count": null,
   "metadata": {
    "pycharm": {
     "name": "#%%\n"
    }
   },
   "outputs": [],
   "source": [
    "m.group(2)"
   ]
  },
  {
   "cell_type": "code",
   "execution_count": null,
   "metadata": {
    "pycharm": {
     "name": "#%%\n"
    }
   },
   "outputs": [],
   "source": [
    "s[5:7]"
   ]
  },
  {
   "cell_type": "code",
   "execution_count": null,
   "metadata": {
    "pycharm": {
     "name": "#%%\n"
    }
   },
   "outputs": [],
   "source": [
    "print(pattern)"
   ]
  },
  {
   "cell_type": "code",
   "execution_count": null,
   "metadata": {
    "pycharm": {
     "name": "#%%\n"
    }
   },
   "outputs": [],
   "source": [
    "pattern.match(example)     #从字符串开头开始匹配，失败返回空值"
   ]
  },
  {
   "cell_type": "code",
   "execution_count": null,
   "metadata": {
    "pycharm": {
     "name": "#%%\n"
    }
   },
   "outputs": [],
   "source": [
    "pattern.search(example)    #在整个字符串中搜索，成功"
   ]
  },
  {
   "cell_type": "code",
   "execution_count": null,
   "metadata": {
    "pycharm": {
     "name": "#%%\n"
    }
   },
   "outputs": [],
   "source": [
    "pattern = re.compile(r'\\b\\w*a\\w*\\b') #查找所有含有字母a的单词"
   ]
  },
  {
   "cell_type": "code",
   "execution_count": null,
   "metadata": {
    "pycharm": {
     "name": "#%%\n"
    }
   },
   "outputs": [],
   "source": [
    "pattern.findall(example)"
   ]
  },
  {
   "cell_type": "code",
   "execution_count": null,
   "metadata": {
    "pycharm": {
     "name": "#%%\n"
    }
   },
   "outputs": [],
   "source": [
    "text = \"He was carefully disguised but captured quickly by police.\"\n",
    "re.findall(r\"\\w+ly\", text) #查找所有以字母组合ly结尾的单词"
   ]
  },
  {
   "cell_type": "markdown",
   "metadata": {},
   "source": [
    "正则表达式对象的sub(repl, string[, count = 0])和subn(repl, string[, count = 0])方法用来实现字符串替换功能，其中参数repl可以为字符串或返回字符串的可调用对象"
   ]
  },
  {
   "cell_type": "code",
   "execution_count": null,
   "metadata": {
    "pycharm": {
     "name": "#%%\n"
    }
   },
   "outputs": [],
   "source": [
    "example = '''Beautiful is better than ugly.\n",
    "            Explicit is better than implicit.\n",
    "            Simple is better than complex.\n",
    "            Complex is better than complicated.\n",
    "            Flat is better than nested.\n",
    "            Sparse is better than dense.\n",
    "            Readability counts.'''"
   ]
  },
  {
   "cell_type": "code",
   "execution_count": null,
   "metadata": {
    "pycharm": {
     "name": "#%%\n"
    }
   },
   "outputs": [],
   "source": [
    "pattern = re.compile(r'\\bb\\w*\\b', re.I)  #匹配以b或B开头的单词\n",
    "print(pattern.sub('*', example))         #将符合条件的单词替换为*"
   ]
  },
  {
   "cell_type": "code",
   "execution_count": null,
   "metadata": {
    "pycharm": {
     "name": "#%%\n"
    }
   },
   "outputs": [],
   "source": [
    "print(pattern.sub(lambda x: x.group(0).upper(), example))\n",
    "                                     #把所有匹配项都改为大写"
   ]
  },
  {
   "cell_type": "code",
   "execution_count": null,
   "metadata": {
    "pycharm": {
     "name": "#%%\n"
    }
   },
   "outputs": [],
   "source": [
    "print(pattern.sub('*', example, 1))      #只替换1次"
   ]
  },
  {
   "cell_type": "markdown",
   "metadata": {},
   "source": [
    "正则表达式对象的split(string[, maxsplit = 0])方法用来实现字符串分隔"
   ]
  },
  {
   "cell_type": "code",
   "execution_count": null,
   "metadata": {
    "pycharm": {
     "name": "#%%\n"
    }
   },
   "outputs": [],
   "source": [
    "example = r'one,two,three.four/five\\six?seven[eight]nine|ten'\n",
    "pattern = re.compile(r'[,./?\\\\[\\]\\|]')     #指定多个可能的分隔符\n",
    "pattern.split(example)"
   ]
  },
  {
   "cell_type": "code",
   "execution_count": null,
   "metadata": {
    "pycharm": {
     "name": "#%%\n"
    }
   },
   "outputs": [],
   "source": [
    "example = r'one1two2three3four4five5six6seven7eight8nine9ten'\n",
    "pattern = re.compile(r'\\d+')               #使用数字作为分隔符\n",
    "pattern.split(example)\n"
   ]
  },
  {
   "cell_type": "code",
   "execution_count": null,
   "metadata": {
    "pycharm": {
     "name": "#%%\n"
    }
   },
   "outputs": [],
   "source": [
    "example = r'one two    three  four,five.six.seven,eight,nine9ten'\n",
    "pattern = re.compile(r'[\\s,.\\d]+')         #允许分隔符重复\n",
    "pattern.split(example)"
   ]
  },
  {
   "cell_type": "markdown",
   "metadata": {},
   "source": [
    "# 子模式与match对象"
   ]
  },
  {
   "cell_type": "markdown",
   "metadata": {},
   "source": [
    "使用()表示一个子模式，括号中的内容作为一个整体处理，例如’(red)+’可以匹配’redred’、’redredred‘等多个重复’red’的情况。"
   ]
  },
  {
   "cell_type": "code",
   "execution_count": null,
   "metadata": {
    "pycharm": {
     "name": "#%%\n"
    }
   },
   "outputs": [],
   "source": [
    "telNumber = '''Suppose my Phone No. is 0535-1234567,\n",
    "yours is 010-12345678, his is 025-87654321.'''\n",
    "\n",
    "pattern = re.compile(r'(\\d{3,4})-(\\d{7,8})')\n",
    "pattern.findall(telNumber)\n",
    "#pattern.match(telNumber).groups()# AttributeError: 'NoneType' object has no attribute 'groups',因为匹配的结果为None"
   ]
  },
  {
   "cell_type": "code",
   "execution_count": null,
   "metadata": {
    "pycharm": {
     "name": "#%%\n"
    }
   },
   "outputs": [],
   "source": [
    "telNumber = '''010-12345678 is your Phone No, his is 025-87654321.'''\n",
    "\n",
    "pattern = re.compile(r'(\\d{3,4})-(\\d{7,8})')\n",
    "pattern.match(telNumber).groups()"
   ]
  },
  {
   "cell_type": "markdown",
   "metadata": {},
   "source": [
    "子模式扩展语法：\n",
    "(?P<groupname>)：为子模式命名\n",
    "(?iLmsux)：设置匹配标志，可以是几个字母的组合，每个字母含义与编译标志相同\n",
    "(?:...)：匹配但不捕获该匹配的子表达式\n",
    "(?P=groupname)：表示在此之前的命名为groupname的子模式\n",
    "(?#...)：表示注释\n",
    "(?=…)：用于正则表达式之后，表示如果=后的内容在字符串中出现则匹配，但不返回=之后的内容\n",
    "(?!...)：用于正则表达式之后，表示如果!后的内容在字符串中不出现则匹配，但不返回!之后的内容\n",
    "(?<=…)：用于正则表达式之前，与(?=…)含义相同\n",
    "(?<!...)：用于正则表达式之前，与(?!...)含义相同"
   ]
  },
  {
   "cell_type": "markdown",
   "metadata": {},
   "source": [
    "正则表达式对象的match方法和search方法匹配成功后返回match对象。match对象的主要方法有：\n",
    "group()：返回匹配的一个或多个子模式内容\n",
    "groups()：返回一个包含匹配的所有子模式内容的元组\n",
    "groupdict()：返回包含匹配的所有命名子模式内容的字典\n",
    "start()：返回指定子模式内容的起始位置\n",
    "end()：返回指定子模式内容的结束位置的前一个位置\n",
    "span()：返回一个包含指定子模式内容起始位置和结束位置前一个位置的元组。"
   ]
  },
  {
   "cell_type": "code",
   "execution_count": null,
   "metadata": {
    "pycharm": {
     "name": "#%%\n"
    }
   },
   "outputs": [],
   "source": [
    "x = pattern.search(telNumber,43,70)\n",
    "print(x)\n",
    "print(x.groups())\n",
    "print(x.group(0))\n",
    "print(x.group(1))\n",
    "print(x.group(2))"
   ]
  },
  {
   "cell_type": "code",
   "execution_count": null,
   "metadata": {
    "pycharm": {
     "name": "#%%\n"
    }
   },
   "outputs": [],
   "source": [
    "m = re.match(r\"(\\w+) (\\w+)\", \"Isaac Newton, physicist\")\n",
    "m.group(0)                   #返回整个模式内容"
   ]
  },
  {
   "cell_type": "code",
   "execution_count": null,
   "metadata": {
    "pycharm": {
     "name": "#%%\n"
    }
   },
   "outputs": [],
   "source": [
    "m.group(1)                   #返回第1个子模式内容"
   ]
  },
  {
   "cell_type": "code",
   "execution_count": null,
   "metadata": {
    "pycharm": {
     "name": "#%%\n"
    }
   },
   "outputs": [],
   "source": [
    "m.group(2)                   #返回第2个子模式内容."
   ]
  },
  {
   "cell_type": "code",
   "execution_count": null,
   "metadata": {
    "pycharm": {
     "name": "#%%\n"
    }
   },
   "outputs": [],
   "source": [
    "m.group(1, 2)                #返回指定的多个子模式内容"
   ]
  },
  {
   "cell_type": "code",
   "execution_count": null,
   "metadata": {
    "pycharm": {
     "name": "#%%\n"
    }
   },
   "outputs": [],
   "source": [
    "exampleString = '''There should be one-- and preferably only one --obvious way to do it.\n",
    "Although that way may not be obvious at first unless you're Dutch.\n",
    "Now is better than never.\n",
    "Although never is often better than right now.'''\n",
    "\n",
    "pattern = re.compile(r'(?<=\\w\\s)never')    #查找不是第一个单词的never\n",
    "matchResult = pattern.search(exampleString)\n",
    "matchResult.span()"
   ]
  },
  {
   "cell_type": "code",
   "execution_count": null,
   "metadata": {
    "pycharm": {
     "name": "#%%\n"
    }
   },
   "outputs": [],
   "source": [
    "exampleString[:matchResult.span()[0]]"
   ]
  },
  {
   "cell_type": "code",
   "execution_count": null,
   "metadata": {
    "pycharm": {
     "name": "#%%\n"
    }
   },
   "outputs": [],
   "source": [
    "pattern = re.compile(r'(?:is\\s)better(\\sthan)')\n",
    "                                           #查找前面是is的better than组合\n",
    "matchResult = pattern.search(exampleString)\n",
    "matchResult.span()\n",
    "\n",
    "matchResult.group(0)                       #组0表示整个模式\n",
    "\n",
    "matchResult.group(1)"
   ]
  },
  {
   "cell_type": "markdown",
   "metadata": {},
   "source": [
    "使用正则表达式提取字符串中的电话号码（方法一）"
   ]
  },
  {
   "cell_type": "code",
   "execution_count": null,
   "metadata": {
    "pycharm": {
     "name": "#%%\n"
    }
   },
   "outputs": [],
   "source": [
    "import re\n",
    "\n",
    "telNumber = '''Suppose my Phone No. is 0535-1234567, yours is 010-12345678, his is 025-87654321.'''\n",
    "pattern = re.compile(r'(\\d{3,4})-(\\d{7,8})')\n",
    "index = 0\n",
    "while True:\n",
    "    matchResult = pattern.search(telNumber, index)  #从指定位置开始匹配\n",
    "    if not matchResult:\n",
    "        break\n",
    "    print('-'*30)\n",
    "    print('Success:')\n",
    "    for i in range(3):\n",
    "        print('Searched content:', matchResult.group(i), ' Start from:',\n",
    "               matchResult.start(i), 'End at:', matchResult.end(i),\n",
    "               ' Its span is:', matchResult.span(i))\n",
    "    index = matchResult.end(2)               #指定下次匹配的开始位置"
   ]
  },
  {
   "cell_type": "markdown",
   "metadata": {},
   "source": [
    "使用正则表达式提取字符串中的电话号码（方法二）"
   ]
  },
  {
   "cell_type": "code",
   "execution_count": null,
   "metadata": {
    "pycharm": {
     "name": "#%%\n"
    }
   },
   "outputs": [],
   "source": [
    "import re\n",
    "\n",
    "text = '''Suppose my Phone No. is 0535-1234567,\n",
    "yours is 010-12345678,\n",
    "his is 025-87654321.'''\n",
    "#注意，下面的正则表达式中大括号内逗号后面不能有空格\n",
    "matchResult = re.findall(r'(\\d{3,4})-(\\d{7,8})', text)\n",
    "for item in matchResult:\n",
    "    print(item[0], item[1], sep='-')"
   ]
  },
  {
   "cell_type": "code",
   "execution_count": null,
   "metadata": {
    "pycharm": {
     "name": "#%%\n"
    }
   },
   "outputs": [],
   "source": [
    "m = re.match(r\"(?P<first_name>\\w+) (?P<last_name>\\w+)\", \"Malcolm Reynolds\")\n",
    "m.group('first_name')      #使用命名的子模式\n",
    "\n",
    "m.group('last_name')\n",
    "\n",
    "m = re.match(r\"(\\d+)\\.(\\d+)\", \"24.1632\")\n",
    "m.groups()                #返回所有匹配的子模式（不包括第0个）"
   ]
  },
  {
   "cell_type": "code",
   "execution_count": null,
   "metadata": {
    "pycharm": {
     "name": "#%%\n"
    }
   },
   "outputs": [],
   "source": [
    "m = re.match(r\"(?P<first_name>\\w+) (?P<last_name>\\w+)\", \"Malcolm Reynolds\")\n",
    "m.groupdict()                #以字典形式返回匹配的结果"
   ]
  },
  {
   "cell_type": "code",
   "execution_count": null,
   "metadata": {
    "pycharm": {
     "name": "#%%\n"
    }
   },
   "outputs": [],
   "source": [
    "exampleString = '''There should be one-- and preferably only one --obvious way to do it.\n",
    "Although that way may not be obvious at first unless you're Dutch.\n",
    "Now is better than never.\n",
    "Although never is often better than right now.'''\n",
    "pattern = re.compile(r'(?<=\\w\\s)never(?=\\s\\w)')  #查找不在句子开头和结尾的never\n",
    "matchResult = pattern.search(exampleString)\n",
    "matchResult.span()"
   ]
  },
  {
   "cell_type": "code",
   "execution_count": null,
   "metadata": {
    "pycharm": {
     "name": "#%%\n"
    }
   },
   "outputs": [],
   "source": [
    "exampleString[177:]"
   ]
  },
  {
   "cell_type": "markdown",
   "metadata": {},
   "source": [
    "#查找以n或N字母开头的所有单词"
   ]
  },
  {
   "cell_type": "code",
   "execution_count": null,
   "metadata": {
    "pycharm": {
     "name": "#%%\n"
    }
   },
   "outputs": [],
   "source": [
    "pattern = re.compile(r'\\b(?i)n\\w+\\b')\n",
    "\n",
    "index = 0\n",
    "while True:\n",
    "    matchResult = pattern.search(exampleString, index)\n",
    "    if not matchResult:\n",
    "        break\n",
    "    print(matchResult.group(0), ':', matchResult.span(0))\n",
    "    index = matchResult.end(0)"
   ]
  },
  {
   "cell_type": "markdown",
   "metadata": {},
   "source": [
    "#查找前面没有单词not的单词be"
   ]
  },
  {
   "cell_type": "code",
   "execution_count": null,
   "metadata": {
    "pycharm": {
     "name": "#%%\n"
    }
   },
   "outputs": [],
   "source": [
    "pattern = re.compile(r'(?<!not\\s)be\\b')\n",
    "\n",
    "index = 0\n",
    "while True:\n",
    "    matchResult = pattern.search(exampleString, index)\n",
    "    if not matchResult:\n",
    "        break\n",
    "    print(matchResult.group(0), ':', matchResult.span(0))\n",
    "    index = matchResult.end(0)"
   ]
  },
  {
   "cell_type": "markdown",
   "metadata": {},
   "source": [
    "#有连续相同字母的单词"
   ]
  },
  {
   "cell_type": "code",
   "execution_count": null,
   "metadata": {
    "pycharm": {
     "name": "#%%\n"
    }
   },
   "outputs": [],
   "source": [
    "pattern = re.compile(r'(\\b\\w*(?P<f>\\w+)(?P=f)\\w*\\b)')\n",
    "\n",
    "index = 0\n",
    "while True:\n",
    "    matchResult = pattern.search(exampleString, index)\n",
    "    if not matchResult:\n",
    "        break\n",
    "    print(matchResult.group(0), ':', matchResult.group(2))\n",
    "    index = matchResult.end(0) + 1\n",
    "\n",
    "s = 'aabc abcd abbcd abccd abcdd'\n",
    "pattern.findall(s)"
   ]
  },
  {
   "cell_type": "markdown",
   "metadata": {},
   "source": [
    "# 正则表达式案例"
   ]
  },
  {
   "cell_type": "markdown",
   "metadata": {},
   "source": [
    "查找ABAC和AABB形式的成语"
   ]
  },
  {
   "cell_type": "code",
   "execution_count": null,
   "metadata": {
    "pycharm": {
     "name": "#%%\n"
    }
   },
   "outputs": [],
   "source": [
    "from re import findall\n",
    "\n",
    "text = '''行尸走肉、金蝉脱壳、百里挑一、金玉满堂、\n",
    "背水一战、霸王别姬、天上人间、不吐不快、海阔天空、\n",
    "情非得已、满腹经纶、兵临城下、春暖花开、插翅难逃、\n",
    "黄道吉日、天下无双、偷天换日、两小无猜、卧虎藏龙、\n",
    "珠光宝气、簪缨世族、花花公子、绘声绘影、国色天香、\n",
    "相亲相爱、八仙过海、金玉良缘、掌上明珠、皆大欢喜\\\n",
    "浩浩荡荡、平平安安、秀秀气气、斯斯文文、高高兴兴'''\n",
    "\n",
    "pattern = r'(((.).\\3.)|((.)\\5(.)\\6))'\n",
    "for item in findall(pattern, text):\n",
    "    print(item[0])"
   ]
  },
  {
   "cell_type": "code",
   "execution_count": null,
   "metadata": {
    "pycharm": {
     "name": "#%%\n"
    }
   },
   "outputs": [],
   "source": []
  },
  {
   "cell_type": "markdown",
   "metadata": {},
   "source": [
    "python正则表达式，向前向后查找与回溯引用"
   ]
  },
  {
   "cell_type": "markdown",
   "metadata": {},
   "source": [
    "# 向前向后查找 (断言)"
   ]
  },
  {
   "cell_type": "code",
   "execution_count": null,
   "metadata": {
    "pycharm": {
     "name": "#%%\n"
    }
   },
   "outputs": [],
   "source": [
    "import re \n",
    "key = r'<html><body><h1>hello world</h1></body></html>'       #这段是你要匹配的文本"
   ]
  },
  {
   "cell_type": "markdown",
   "metadata": {},
   "source": [
    "#上面的一句也可以利用以下的实现，一般处理数据都是对文件进行操作的\n",
    "#with open('/Users/Mr.Long/Desktop/data.txt', 'r') as f:\n",
    "#key = f.read()"
   ]
  },
  {
   "cell_type": "code",
   "execution_count": null,
   "metadata": {
    "pycharm": {
     "name": "#%%\n"
    }
   },
   "outputs": [],
   "source": [
    "p1 = r\"(?<=<h1>).+?(?=</h1>)\"       \n",
    "pattern1 = re.compile(p1)          \n",
    "matcher1 = re.search(pattern1,key)  \n",
    "print (matcher1.group(0))"
   ]
  },
  {
   "cell_type": "raw",
   "metadata": {},
   "source": [
    "#其中 ?<=是向前匹配符，就该语句分析，你所要匹配的字符串必须以<h1>开头；\n",
    "#同理，?=为向后匹配符，所匹配的语句必须以<h1>为结尾"
   ]
  },
  {
   "cell_type": "code",
   "execution_count": null,
   "metadata": {
    "pycharm": {
     "name": "#%%\n"
    }
   },
   "outputs": [],
   "source": [
    "# key = r'<h1>hello world</h1>'  \n",
    "p1 = r\"^<h1>(.+?)</h1>$\"       \n",
    "pattern1 = re.compile(p1)          \n",
    "matcher1 = re.match(pattern1,key)  \n",
    "print (matcher1)"
   ]
  },
  {
   "cell_type": "raw",
   "metadata": {},
   "source": [
    "noreply@example.com，这个EMAIL地址大多数是不需要回复的，所以要把这个EMAIL地址识别出来，并且丢掉它。怎么办呢？这时就需要使用前向搜索否定模式，它的语法是这样：(?!pattern)，这里的感叹号就是表示非，不需要的意思。"
   ]
  },
  {
   "cell_type": "code",
   "execution_count": null,
   "metadata": {
    "pycharm": {
     "name": "#%%\n"
    }
   },
   "outputs": [],
   "source": [
    "import re \n",
    "  \n",
    "address = re.compile( \n",
    "    ''' \n",
    "    ^   \n",
    "    # An address: username@domain.tld   \n",
    "    # Ignore noreply addresses \n",
    "    (?!noreply@.*$)  \n",
    "    [\\w\\d.+-]+  # username \n",
    "    @ \n",
    "    ([\\w\\d.]+\\.)+  # domain name prefix \n",
    "    (com|org|edu)  # limit the allowed top-level domains  \n",
    "    $ \n",
    "    ''', \n",
    "    re.VERBOSE\n",
    ") \n",
    "  \n",
    "candidates = [ \n",
    "    u'first.last@example.com', \n",
    "    u'noreply@example.com', \n",
    "] \n",
    "  \n",
    "for candidate in candidates: \n",
    "    print('Candidate:', candidate) \n",
    "    match = address.search(candidate) \n",
    "    if match: \n",
    "        print(' Match:', candidate[match.start():match.end()]) \n",
    "    else: \n",
    "        print(' No match')"
   ]
  },
  {
   "cell_type": "markdown",
   "metadata": {},
   "source": [
    "# 回溯引用"
   ]
  },
  {
   "cell_type": "code",
   "execution_count": null,
   "metadata": {
    "pycharm": {
     "name": "#%%\n"
    }
   },
   "outputs": [],
   "source": [
    "import re \n",
    "key = r\"<h1>hello world</h3>\"\n",
    "p1 = r\"<h([1-6])>.*?</h\\1>\"\n",
    "pattern1 = re.compile(p1)\n",
    "m1 = re.search(pattern1,key)\n",
    "print(m1.group(0))   # 这里是会报错，因为匹配不到，你如果将源字符串改成</h1>就能看出效果"
   ]
  },
  {
   "cell_type": "code",
   "execution_count": null,
   "metadata": {
    "pycharm": {
     "name": "#%%\n"
    }
   },
   "outputs": [],
   "source": []
  }
 ],
 "metadata": {
  "kernelspec": {
   "display_name": "Python 3",
   "language": "python",
   "name": "python3"
  },
  "language_info": {
   "codemirror_mode": {
    "name": "ipython",
    "version": 3
   },
   "file_extension": ".py",
   "mimetype": "text/x-python",
   "name": "python",
   "nbconvert_exporter": "python",
   "pygments_lexer": "ipython3",
   "version": "3.7.4"
  },
  "pycharm": {
   "stem_cell": {
    "cell_type": "raw",
    "metadata": {
     "collapsed": false
    },
    "source": [
     "# 正则表达式\n"
    ]
   }
  }
 },
 "nbformat": 4,
 "nbformat_minor": 4
}
