{
 "cells": [
  {
   "cell_type": "markdown",
   "metadata": {},
   "source": [
    "# 补充实例"
   ]
  },
  {
   "cell_type": "markdown",
   "metadata": {},
   "source": [
    "切片+filter()实现筛选法求素数"
   ]
  },
  {
   "cell_type": "code",
   "execution_count": 1,
   "metadata": {
    "pycharm": {
     "name": "#%%\n"
    }
   },
   "outputs": [
    {
     "name": "stdout",
     "output_type": "stream",
     "text": [
      "[2, 3, 5, 7, 11, 13, 17, 19, 23, 29, 31, 37, 41, 43, 47, 53, 59, 61, 67, 71, 73, 79, 83, 89, 97]\n"
     ]
    }
   ],
   "source": [
    "def primes(maxNumber):\n",
    "    '''筛选法获取小于maxNumber的所有素数'''\n",
    "    #待判断整数\n",
    "    lst = list(range(2, maxNumber))\n",
    "    #最大整数的平方根\n",
    "    m = int(maxNumber**0.5)\n",
    "    for index, value in enumerate(lst):\n",
    "        #如果当前数字已大于最大整数的平方根，结束判断\n",
    "        if value > m:\n",
    "            break\n",
    "        #对该位置之后的元素进行过滤\n",
    "        lst[index+1:] = filter(lambda x: x%value != 0,\n",
    "                               lst[index+1:])\n",
    "    return lst\n",
    "\n",
    "print(primes(100))\n"
   ]
  },
  {
   "cell_type": "markdown",
   "metadata": {},
   "source": [
    "计算样本标准差"
   ]
  },
  {
   "cell_type": "code",
   "execution_count": 2,
   "metadata": {
    "pycharm": {
     "name": "#%%\n"
    }
   },
   "outputs": [
    {
     "name": "stdout",
     "output_type": "stream",
     "text": [
      "7.393691004272944\n"
     ]
    }
   ],
   "source": [
    "x = [3, 7, 23, 21, 8, 10]\n",
    "avg = sum(x) / len(x)\n",
    "s = [(xi-avg)**2 for xi in x]\n",
    "s = (sum(s)/len(s)) ** 0.5\n",
    "print(s)\n"
   ]
  },
  {
   "cell_type": "markdown",
   "metadata": {},
   "source": [
    "查找列表中相加等于s的n个数字"
   ]
  },
  {
   "cell_type": "code",
   "execution_count": 3,
   "metadata": {
    "pycharm": {
     "name": "#%%\n"
    }
   },
   "outputs": [
    {
     "name": "stdout",
     "output_type": "stream",
     "text": [
      "(9, 11, -20)\n",
      "(11, 18, -29)\n",
      "(-5, -20, 25)\n",
      "(7, 1, -8)\n",
      "(7, 14, -21)\n",
      "(1, -38, 37)\n",
      "(-29, 37, -8)\n"
     ]
    }
   ],
   "source": [
    "# 命令式编程.   和等于0的组合\n",
    "from itertools import combinations\n",
    "from random import randrange\n",
    "\n",
    "def sumToS(lst, n, s):\n",
    "    for numbers in combinations(lst, n):\n",
    "        if sum(numbers) == s:\n",
    "            print(numbers)\n",
    "\n",
    "lst = [randrange(-50, 50) for _ in range(20)]\n",
    "sumToS(lst, 3, 0)\n"
   ]
  },
  {
   "cell_type": "code",
   "execution_count": 4,
   "metadata": {
    "pycharm": {
     "name": "#%%\n"
    }
   },
   "outputs": [
    {
     "name": "stdout",
     "output_type": "stream",
     "text": [
      "(-50, 12, 38)\n",
      "(-50, 38, 12)\n",
      "(12, 3, -15)\n",
      "(30, -45, 15)\n",
      "(-40, 38, 2)\n",
      "(-40, 38, 2)\n",
      "(3, -15, 12)\n",
      "(38, -40, 2)\n",
      "(38, -40, 2)\n",
      "(-10, 2, 8)\n",
      "(-10, 8, 2)\n",
      "(2, -10, 8)\n",
      "(-10, 8, 2)\n"
     ]
    }
   ],
   "source": [
    "# 函数式编程\n",
    "from itertools import combinations\n",
    "from random import randrange\n",
    "\n",
    "def sumToS(lst, n, s):\n",
    "    f = lambda item:sum(item)==s\n",
    "    result = filter(f, combinations(lst, n))\n",
    "    for item in result:\n",
    "        print(item)\n",
    "\n",
    "lst = [randrange(-50, 50) for _ in range(20)]\n",
    "sumToS(lst, 3, 0)\n"
   ]
  },
  {
   "cell_type": "markdown",
   "metadata": {},
   "source": [
    "首先生成包含1000个随机字符的字符串，然后统计每个字符的出现次数。"
   ]
  },
  {
   "cell_type": "code",
   "execution_count": 6,
   "metadata": {
    "pycharm": {
     "name": "#%%\n"
    }
   },
   "outputs": [
    {
     "name": "stdout",
     "output_type": "stream",
     "text": [
      "{'0': 114, '5': 108, '4': 110, '1': 94, '9': 95, '6': 96, '8': 97, '7': 99, '3': 91, '2': 96}\n"
     ]
    }
   ],
   "source": [
    "import string\n",
    "import random\n",
    "x = '0123456789'\n",
    "# y = [random.choice(x) for i in range(1000)]\n",
    "y = random.choices(x, k=1000)\n",
    "# print(y,'y')\n",
    "z = ''.join(y)\n",
    "d = dict()                  #使用字典保存每个字符出现次数\n",
    "for ch in z:\n",
    "    d[ch] = d.get(ch, 0) + 1\n",
    "print(d)\n"
   ]
  },
  {
   "cell_type": "markdown",
   "metadata": {},
   "source": [
    "Counter对象用法示例"
   ]
  },
  {
   "cell_type": "code",
   "execution_count": 8,
   "metadata": {
    "pycharm": {
     "name": "#%%\n"
    }
   },
   "outputs": [
    {
     "data": {
      "text/plain": [
       "Counter({'red': 2, 'blue': 3, 'green': 1})"
      ]
     },
     "execution_count": 8,
     "metadata": {},
     "output_type": "execute_result"
    }
   ],
   "source": [
    "from collections import Counter\n",
    "cnt = Counter()\n",
    "for word in ['red', 'blue', 'red', 'green', 'blue', 'blue']:\n",
    "       cnt[word] += 1\n",
    "cnt"
   ]
  },
  {
   "cell_type": "code",
   "execution_count": 9,
   "metadata": {
    "pycharm": {
     "name": "#%%\n"
    }
   },
   "outputs": [
    {
     "data": {
      "text/plain": [
       "[('the', 1143),\n",
       " ('and', 966),\n",
       " ('to', 762),\n",
       " ('of', 669),\n",
       " ('i', 631),\n",
       " ('you', 554),\n",
       " ('a', 546),\n",
       " ('my', 514),\n",
       " ('hamlet', 471),\n",
       " ('in', 451)]"
      ]
     },
     "execution_count": 9,
     "metadata": {},
     "output_type": "execute_result"
    }
   ],
   "source": [
    "import re\n",
    "words = re.findall(r'\\w+', open('hamlet.txt').read().lower())\n",
    "Counter(words).most_common(10)      #出现次数最多的10个单词"
   ]
  },
  {
   "cell_type": "markdown",
   "metadata": {},
   "source": [
    "过滤无效书评\n",
    "下面的代码中，采用了一个最简单的规则：正常书评中，重复的字应该不会超过一定的比例。"
   ]
  },
  {
   "cell_type": "code",
   "execution_count": 10,
   "metadata": {
    "pycharm": {
     "name": "#%%\n"
    }
   },
   "outputs": [],
   "source": [
    "comments = ['这是一本非常好的书，作者用心了',\n",
    "            '作者大大辛苦了',\n",
    "            '好书，感谢作者提供了这么多的好案例',\n",
    "            '书在运输的路上破损了，我好悲伤。。。',\n",
    "            '为啥我买的书上有菜汤。。。。',\n",
    "            '啊啊啊啊啊啊，我怎么才发现这么好的书啊，相见恨晚',\n",
    "            '书的质量有问题啊，怎么会开胶呢？？？？？？',\n",
    "            '好好好好好好好好好好好',\n",
    "            '好难啊看不懂好难啊看不懂好难啊看不懂',\n",
    "            '书的内容很充实',\n",
    "            '你的书上好多代码啊，不过想想也是，编程的书嘛，肯定代码多一些',\n",
    "            '书很不错!!一级棒!!买书就上当当，正版，价格又实惠，让人放心!!! ',\n",
    "            '无意中来到你小铺就淘到心意的宝贝，心情不错! ',\n",
    "            '送给朋友的、很不错',\n",
    "            '这是一本好书，讲解内容深入浅出又清晰明了，推荐给所有喜欢阅读的朋友同好们。']\n"
   ]
  },
  {
   "cell_type": "code",
   "execution_count": 12,
   "metadata": {
    "pycharm": {
     "name": "#%%\n"
    }
   },
   "outputs": [
    {
     "name": "stdout",
     "output_type": "stream",
     "text": [
      "==============================\n",
      "过滤后的书评：\n",
      "这是一本非常好的书，作者用心了\n",
      "作者大大辛苦了\n",
      "好书，感谢作者提供了这么多的好案例\n",
      "书在运输的路上破损了，我好悲伤。。。\n",
      "为啥我买的书上有菜汤。。。。\n",
      "啊啊啊啊啊啊，我怎么才发现这么好的书啊，相见恨晚\n",
      "书的质量有问题啊，怎么会开胶呢？？？？？？\n",
      "书的内容很充实\n",
      "你的书上好多代码啊，不过想想也是，编程的书嘛，肯定代码多一些\n",
      "书很不错!!一级棒!!买书就上当当，正版，价格又实惠，让人放心!!! \n",
      "无意中来到你小铺就淘到心意的宝贝，心情不错! \n",
      "送给朋友的、很不错\n",
      "这是一本好书，讲解内容深入浅出又清晰明了，推荐给所有喜欢阅读的朋友同好们。\n"
     ]
    }
   ],
   "source": [
    "rule = lambda s:len(set(s))/len(s)>0.5\n",
    "result = filter(rule, comments)\n",
    "\n",
    "# print('原始书评：')\n",
    "# for comment in comments:\n",
    "#     print(comment)\n",
    "\n",
    "print('='*30)\n",
    "print('过滤后的书评：')\n",
    "for comment in result:\n",
    "    print(comment)\n"
   ]
  }
 ],
 "metadata": {
  "interpreter": {
   "hash": "aee8b7b246df8f9039afb4144a1f6fd8d2ca17a180786b69acc140d282b71a49"
  },
  "kernelspec": {
   "display_name": "Python 3.7.4 64-bit",
   "name": "python3"
  },
  "language_info": {
   "codemirror_mode": {
    "name": "ipython",
    "version": 3
   },
   "file_extension": ".py",
   "mimetype": "text/x-python",
   "name": "python",
   "nbconvert_exporter": "python",
   "pygments_lexer": "ipython3",
   "version": "3.7.4"
  }
 },
 "nbformat": 4,
 "nbformat_minor": 1
}
