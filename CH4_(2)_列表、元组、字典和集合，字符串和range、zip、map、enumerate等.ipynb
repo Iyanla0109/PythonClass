{
 "cells": [
  {
   "cell_type": "markdown",
   "metadata": {},
   "source": [
    "# 元组"
   ]
  },
  {
   "cell_type": "markdown",
   "metadata": {
    "collapsed": true
   },
   "source": [
    "tuple( )冻结列表，而list( )融化元组. 元组的速度比列表更快。元组可用作字典的“键”，也可以作为集合的元素。列表永远不能当做字典键使用，也不能作为集合的元素，因为列表不是不可变的"
   ]
  },
  {
   "cell_type": "code",
   "execution_count": null,
   "metadata": {},
   "outputs": [],
   "source": [
    "x=tuple('abcdefg')\n",
    "x"
   ]
  },
  {
   "cell_type": "code",
   "execution_count": null,
   "metadata": {},
   "outputs": [],
   "source": [
    "del x\n",
    "x"
   ]
  },
  {
   "cell_type": "markdown",
   "metadata": {},
   "source": [
    "可以使用序列解包功能对多个变量同时赋值"
   ]
  },
  {
   "cell_type": "code",
   "execution_count": null,
   "metadata": {},
   "outputs": [],
   "source": [
    "x, y, z = 1, 2, 3             #多个变量同时赋值\n",
    "v_tuple = (False, 3.5, 'exp')\n",
    "(x, y, z) = v_tuple\n",
    "x, y, z = v_tuple\n",
    "x, y, z = range(3)            #可以对range对象进行序列解包\n",
    "x, y, z = iter([1, 2, 3])     #使用迭代器对象进行序列解包\n",
    "x, y, z = map(str, range(3))  #使用可迭代的map对象进行序列解包\n",
    "a=12\n",
    "b=34\n",
    "a, b = b, a                   #交换两个变量的值\n",
    "x, y, z = sorted([1, 3, 2])   #sorted()函数返回排序后的列表\n",
    "a, b, c = 'ABC'               #字符串也支持序列解包\n",
    "x = [1, 2, 3, 4, 5, 6]\n",
    "x[:3] = map(str, range(5))    #切片也支持序列解包"
   ]
  },
  {
   "cell_type": "markdown",
   "metadata": {},
   "source": [
    "字典的序列解包"
   ]
  },
  {
   "cell_type": "code",
   "execution_count": null,
   "metadata": {},
   "outputs": [],
   "source": [
    "s = {'a':1, 'b':2, 'c':3}\n",
    "b, c, d = s.items()\n",
    "print(b)\n",
    "type(b)"
   ]
  },
  {
   "cell_type": "code",
   "execution_count": null,
   "metadata": {},
   "outputs": [],
   "source": [
    "b, c, d = s   # s.keys()      \n",
    "b"
   ]
  },
  {
   "cell_type": "code",
   "execution_count": null,
   "metadata": {},
   "outputs": [],
   "source": [
    "b, c, d = s.values()\n",
    "b"
   ]
  },
  {
   "cell_type": "markdown",
   "metadata": {},
   "source": [
    "序列解包遍历多个序列"
   ]
  },
  {
   "cell_type": "code",
   "execution_count": null,
   "metadata": {},
   "outputs": [],
   "source": [
    "keys = ['a', 'b', 'c', 'd']\n",
    "values = [1, 2, 3, 4]\n",
    "for k, v in zip(keys, values):\n",
    "\t  print((k, v), end=' ')"
   ]
  },
  {
   "cell_type": "markdown",
   "metadata": {},
   "source": [
    "使用序列解包遍历enumerate对象"
   ]
  },
  {
   "cell_type": "code",
   "execution_count": null,
   "metadata": {},
   "outputs": [],
   "source": [
    "x = ['a', 'b', 'c']\n",
    "for i, v in enumerate(x):\n",
    "\tprint('The value on position {0} is {1}'.format(i,v))"
   ]
  },
  {
   "cell_type": "code",
   "execution_count": null,
   "metadata": {},
   "outputs": [],
   "source": [
    "aList = [1,2,3]\n",
    "bList = [4,5,6]\n",
    "cList = [7,8,9]\n",
    "dList = zip(aList, bList, cList)\n",
    "for index, value in enumerate(dList):\n",
    "    print(index, ':', value)"
   ]
  },
  {
   "cell_type": "markdown",
   "metadata": {},
   "source": [
    "Python 3.7还支持下面用法的序列解包"
   ]
  },
  {
   "cell_type": "code",
   "execution_count": null,
   "metadata": {},
   "outputs": [],
   "source": [
    "print(*[1, 2, 3], 4, *(5, 6))"
   ]
  },
  {
   "cell_type": "code",
   "execution_count": null,
   "metadata": {},
   "outputs": [],
   "source": [
    "*range(4),4"
   ]
  },
  {
   "cell_type": "code",
   "execution_count": null,
   "metadata": {},
   "outputs": [],
   "source": [
    "{*range(4), 4, *(5, 6, 7)}"
   ]
  },
  {
   "cell_type": "code",
   "execution_count": null,
   "metadata": {},
   "outputs": [],
   "source": [
    "{'x': 1, **{'y': 2}}"
   ]
  },
  {
   "cell_type": "markdown",
   "metadata": {},
   "source": [
    "生成器推导式"
   ]
  },
  {
   "cell_type": "markdown",
   "metadata": {},
   "source": [
    "生成器推导式的结果是一个生成器对象。使用生成器对象的元素时，可以根据需要将其转化为列表或元组，也可以使用生成器对象__next__()方法或内置函数next()进行遍历，或者直接将其作为迭代器对象来使用。\n",
    "生成器对象具有惰性求值的特点，只在需要时生成新元素，比列表推导式具有更高的效率，空间占用非常少，尤其适合大数据处理的场合。\n",
    "不管用哪种方法访问生成器对象，都无法再次访问已访问过的元素。"
   ]
  },
  {
   "cell_type": "code",
   "execution_count": null,
   "metadata": {},
   "outputs": [],
   "source": [
    "g = ((i+2)**2 for i in range(10))  #创建生成器对象"
   ]
  },
  {
   "cell_type": "code",
   "execution_count": null,
   "metadata": {},
   "outputs": [],
   "source": [
    "g.__next__()        #使用生成器对象的__next__()方法获取元素\n",
    "\n",
    "g.__next__()        #获取下一个元素\n",
    "\n",
    "next(g)             #使用函数next()获取生成器对象中的元素"
   ]
  },
  {
   "cell_type": "code",
   "execution_count": null,
   "metadata": {},
   "outputs": [],
   "source": [
    "next(g) "
   ]
  },
  {
   "cell_type": "code",
   "execution_count": null,
   "metadata": {},
   "outputs": [],
   "source": [
    "tuple(g)                           #将生成器对象转换为元组"
   ]
  },
  {
   "cell_type": "code",
   "execution_count": null,
   "metadata": {},
   "outputs": [],
   "source": [
    "list(g)             #生成器对象已遍历结束，没有元素了"
   ]
  },
  {
   "cell_type": "code",
   "execution_count": null,
   "metadata": {},
   "outputs": [],
   "source": [
    "filter(function or None, iterable) --> filter object\n",
    " |  \n",
    " |  Return an iterator yielding those items of iterable for which function(item)\n",
    " |  is true. If function is None, return the items that are true."
   ]
  },
  {
   "cell_type": "code",
   "execution_count": null,
   "metadata": {},
   "outputs": [],
   "source": [
    "x = filter(None, range(20))   #filter对象也具有类似的特点\n",
    "5 in x"
   ]
  },
  {
   "cell_type": "code",
   "execution_count": null,
   "metadata": {},
   "outputs": [],
   "source": [
    "2 in x                        #不可再次访问已访问过的元素"
   ]
  },
  {
   "cell_type": "code",
   "execution_count": null,
   "metadata": {},
   "outputs": [],
   "source": [
    "x = list(range(-10,10))"
   ]
  },
  {
   "cell_type": "code",
   "execution_count": null,
   "metadata": {},
   "outputs": [],
   "source": [
    "x.append(False)\n",
    "x"
   ]
  },
  {
   "cell_type": "code",
   "execution_count": null,
   "metadata": {},
   "outputs": [],
   "source": [
    "y = filter(None,x)\n",
    "tuple(y)"
   ]
  },
  {
   "cell_type": "code",
   "execution_count": null,
   "metadata": {},
   "outputs": [],
   "source": [
    "x = map(str, range(20))       # map对象也具有类似的特点\n",
    "'0' in x"
   ]
  },
  {
   "cell_type": "code",
   "execution_count": null,
   "metadata": {},
   "outputs": [],
   "source": [
    "'0' in x                      # 不可再次访问已访问过的元素"
   ]
  },
  {
   "cell_type": "markdown",
   "metadata": {},
   "source": [
    "关于None：\n",
    "0值的整型/浮点型，空字符串（‘ ’），空列表（[]）,空元组（{}），空集合（set()）都是等价于False,但是不等于None\n",
    "Python之函数或方法无return的返回值时，会返回None"
   ]
  },
  {
   "cell_type": "code",
   "execution_count": null,
   "metadata": {},
   "outputs": [],
   "source": [
    "def oj(t):\n",
    "  if t is None:\n",
    "    print(\"this is None\")\n",
    "    if t:\n",
    "        print(\"\\tNone is also treated as True\")\n",
    "    else:\n",
    "        print(\"\\tNone is also treated as False\")\n",
    "  elif t:\n",
    "    print(\"this is True\")\n",
    "  else:\n",
    "    print(\"this is False\")"
   ]
  },
  {
   "cell_type": "code",
   "execution_count": null,
   "metadata": {},
   "outputs": [],
   "source": [
    "oj(None)"
   ]
  },
  {
   "cell_type": "code",
   "execution_count": null,
   "metadata": {},
   "outputs": [],
   "source": [
    "oj(True)"
   ]
  },
  {
   "cell_type": "code",
   "execution_count": null,
   "metadata": {},
   "outputs": [],
   "source": [
    "oj(())"
   ]
  },
  {
   "cell_type": "markdown",
   "metadata": {},
   "source": [
    "# 字典"
   ]
  },
  {
   "cell_type": "markdown",
   "metadata": {},
   "source": [
    "字典是无序、可变序列，字典中的键可以为任意不可变数据，比如整数、实数、复数、字符串、元组等等"
   ]
  },
  {
   "cell_type": "code",
   "execution_count": null,
   "metadata": {},
   "outputs": [],
   "source": [
    "keys = ['a', 'b', 'c', 'd']\n",
    "values = [1, 2, 3, 4]\n",
    "dictionary = dict(zip(keys, values))\n",
    "dictionary"
   ]
  },
  {
   "cell_type": "code",
   "execution_count": null,
   "metadata": {},
   "outputs": [],
   "source": [
    "d = dict(name='Dong', age=37)\n",
    "d"
   ]
  },
  {
   "cell_type": "code",
   "execution_count": null,
   "metadata": {},
   "outputs": [],
   "source": [
    "adict = dict.fromkeys(['name', 'age', 'sex'])\n",
    "adict"
   ]
  },
  {
   "cell_type": "markdown",
   "metadata": {},
   "source": [
    "字典元素的读取"
   ]
  },
  {
   "cell_type": "code",
   "execution_count": null,
   "metadata": {},
   "outputs": [],
   "source": [
    "aDict = {'name':'Dong', 'sex':'male', 'age':37}\n",
    "aDict['name']\n",
    "\n",
    "aDict['tel']                     #键不存在，抛出异常"
   ]
  },
  {
   "cell_type": "code",
   "execution_count": null,
   "metadata": {},
   "outputs": [],
   "source": [
    "print(aDict.get('address'))\n",
    "\n",
    "print(aDict.get('address', 'SDIBT'))    # 'SDIBT' if aDict.get('address')==None\n",
    "\n",
    "aDict['score'] = aDict.get('score',{'语文':60,'数学':60})\n",
    "aDict['score'].setdefault('英语',98)\n",
    "aDict['score'].setdefault('地理',85)\n",
    "aDict"
   ]
  },
  {
   "cell_type": "markdown",
   "metadata": {},
   "source": [
    "当以指定键为下标为字典赋值时：1）若键存在，则可以修改该键的值；2）若不存在，则表示添加一个键、值对。"
   ]
  },
  {
   "cell_type": "code",
   "execution_count": null,
   "metadata": {},
   "outputs": [],
   "source": [
    "aDict['tel'] =  '0731-8824168'"
   ]
  },
  {
   "cell_type": "code",
   "execution_count": null,
   "metadata": {},
   "outputs": [],
   "source": [
    "aDict"
   ]
  },
  {
   "cell_type": "markdown",
   "metadata": {},
   "source": [
    "字典对象的update()方法将另一个字典的键、值对添加到当前字典对象"
   ]
  },
  {
   "cell_type": "code",
   "execution_count": null,
   "metadata": {},
   "outputs": [],
   "source": [
    "aDict.update({'a':'a','b':'b'})\n",
    "aDict"
   ]
  },
  {
   "cell_type": "markdown",
   "metadata": {},
   "source": [
    "使用del删除字典中指定键的元素\n",
    "使用字典对象的clear()方法来删除字典中所有元素\n",
    "使用字典对象的pop()方法删除并返回指定键的元素\n",
    "使用字典对象的popitem()方法删除并返回字典中的一个元素"
   ]
  },
  {
   "cell_type": "code",
   "execution_count": null,
   "metadata": {},
   "outputs": [],
   "source": [
    "del aDict['a']"
   ]
  },
  {
   "cell_type": "code",
   "execution_count": null,
   "metadata": {},
   "outputs": [],
   "source": [
    "aDict.pop('b')"
   ]
  },
  {
   "cell_type": "code",
   "execution_count": null,
   "metadata": {},
   "outputs": [],
   "source": [
    "aDict.popitem()"
   ]
  },
  {
   "cell_type": "code",
   "execution_count": null,
   "metadata": {},
   "outputs": [],
   "source": [
    "aDict.clear()"
   ]
  },
  {
   "cell_type": "code",
   "execution_count": null,
   "metadata": {},
   "outputs": [],
   "source": [
    "aDict"
   ]
  },
  {
   "cell_type": "markdown",
   "metadata": {},
   "source": [
    "字典应用案例"
   ]
  },
  {
   "cell_type": "markdown",
   "metadata": {},
   "source": [
    "首先生成包含1000个随机字符的字符串，然后统计每个字符的出现次数"
   ]
  },
  {
   "cell_type": "code",
   "execution_count": null,
   "metadata": {},
   "outputs": [],
   "source": [
    "import string\n",
    "import random\n",
    "x = '0123456789'\n",
    "# y = [random.choice(x) for i in range(1000)]\n",
    "y = random.choices(x, k=1000)\n",
    "z = ''.join(y)\n",
    "d = dict()                  #使用字典保存每个字符出现次数\n",
    "for ch in z:\n",
    "    d[ch] = d.get(ch, 0) + 1\n",
    "print(d)\n",
    "\n",
    "sorted(d.items(),key=lambda item:item[0])"
   ]
  },
  {
   "cell_type": "markdown",
   "metadata": {},
   "source": [
    "也可以使用collections模块的defaultdict类来实现。"
   ]
  },
  {
   "cell_type": "code",
   "execution_count": null,
   "metadata": {},
   "outputs": [],
   "source": [
    "from collections import defaultdict\n",
    "frequences = defaultdict(int)\n",
    "print(frequences)\n",
    "\n",
    "for item in z:\n",
    "    frequences[item] += 1\n",
    "print(frequences.items())"
   ]
  },
  {
   "cell_type": "markdown",
   "metadata": {},
   "source": [
    "使用collections模块的Counter类可以快速实现这个功能，并且提供更多功能，例如查找出现次数最多的元素"
   ]
  },
  {
   "cell_type": "code",
   "execution_count": null,
   "metadata": {},
   "outputs": [],
   "source": [
    "from collections import Counter\n",
    "frequences = Counter(z)\n",
    "print(frequences.items())\n",
    "frequences.most_common(1)          #出现次数最多的一个字符\n",
    "\n",
    "frequences.most_common(3)"
   ]
  },
  {
   "cell_type": "markdown",
   "metadata": {},
   "source": [
    "Counter对象用法示例"
   ]
  },
  {
   "cell_type": "code",
   "execution_count": null,
   "metadata": {},
   "outputs": [],
   "source": [
    "cnt = Counter()\n",
    "for word in ['red', 'blue', 'red', 'green', 'blue', 'blue']:\n",
    "       cnt[word] += 1\n",
    "cnt"
   ]
  },
  {
   "cell_type": "code",
   "execution_count": null,
   "metadata": {},
   "outputs": [],
   "source": [
    "import re\n",
    "words = re.findall(r'\\w+', open('hamlet.txt').read().lower())\n",
    "Counter(words).most_common(4)      #出现次数最多的4个单词"
   ]
  },
  {
   "cell_type": "markdown",
   "metadata": {},
   "source": [
    "有序字典"
   ]
  },
  {
   "cell_type": "code",
   "execution_count": null,
   "metadata": {},
   "outputs": [],
   "source": [
    "import collections\n",
    "x = collections.OrderedDict() #有序字典，记住元素插入顺序的字典\n",
    "x['a'] = 3\n",
    "x['c'] = 8\n",
    "x['b'] = 12\n",
    "\n",
    "x"
   ]
  },
  {
   "cell_type": "markdown",
   "metadata": {},
   "source": [
    "字典推导式"
   ]
  },
  {
   "cell_type": "code",
   "execution_count": null,
   "metadata": {},
   "outputs": [],
   "source": [
    "{i:str(i) for i in range(1, 5)}"
   ]
  },
  {
   "cell_type": "markdown",
   "metadata": {},
   "source": [
    "# 集合"
   ]
  },
  {
   "cell_type": "markdown",
   "metadata": {},
   "source": [
    "集合中只能包含数字、字符串、元组等不可变类型（或者说可哈希）的数据，而不能包含列表、字典、集合等可变类型的数据"
   ]
  },
  {
   "cell_type": "code",
   "execution_count": null,
   "metadata": {},
   "outputs": [],
   "source": [
    "b_set = set([0, 1, 2, 3, 0, 1, 2, 3, 7, 8])   #自动去除重复\n",
    "b_set"
   ]
  },
  {
   "cell_type": "markdown",
   "metadata": {},
   "source": [
    "当不再使用某个集合时，可以使用del命令删除整个集合。\n",
    "集合对象的pop()方法弹出并删除其中一个元素，remove()方法直接删除指定元素，clear()方法清空集合"
   ]
  },
  {
   "cell_type": "code",
   "execution_count": null,
   "metadata": {},
   "outputs": [],
   "source": [
    "a = {1, 4, 2, 3}\n",
    "a.pop()"
   ]
  },
  {
   "cell_type": "code",
   "execution_count": null,
   "metadata": {},
   "outputs": [],
   "source": [
    "print(a)\n",
    "a.pop()\n",
    "a"
   ]
  },
  {
   "cell_type": "code",
   "execution_count": null,
   "metadata": {},
   "outputs": [],
   "source": [
    "a.add(2)\n",
    "a"
   ]
  },
  {
   "cell_type": "code",
   "execution_count": null,
   "metadata": {},
   "outputs": [],
   "source": [
    "a.remove(3)\n",
    "a"
   ]
  },
  {
   "cell_type": "markdown",
   "metadata": {},
   "source": [
    "Python集合支持交集、并集、差集等运算"
   ]
  },
  {
   "cell_type": "code",
   "execution_count": null,
   "metadata": {},
   "outputs": [],
   "source": [
    "a_set = set([8, 9, 10, 11, 12, 13])"
   ]
  },
  {
   "cell_type": "code",
   "execution_count": null,
   "metadata": {},
   "outputs": [],
   "source": [
    "a_set | b_set                             #并集"
   ]
  },
  {
   "cell_type": "code",
   "execution_count": null,
   "metadata": {},
   "outputs": [],
   "source": [
    "a_set.union(b_set)                        #并集"
   ]
  },
  {
   "cell_type": "code",
   "execution_count": null,
   "metadata": {},
   "outputs": [],
   "source": [
    "a_set & b_set                             #交集"
   ]
  },
  {
   "cell_type": "code",
   "execution_count": null,
   "metadata": {},
   "outputs": [],
   "source": [
    "a_set.intersection(b_set)                 #交集"
   ]
  },
  {
   "cell_type": "code",
   "execution_count": null,
   "metadata": {},
   "outputs": [],
   "source": [
    "a_set.difference(b_set)                   #差集\n",
    "a_set - b_set"
   ]
  },
  {
   "cell_type": "code",
   "execution_count": null,
   "metadata": {},
   "outputs": [],
   "source": [
    "a_set.symmetric_difference(b_set)  #对称差集"
   ]
  },
  {
   "cell_type": "code",
   "execution_count": null,
   "metadata": {},
   "outputs": [],
   "source": [
    "a_set ^ b_set"
   ]
  },
  {
   "cell_type": "code",
   "execution_count": null,
   "metadata": {},
   "outputs": [],
   "source": [
    "x = {1, 2, 3}\n",
    "y = {1, 2, 5}\n",
    "z = {1, 2, 3, 4}\n",
    "x.issubset(y)                      #测试是否为子集"
   ]
  },
  {
   "cell_type": "code",
   "execution_count": null,
   "metadata": {},
   "outputs": [],
   "source": [
    "x.issubset(z)"
   ]
  },
  {
   "cell_type": "code",
   "execution_count": null,
   "metadata": {},
   "outputs": [],
   "source": [
    "{3} & {4}   # 空集合"
   ]
  },
  {
   "cell_type": "code",
   "execution_count": null,
   "metadata": {},
   "outputs": [],
   "source": [
    "{3}.isdisjoint({4})                #如果两个集合的交集为空，返回True"
   ]
  },
  {
   "cell_type": "markdown",
   "metadata": {},
   "source": [
    "集合包含关系测试"
   ]
  },
  {
   "cell_type": "code",
   "execution_count": null,
   "metadata": {},
   "outputs": [],
   "source": [
    "x = {1, 2, 3}\n",
    "y = {1, 2, 5}\n",
    "z = {1, 2, 3, 4}\n",
    "x < y                                #比较集合大小/包含关系\n",
    "x < z                                #真子集\n",
    "y < z\n",
    "{1, 2, 3} <= {1, 2, 3}               #子集"
   ]
  },
  {
   "cell_type": "markdown",
   "metadata": {},
   "source": [
    "使用集合快速提取序列中单一元素。  不重复的随机数列表"
   ]
  },
  {
   "cell_type": "code",
   "execution_count": null,
   "metadata": {},
   "outputs": [],
   "source": [
    "import random\n",
    "listRandom = [random.choice(range(10000)) for i in range(100)]\n",
    "noRepeat = []\n",
    "for i in listRandom :\n",
    "    if i not in noRepeat :\n",
    "         noRepeat.append(i)\n",
    "len(listRandom)\n",
    "len(noRepeat)\n",
    "\n",
    "newSet = set(listRandom)"
   ]
  },
  {
   "cell_type": "code",
   "execution_count": null,
   "metadata": {},
   "outputs": [],
   "source": [
    "newSet"
   ]
  },
  {
   "cell_type": "markdown",
   "metadata": {},
   "source": [
    "生成不重复随机数的效率比较"
   ]
  },
  {
   "cell_type": "markdown",
   "metadata": {},
   "source": [
    "import random\n",
    "import time\n",
    "\n",
    "def RandomNumbers(number, start, end):\n",
    "    '''使用列表来生成number个介于start和end之间的不重复随机数'''\n",
    "    data = []\n",
    "    n = 0\n",
    "    while True:\n",
    "        element = random.randint(start, end)\n",
    "        if element not in data:\n",
    "            data.append(element)\n",
    "            n += 1\n",
    "        if n == number - 1:\n",
    "            break\n",
    "    return data\n",
    "\n",
    "def RandomNumbers1(number, start, end):\n",
    "    '''使用列表来生成number个介于start和end之间的不重复随机数'''\n",
    "    data = []\n",
    "    while True:\n",
    "        element = random.randint(start, end)\n",
    "        if element not in data:\n",
    "            data.append(element)\n",
    "        if len(data) == number:\n",
    "            break\n",
    "    return data\n",
    "\n",
    "def RandomNumbers2(number, start, end):\n",
    "    '''使用集合来生成number个介于start和end之间的不重复随机数'''\n",
    "    data = set()\n",
    "    while True:\n",
    "        data.add(random.randint(start, end))\n",
    "        if len(data) == number:\n",
    "            break\n",
    "    return data\n",
    "\n",
    "start = time.time()\n",
    "for i in range(10000):\n",
    "    RandomNumbers(1000, 1, 10000)\n",
    "print('Time used:', time.time()-start)\n",
    "\n",
    "start = time.time()\n",
    "for i in range(10000):\n",
    "    RandomNumbers1(1000, 1, 10000)\n",
    "print('Time used:', time.time()-start)\n",
    "\n",
    "start = time.time()\n",
    "for i in range(10000):\n",
    "    RandomNumbers2(1000, 1, 10000)\n",
    "print('Time used:', time.time()-start)"
   ]
  },
  {
   "cell_type": "markdown",
   "metadata": {},
   "source": [
    "过滤无效书评"
   ]
  },
  {
   "cell_type": "markdown",
   "metadata": {},
   "source": [
    "很多人喜欢爬取书评，然后选择自己喜欢的书或者其他读者评价较高的书，这是一个非常好的思路，也是非常明智的做法。\n",
    "然而，并不是每个消费者都会认真留言评论，也有部分消费者可能会复制了几个简单的句子或词作为评论。在爬取到原始书评之后可能需要进行简单的处理和过滤，这时就需要制定一个过滤的标准进行预处理，这也是数据处理与分析的关键内容之一。\n",
    "在下面的代码中，采用了一个最简单的规则：正常书评中，重复的字应该不会超过一定的比例。"
   ]
  },
  {
   "cell_type": "code",
   "execution_count": null,
   "metadata": {},
   "outputs": [],
   "source": [
    "comments = ['这是一本非常好的书，作者用心了',\n",
    "            '作者大大辛苦了',\n",
    "            '好书，感谢作者提供了这么多的好案例',\n",
    "            '书在运输的路上破损了，我好悲伤。。。',\n",
    "            '为啥我买的书上有菜汤。。。。',\n",
    "            '啊啊啊啊啊啊，我怎么才发现这么好的书啊，啊啊啊啊啊啊啊啊啊啊啊啊啊啊啊啊啊啊啊啊啊啊啊啊啊啊啊啊啊啊-相见恨晚',\n",
    "            '书的质量有问题啊，怎么会开胶呢？？？？？？',\n",
    "            '好好好好好好好好好好好',\n",
    "            '好难啊看不懂好难啊看不懂好难啊看不懂',\n",
    "            '书的内容很充实',\n",
    "            '你的书上好多代码啊，不过想想也是，编程的书嘛，肯定代码多一些',\n",
    "            '书很不错!!一级棒!!买书就上当当，正版，价格又实惠，让人放心!!! ',\n",
    "            '无意中来到你小铺就淘到心意的宝贝，心情不错! ',\n",
    "            '送给朋友的、很不错',\n",
    "            '这是一本好书，讲解内容深入浅出又清晰明了，推荐给所有喜欢阅读的朋友同好们。']"
   ]
  },
  {
   "cell_type": "code",
   "execution_count": null,
   "metadata": {},
   "outputs": [],
   "source": [
    "rule = lambda s:len(set(s))/len(s)>0.5\n",
    "result = filter(rule, comments)\n",
    "\n",
    "print('原始书评：')\n",
    "for comment in comments:\n",
    "    print(comment)\n",
    "\n",
    "print('='*30)\n",
    "print('过滤后的书评：')\n",
    "for comment in result:\n",
    "    print(comment)"
   ]
  },
  {
   "cell_type": "code",
   "execution_count": null,
   "metadata": {},
   "outputs": [],
   "source": [
    "def rate(s):\n",
    "    print(\"@!^\", s, '\\n', set(s))\n",
    "    y = len(set(s)) / len(s)\n",
    "    return y > 0.5\n",
    "\n",
    "\n",
    "rule = lambda s: rate(s)\n",
    "result = filter(rule, comments)\n",
    "\n",
    "print('原始书评：')\n",
    "for comment in comments:\n",
    "    print(comment)\n",
    "\n",
    "print('=' * 30)\n",
    "print('过滤后的书评：')\n",
    "for comment in result:\n",
    "    print(comment)"
   ]
  }
 ],
 "metadata": {
  "kernelspec": {
   "display_name": "Python 3",
   "language": "python",
   "name": "python3"
  },
  "language_info": {
   "codemirror_mode": {
    "name": "ipython",
    "version": 3
   },
   "file_extension": ".py",
   "mimetype": "text/x-python",
   "name": "python",
   "nbconvert_exporter": "python",
   "pygments_lexer": "ipython3",
   "version": "3.7.1"
  }
 },
 "nbformat": 4,
 "nbformat_minor": 1
}
