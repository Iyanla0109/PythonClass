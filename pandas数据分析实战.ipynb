{
 "cells": [
  {
   "cell_type": "code",
   "execution_count": 49,
   "metadata": {},
   "outputs": [],
   "source": [
    "### 1.1  一维数组与常用操作\n",
    "import pandas as pd\n",
    "import matplotlib.pyplot as plt\n",
    "\n",
    "# 设置输出结果列对齐\n",
    "pd.set_option('display.unicode.ambiguous_as_wide', True)\n",
    "pd.set_option('display.unicode.east_asian_width', True)"
   ]
  },
  {
   "cell_type": "code",
   "execution_count": 50,
   "metadata": {
    "pycharm": {
     "name": "#%%\n"
    }
   },
   "outputs": [],
   "source": [
    "# 自动创建从0开始的非负整数索引\n",
    "s1 = pd.Series(range(1, 20, 5))\n",
    "# 使用字典创建Series，使用字典的“键”作为索引\n",
    "s2 = pd.Series({'语文':90, '数学': 92, 'Python': 98, '物理':87, '化学': 92})\n",
    "# 修改指定索引对应的值\n",
    "s1[3] = -17\n",
    "s2['语文'] = 94"
   ]
  },
  {
   "cell_type": "code",
   "execution_count": 51,
   "metadata": {
    "pycharm": {
     "name": "#%%\n"
    }
   },
   "outputs": [
    {
     "name": "stdout",
     "output_type": "stream",
     "text": [
      "s1原始数据==============\n",
      "0     1\n",
      "1     6\n",
      "2    11\n",
      "3   -17\n",
      "dtype: int64\n"
     ]
    }
   ],
   "source": [
    "print('s1原始数据'.ljust(20, '='))\n",
    "print(s1)"
   ]
  },
  {
   "cell_type": "code",
   "execution_count": 52,
   "metadata": {
    "pycharm": {
     "name": "#%%\n"
    }
   },
   "outputs": [
    {
     "name": "stdout",
     "output_type": "stream",
     "text": [
      "对s1所有数据求绝对值=========\n",
      "0     1\n",
      "1     6\n",
      "2    11\n",
      "3    17\n",
      "dtype: int64\n"
     ]
    }
   ],
   "source": [
    "print('对s1所有数据求绝对值'.ljust(20, '='))\n",
    "print(abs(s1))"
   ]
  },
  {
   "cell_type": "code",
   "execution_count": 53,
   "metadata": {
    "pycharm": {
     "name": "#%%\n"
    }
   },
   "outputs": [
    {
     "name": "stdout",
     "output_type": "stream",
     "text": [
      "s1所有的值加5============\n",
      "0     6\n",
      "1    11\n",
      "2    16\n",
      "3   -12\n",
      "dtype: int64\n"
     ]
    }
   ],
   "source": [
    "print('s1所有的值加5'.ljust(20, '='))\n",
    "print(s1+5)"
   ]
  },
  {
   "cell_type": "code",
   "execution_count": 54,
   "metadata": {
    "pycharm": {
     "name": "#%%\n"
    }
   },
   "outputs": [
    {
     "name": "stdout",
     "output_type": "stream",
     "text": [
      "s1的每行索引前面加上数字2======\n",
      "20     1\n",
      "21     6\n",
      "22    11\n",
      "23   -17\n",
      "dtype: int64\n"
     ]
    }
   ],
   "source": [
    "print('s1的每行索引前面加上数字2'.ljust(20, '='))\n",
    "print(s1.add_prefix(2))"
   ]
  },
  {
   "cell_type": "code",
   "execution_count": 55,
   "metadata": {
    "pycharm": {
     "name": "#%%\n"
    }
   },
   "outputs": [
    {
     "name": "stdout",
     "output_type": "stream",
     "text": [
      "s2原始数据==============\n",
      "语文      94\n",
      "数学      92\n",
      "Python    98\n",
      "物理      87\n",
      "化学      92\n",
      "dtype: int64\n"
     ]
    }
   ],
   "source": [
    "print('s2原始数据'.ljust(20, '='))\n",
    "print(s2)"
   ]
  },
  {
   "cell_type": "code",
   "execution_count": 56,
   "metadata": {
    "pycharm": {
     "name": "#%%\n"
    }
   },
   "outputs": [
    {
     "name": "stdout",
     "output_type": "stream",
     "text": [
      "s2数据的直方图============\n"
     ]
    },
    {
     "data": {
      "image/png": "[encoded data removed]",
      "text/plain": [
       "<Figure size 432x288 with 1 Axes>"
      ]
     },
     "metadata": {
      "needs_background": "light"
     },
     "output_type": "display_data"
    }
   ],
   "source": [
    "print('s2数据的直方图'.ljust(20,'='))\n",
    "s2.hist()\n",
    "plt.show()"
   ]
  },
  {
   "cell_type": "code",
   "execution_count": 57,
   "metadata": {
    "pycharm": {
     "name": "#%%\n"
    }
   },
   "outputs": [
    {
     "name": "stdout",
     "output_type": "stream",
     "text": [
      "s2的每行索引后面加上_张三======\n",
      "语文_张三      94\n",
      "数学_张三      92\n",
      "Python_张三    98\n",
      "物理_张三      87\n",
      "化学_张三      92\n",
      "dtype: int64\n"
     ]
    }
   ],
   "source": [
    "print('s2的每行索引后面加上_张三'.ljust(20, '='))\n",
    "print(s2.add_suffix('_张三'))"
   ]
  },
  {
   "cell_type": "code",
   "execution_count": 58,
   "metadata": {
    "pycharm": {
     "name": "#%%\n"
    }
   },
   "outputs": [
    {
     "name": "stdout",
     "output_type": "stream",
     "text": [
      "s2最大值的索引============\n",
      "2\n"
     ]
    }
   ],
   "source": [
    "print('s2最大值的索引'.ljust(20, '='))\n",
    "print(s2.argmax())"
   ]
  },
  {
   "cell_type": "code",
   "execution_count": 59,
   "metadata": {
    "pycharm": {
     "name": "#%%\n"
    }
   },
   "outputs": [
    {
     "name": "stdout",
     "output_type": "stream",
     "text": [
      "测试s2的值是否在指定区间内======\n",
      "语文       True\n",
      "数学       True\n",
      "Python    False\n",
      "物理      False\n",
      "化学       True\n",
      "dtype: bool\n"
     ]
    },
    {
     "name": "stderr",
     "output_type": "stream",
     "text": [
      "/Library/Frameworks/Python.framework/Versions/3.7/lib/python3.7/site-packages/ipykernel_launcher.py:2: FutureWarning: Boolean inputs to the `inclusive` argument are deprecated infavour of `both` or `neither`.\n",
      "  \n"
     ]
    }
   ],
   "source": [
    "print('测试s2的值是否在指定区间内'.ljust(20, '='))\n",
    "print(s2.between(90, 94, inclusive=True))"
   ]
  },
  {
   "cell_type": "code",
   "execution_count": 60,
   "metadata": {
    "pycharm": {
     "name": "#%%\n"
    }
   },
   "outputs": [
    {
     "name": "stdout",
     "output_type": "stream",
     "text": [
      "查看s2中90分以上的数据=======\n",
      "语文      94\n",
      "数学      92\n",
      "Python    98\n",
      "化学      92\n",
      "dtype: int64\n"
     ]
    }
   ],
   "source": [
    "print('查看s2中90分以上的数据'.ljust(20,'='))\n",
    "print(s2[s2>90])"
   ]
  },
  {
   "cell_type": "code",
   "execution_count": 61,
   "metadata": {
    "pycharm": {
     "name": "#%%\n"
    }
   },
   "outputs": [
    {
     "name": "stdout",
     "output_type": "stream",
     "text": [
      "查看s2中大于中值的数据========\n",
      "语文      94\n",
      "Python    98\n",
      "dtype: int64\n"
     ]
    }
   ],
   "source": [
    "print('查看s2中大于中值的数据'.ljust(20,'='))\n",
    "print(s2[s2>s2.median()])"
   ]
  },
  {
   "cell_type": "code",
   "execution_count": 62,
   "metadata": {
    "pycharm": {
     "name": "#%%\n"
    }
   },
   "outputs": [
    {
     "name": "stdout",
     "output_type": "stream",
     "text": [
      "s2与数字之间的运算==========\n",
      "语文      97.0\n",
      "数学      95.9\n",
      "Python    99.0\n",
      "物理      93.3\n",
      "化学      95.9\n",
      "dtype: float64\n"
     ]
    }
   ],
   "source": [
    "print('s2与数字之间的运算'.ljust(20, '='))\n",
    "print(round((s2**0.5)*10, 1))"
   ]
  },
  {
   "cell_type": "code",
   "execution_count": 63,
   "metadata": {
    "pycharm": {
     "name": "#%%\n"
    }
   },
   "outputs": [
    {
     "name": "stdout",
     "output_type": "stream",
     "text": [
      "s2的中值===============\n",
      "92.0\n"
     ]
    }
   ],
   "source": [
    "print('s2的中值'.ljust(20, '='))\n",
    "print(s2.median())"
   ]
  },
  {
   "cell_type": "code",
   "execution_count": 64,
   "metadata": {
    "pycharm": {
     "name": "#%%\n"
    }
   },
   "outputs": [
    {
     "name": "stdout",
     "output_type": "stream",
     "text": [
      "s2中最小的2个值===========\n",
      "物理    87\n",
      "数学    92\n",
      "dtype: int64\n"
     ]
    }
   ],
   "source": [
    "print('s2中最小的2个值'.ljust(20, '='))\n",
    "print(s2.nsmallest(2))"
   ]
  },
  {
   "cell_type": "code",
   "execution_count": 65,
   "metadata": {
    "pycharm": {
     "name": "#%%\n"
    }
   },
   "outputs": [
    {
     "name": "stdout",
     "output_type": "stream",
     "text": [
      "两个Series对象相加========\n",
      "0     5\n",
      "1     7\n",
      "2     9\n",
      "3    11\n",
      "4    13\n",
      "dtype: int64\n"
     ]
    }
   ],
   "source": [
    "# 两个等长Series对象之间可以进行四则运算和幂运算\n",
    "# 只对两个Series对象中都有的索引对应的值进行计算\n",
    "# 非共同索引对应的值为控制NaN\n",
    "print('两个Series对象相加'.ljust(20,'='))\n",
    "print(pd.Series(range(5))+pd.Series(range(5,10)))"
   ]
  },
  {
   "cell_type": "code",
   "execution_count": 66,
   "metadata": {
    "pycharm": {
     "name": "#%%\n"
    }
   },
   "outputs": [
    {
     "name": "stdout",
     "output_type": "stream",
     "text": [
      "每个值的平方对5的余数=========\n",
      "0    0\n",
      "1    1\n",
      "2    4\n",
      "3    4\n",
      "4    1\n",
      "dtype: int64\n"
     ]
    }
   ],
   "source": [
    "# pipe()方法可以实现函数链式调用的功能\n",
    "print('每个值的平方对5的余数'.ljust(20,'='))\n",
    "print(pd.Series(range(5)).pipe(lambda x,y,z:(x**y)%z, 2, 5))"
   ]
  },
  {
   "cell_type": "code",
   "execution_count": 67,
   "metadata": {
    "pycharm": {
     "name": "#%%\n"
    }
   },
   "outputs": [
    {
     "name": "stdout",
     "output_type": "stream",
     "text": [
      "每个值加3之后再乘以3=========\n",
      "0     9\n",
      "1    12\n",
      "2    15\n",
      "3    18\n",
      "4    21\n",
      "dtype: int64\n"
     ]
    }
   ],
   "source": [
    "print('每个值加3之后再乘以3'.ljust(20,'='))\n",
    "print(pd.Series(range(5)).pipe(lambda x:x+3).pipe(lambda x:x*3))"
   ]
  },
  {
   "cell_type": "code",
   "execution_count": 68,
   "metadata": {
    "pycharm": {
     "name": "#%%\n"
    }
   },
   "outputs": [
    {
     "name": "stdout",
     "output_type": "stream",
     "text": [
      "每个值加3===============\n",
      "0    3\n",
      "1    4\n",
      "2    5\n",
      "3    6\n",
      "4    7\n",
      "dtype: int64\n"
     ]
    }
   ],
   "source": [
    "# apply()方法用来对Series对象的值进行函数运算\n",
    "print('每个值加3'.ljust(20,'='))\n",
    "print(pd.Series(range(5)).apply(lambda x: x+3))"
   ]
  },
  {
   "cell_type": "code",
   "execution_count": 69,
   "metadata": {
    "pycharm": {
     "name": "#%%\n"
    }
   },
   "outputs": [
    {
     "name": "stdout",
     "output_type": "stream",
     "text": [
      "标准差、无偏方差、无偏标准差======\n",
      "1.5811388300841898\n",
      "2.5\n",
      "0.7071067811865476\n"
     ]
    }
   ],
   "source": [
    "print('标准差、无偏方差、无偏标准差'.ljust(20,'='))\n",
    "print(pd.Series(range(5)).std())\n",
    "print(pd.Series(range(5)).var())\n",
    "print(pd.Series(range(5)).sem())"
   ]
  },
  {
   "cell_type": "code",
   "execution_count": 70,
   "metadata": {
    "pycharm": {
     "name": "#%%\n"
    }
   },
   "outputs": [
    {
     "name": "stdout",
     "output_type": "stream",
     "text": [
      "查看是否存在等价于True的值=====\n",
      "True\n"
     ]
    }
   ],
   "source": [
    "print('查看是否存在等价于True的值'.ljust(20,'='))\n",
    "print(any(pd.Series([3,0,True])))"
   ]
  },
  {
   "cell_type": "code",
   "execution_count": 71,
   "metadata": {
    "pycharm": {
     "name": "#%%\n"
    }
   },
   "outputs": [
    {
     "name": "stdout",
     "output_type": "stream",
     "text": [
      "查看是否所有值都等价于True=====\n",
      "False\n"
     ]
    }
   ],
   "source": [
    "print('查看是否所有值都等价于True'.ljust(20,'='))\n",
    "print(all(pd.Series([3,0,True])))"
   ]
  },
  {
   "cell_type": "code",
   "execution_count": 72,
   "metadata": {
    "pycharm": {
     "name": "#%%\n"
    }
   },
   "outputs": [
    {
     "name": "stdout",
     "output_type": "stream",
     "text": [
      "间隔5天==========================\n",
      "DatetimeIndex(['2019-06-01', '2019-06-06', '2019-06-11', '2019-06-16',\n",
      "               '2019-06-21', '2019-06-26'],\n",
      "              dtype='datetime64[ns]', freq='5D')\n"
     ]
    }
   ],
   "source": [
    "### 1.2  时间序列与常用操作\n",
    "import pandas as pd\n",
    "\n",
    "# start指定起始日期，end指定结束日期，periods指定产生的数据数量\n",
    "# freq指定间隔，D表示天，W表示周，H表示小时\n",
    "# M表示月末最后一天，MS表示月初第一天\n",
    "# T表示分钟，Y表示年末最后一天，YS表示年初第一天\n",
    "print('间隔5天'.ljust(30, '='))\n",
    "print(pd.date_range(start='20190601', end='20190630', freq='5D'))"
   ]
  },
  {
   "cell_type": "code",
   "execution_count": 73,
   "metadata": {
    "pycharm": {
     "name": "#%%\n"
    }
   },
   "outputs": [
    {
     "name": "stdout",
     "output_type": "stream",
     "text": [
      "间隔1周==========================\n",
      "DatetimeIndex(['2019-06-02', '2019-06-09', '2019-06-16', '2019-06-23',\n",
      "               '2019-06-30'],\n",
      "              dtype='datetime64[ns]', freq='W-SUN')\n"
     ]
    }
   ],
   "source": [
    "print('间隔1周'.ljust(30, '='))\n",
    "print(pd.date_range(start='20190601', end='20190630', freq='W'))"
   ]
  },
  {
   "cell_type": "code",
   "execution_count": 74,
   "metadata": {
    "pycharm": {
     "name": "#%%\n"
    }
   },
   "outputs": [
    {
     "name": "stdout",
     "output_type": "stream",
     "text": [
      "间隔2天，5个数据=====================\n",
      "DatetimeIndex(['2019-06-01', '2019-06-03', '2019-06-05', '2019-06-07',\n",
      "               '2019-06-09'],\n",
      "              dtype='datetime64[ns]', freq='2D')\n"
     ]
    }
   ],
   "source": [
    "print('间隔2天，5个数据'.ljust(30, '='))\n",
    "print(pd.date_range(start='20190601', periods=5, freq='2D'))"
   ]
  },
  {
   "cell_type": "code",
   "execution_count": 75,
   "metadata": {
    "pycharm": {
     "name": "#%%\n"
    }
   },
   "outputs": [
    {
     "name": "stdout",
     "output_type": "stream",
     "text": [
      "间隔3小时，8个数据====================\n",
      "DatetimeIndex(['2019-06-01 00:00:00', '2019-06-01 03:00:00',\n",
      "               '2019-06-01 06:00:00', '2019-06-01 09:00:00',\n",
      "               '2019-06-01 12:00:00', '2019-06-01 15:00:00',\n",
      "               '2019-06-01 18:00:00', '2019-06-01 21:00:00'],\n",
      "              dtype='datetime64[ns]', freq='3H')\n"
     ]
    }
   ],
   "source": [
    "print('间隔3小时，8个数据'.ljust(30, '='))\n",
    "print(pd.date_range(start='20190601', periods=8, freq='3H'))"
   ]
  },
  {
   "cell_type": "code",
   "execution_count": 76,
   "metadata": {
    "pycharm": {
     "name": "#%%\n"
    }
   },
   "outputs": [
    {
     "name": "stdout",
     "output_type": "stream",
     "text": [
      "3:00开始，间隔1分钟，12个数据============\n",
      "DatetimeIndex(['2019-06-01 03:00:00', '2019-06-01 03:01:00',\n",
      "               '2019-06-01 03:02:00', '2019-06-01 03:03:00',\n",
      "               '2019-06-01 03:04:00', '2019-06-01 03:05:00',\n",
      "               '2019-06-01 03:06:00', '2019-06-01 03:07:00',\n",
      "               '2019-06-01 03:08:00', '2019-06-01 03:09:00',\n",
      "               '2019-06-01 03:10:00', '2019-06-01 03:11:00'],\n",
      "              dtype='datetime64[ns]', freq='T')\n"
     ]
    }
   ],
   "source": [
    "print('3:00开始，间隔1分钟，12个数据'.ljust(30, '='))\n",
    "print(pd.date_range(start='201906010300', periods=12, freq='T'))"
   ]
  },
  {
   "cell_type": "code",
   "execution_count": 77,
   "metadata": {
    "pycharm": {
     "name": "#%%\n"
    }
   },
   "outputs": [
    {
     "name": "stdout",
     "output_type": "stream",
     "text": [
      "间隔1月，月末最后一天===================\n",
      "DatetimeIndex(['2019-01-31', '2019-02-28', '2019-03-31', '2019-04-30',\n",
      "               '2019-05-31', '2019-06-30', '2019-07-31', '2019-08-31',\n",
      "               '2019-09-30', '2019-10-31', '2019-11-30', '2019-12-31'],\n",
      "              dtype='datetime64[ns]', freq='M')\n"
     ]
    }
   ],
   "source": [
    "print('间隔1月，月末最后一天'.ljust(30, '='))\n",
    "print(pd.date_range(start='20190101', end='20191231', freq='M'))"
   ]
  },
  {
   "cell_type": "code",
   "execution_count": 78,
   "metadata": {
    "pycharm": {
     "name": "#%%\n"
    }
   },
   "outputs": [
    {
     "name": "stdout",
     "output_type": "stream",
     "text": [
      "间隔1年，6个数据，年末最后一天==============\n",
      "DatetimeIndex(['2019-12-31', '2020-12-31', '2021-12-31', '2022-12-31',\n",
      "               '2023-12-31', '2024-12-31'],\n",
      "              dtype='datetime64[ns]', freq='A-DEC')\n"
     ]
    }
   ],
   "source": [
    "print('间隔1年，6个数据，年末最后一天'.ljust(30, '='))\n",
    "print(pd.date_range(start='20190101', periods=6, freq='A'))"
   ]
  },
  {
   "cell_type": "code",
   "execution_count": 79,
   "metadata": {
    "pycharm": {
     "name": "#%%\n"
    }
   },
   "outputs": [
    {
     "name": "stdout",
     "output_type": "stream",
     "text": [
      "间隔1年，6个数据，年初第一天===============\n",
      "DatetimeIndex(['2019-01-01', '2020-01-01', '2021-01-01', '2022-01-01',\n",
      "               '2023-01-01', '2024-01-01'],\n",
      "              dtype='datetime64[ns]', freq='AS-JAN')\n"
     ]
    }
   ],
   "source": [
    "print('间隔1年，6个数据，年初第一天'.ljust(30, '='))\n",
    "print(pd.date_range(start='20190101', periods=6, freq='AS'))"
   ]
  },
  {
   "cell_type": "code",
   "execution_count": 80,
   "metadata": {
    "pycharm": {
     "name": "#%%\n"
    }
   },
   "outputs": [
    {
     "name": "stdout",
     "output_type": "stream",
     "text": [
      "前5条数据=========================\n",
      "2019-07-01 00:00:00    0\n",
      "2019-07-01 01:00:00    1\n",
      "2019-07-01 02:00:00    2\n",
      "2019-07-01 03:00:00    3\n",
      "2019-07-01 04:00:00    4\n",
      "Freq: H, dtype: int64\n"
     ]
    }
   ],
   "source": [
    "# 使用日期时间做索引，创建Series对象\n",
    "data = pd.Series(index=pd.date_range(start='20190701', periods=24, freq='H'), data=range(24))\n",
    "print('前5条数据'.ljust(30, '='))\n",
    "print(data[:5])"
   ]
  },
  {
   "cell_type": "code",
   "execution_count": 81,
   "metadata": {
    "pycharm": {
     "name": "#%%\n"
    }
   },
   "outputs": [
    {
     "name": "stdout",
     "output_type": "stream",
     "text": [
      "3分钟重采样，计算均值===================\n",
      "2019-07-01 00:00:00     1.0\n",
      "2019-07-01 03:00:00     4.0\n",
      "2019-07-01 06:00:00     7.0\n",
      "2019-07-01 09:00:00    10.0\n",
      "2019-07-01 12:00:00    13.0\n",
      "2019-07-01 15:00:00    16.0\n",
      "2019-07-01 18:00:00    19.0\n",
      "2019-07-01 21:00:00    22.0\n",
      "Freq: 3H, dtype: float64\n"
     ]
    }
   ],
   "source": [
    "print('3分钟重采样，计算均值'.ljust(30, '='))\n",
    "print(data.resample('3H').mean())"
   ]
  },
  {
   "cell_type": "code",
   "execution_count": 82,
   "metadata": {
    "pycharm": {
     "name": "#%%\n"
    }
   },
   "outputs": [
    {
     "name": "stdout",
     "output_type": "stream",
     "text": [
      "5小时重采样，求和=====================\n",
      "2019-07-01 00:00:00    10\n",
      "2019-07-01 05:00:00    35\n",
      "2019-07-01 10:00:00    60\n",
      "2019-07-01 15:00:00    85\n",
      "2019-07-01 20:00:00    86\n",
      "Freq: 5H, dtype: int64\n"
     ]
    }
   ],
   "source": [
    "print('5小时重采样，求和'.ljust(30, '='))\n",
    "print(data.resample('5H').sum())"
   ]
  },
  {
   "cell_type": "code",
   "execution_count": 83,
   "metadata": {
    "pycharm": {
     "name": "#%%\n"
    }
   },
   "outputs": [
    {
     "name": "stdout",
     "output_type": "stream",
     "text": [
      "5小时重采样，统计OHLC值================\n",
      "                     open  high  low  close\n",
      "2019-07-01 00:00:00     0     4    0      4\n",
      "2019-07-01 05:00:00     5     9    5      9\n",
      "2019-07-01 10:00:00    10    14   10     14\n",
      "2019-07-01 15:00:00    15    19   15     19\n",
      "2019-07-01 20:00:00    20    23   20     23\n"
     ]
    }
   ],
   "source": [
    "# OHLC分别表示OPEN、HIGH、LOW、CLOSE\n",
    "print('5小时重采样，统计OHLC值'.ljust(30, '='))\n",
    "print(data.resample('5H').ohlc())"
   ]
  },
  {
   "cell_type": "code",
   "execution_count": 84,
   "metadata": {
    "pycharm": {
     "name": "#%%\n"
    }
   },
   "outputs": [
    {
     "name": "stdout",
     "output_type": "stream",
     "text": [
      "所有日期替换为第二天==========\n",
      "2019-07-02 00:00:00    0\n",
      "2019-07-02 01:00:00    1\n",
      "2019-07-02 02:00:00    2\n",
      "2019-07-02 03:00:00    3\n",
      "2019-07-02 04:00:00    4\n",
      "Freq: H, dtype: int64\n"
     ]
    }
   ],
   "source": [
    "print('所有日期替换为第二天'.ljust(20,'='))\n",
    "data.index = data.index + pd.Timedelta('1D')\n",
    "print(data[:5])"
   ]
  },
  {
   "cell_type": "code",
   "execution_count": 85,
   "metadata": {
    "pycharm": {
     "name": "#%%\n"
    }
   },
   "outputs": [
    {
     "name": "stdout",
     "output_type": "stream",
     "text": [
      "查看指定日期是周几===========\n",
      "Saturday\n",
      "6\n"
     ]
    }
   ],
   "source": [
    "print('查看指定日期是周几'.ljust(20,'='))\n",
    "print(pd.Timestamp('20190323').day_name())\n",
    "print(pd.Timestamp('20190324').dayofweek)"
   ]
  },
  {
   "cell_type": "code",
   "execution_count": 86,
   "metadata": {
    "pycharm": {
     "name": "#%%\n"
    }
   },
   "outputs": [
    {
     "name": "stdout",
     "output_type": "stream",
     "text": [
      "查看指定日期时间所在年是否闰年=====\n",
      "False\n"
     ]
    }
   ],
   "source": [
    "print('查看指定日期时间所在年是否闰年'.ljust(20,'='))\n",
    "print(pd.Timestamp('201909300800').is_leap_year)"
   ]
  },
  {
   "cell_type": "code",
   "execution_count": 87,
   "metadata": {
    "pycharm": {
     "name": "#%%\n"
    }
   },
   "outputs": [
    {
     "name": "stdout",
     "output_type": "stream",
     "text": [
      "查看指定日期所在的季度和月份======\n",
      "4 10\n"
     ]
    }
   ],
   "source": [
    "print('查看指定日期所在的季度和月份'.ljust(20,'='))\n",
    "day = pd.Timestamp('20191025')\n",
    "print(day.quarter, day.month)"
   ]
  },
  {
   "cell_type": "code",
   "execution_count": 88,
   "metadata": {
    "pycharm": {
     "name": "#%%\n"
    }
   },
   "outputs": [
    {
     "name": "stdout",
     "output_type": "stream",
     "text": [
      "转换为Python的日期时间对象====\n",
      "2019-10-25 00:00:00\n"
     ]
    }
   ],
   "source": [
    "print('转换为Python的日期时间对象'.ljust(20,'='))\n",
    "print(day.to_pydatetime())"
   ]
  },
  {
   "cell_type": "code",
   "execution_count": 89,
   "metadata": {},
   "outputs": [],
   "source": [
    "### 1.3  二维数组DataFrame\n",
    "import numpy as np\n",
    "import pandas as pd\n",
    "\n",
    "# 设置输出结果列对齐\n",
    "pd.set_option('display.unicode.ambiguous_as_wide', True)\n",
    "pd.set_option('display.unicode.east_asian_width', True)"
   ]
  },
  {
   "cell_type": "code",
   "execution_count": 90,
   "metadata": {
    "pycharm": {
     "name": "#%%\n"
    }
   },
   "outputs": [
    {
     "name": "stdout",
     "output_type": "stream",
     "text": [
      "    A   B   C\n",
      "0   5  18  19\n",
      "1  10  18   1\n",
      "2  14  17   2\n",
      "3  18  14   9\n",
      "4   2  13  19\n"
     ]
    }
   ],
   "source": [
    "# 在[1,20]区间上生成5行3列15个随机数\n",
    "# 使用index参数指定索引，columns参数指定每列标题\n",
    "df = pd.DataFrame(np.random.randint(1, 20, (5,3)),\n",
    "                  index=range(5),\n",
    "                  columns=['A', 'B', 'C'])\n",
    "print(df)"
   ]
  },
  {
   "cell_type": "code",
   "execution_count": 91,
   "metadata": {
    "pycharm": {
     "name": "#%%\n"
    }
   },
   "outputs": [
    {
     "name": "stdout",
     "output_type": "stream",
     "text": [
      "====================\n",
      "                     熟食  化妆品  日用品\n",
      "2019-07-15 09:00:00    10      10      10\n",
      "2019-07-15 10:00:00     8      12       7\n",
      "2019-07-15 11:00:00    14       6       6\n",
      "2019-07-15 12:00:00     9      10      11\n",
      "2019-07-15 13:00:00     8       6      11\n",
      "2019-07-15 14:00:00    10       7      11\n",
      "2019-07-15 15:00:00     6      12      11\n",
      "2019-07-15 16:00:00     8       7      10\n",
      "2019-07-15 17:00:00     7      11       9\n",
      "2019-07-15 18:00:00    13      14      14\n",
      "2019-07-15 19:00:00     6       6      11\n",
      "2019-07-15 20:00:00     7      13       8\n",
      "2019-07-15 21:00:00    10      12       6\n"
     ]
    }
   ],
   "source": [
    "print('='*20)\n",
    "# 模拟2019年7月15日某超市熟食、化妆品、日用品每小时的销量\n",
    "# 使用时间序列作为索引\n",
    "df = pd.DataFrame(np.random.randint(5, 15, (13, 3)),\n",
    "                  index=pd.date_range(start='201907150900',\n",
    "                                      end='201907152100',\n",
    "                                      freq='H'),\n",
    "                  columns=['熟食', '化妆品', '日用品'])\n",
    "print(df)"
   ]
  },
  {
   "cell_type": "code",
   "execution_count": 92,
   "metadata": {
    "pycharm": {
     "name": "#%%\n"
    }
   },
   "outputs": [
    {
     "name": "stdout",
     "output_type": "stream",
     "text": [
      "====================\n",
      "      语文  数学  英语\n",
      "张三    87    93    90\n",
      "李四    79    89    80\n",
      "王五    67    80    70\n",
      "赵六    92    77    75\n"
     ]
    }
   ],
   "source": [
    "print('='*20)\n",
    "# 模拟考试成绩，使用人名字符串做索引\n",
    "df = pd.DataFrame({'语文':[87,79,67,92],\n",
    "                   '数学':[93,89,80,77],\n",
    "                   '英语':[90,80,70,75]},\n",
    "                  index=['张三', '李四', '王五', '赵六'])\n",
    "print(df)"
   ]
  },
  {
   "cell_type": "code",
   "execution_count": 93,
   "metadata": {
    "pycharm": {
     "name": "#%%\n"
    }
   },
   "outputs": [
    {
     "name": "stdout",
     "output_type": "stream",
     "text": [
      "====================\n",
      "   A  B\n",
      "0  5  3\n",
      "1  6  3\n",
      "2  7  3\n",
      "3  8  3\n",
      "4  9  3\n"
     ]
    }
   ],
   "source": [
    "print('='*20)\n",
    "# 自动对B列数据进行扩充，使其与A列数据一样多\n",
    "df = pd.DataFrame({'A':range(5,10), 'B':3})\n",
    "print(df)"
   ]
  },
  {
   "cell_type": "code",
   "execution_count": 94,
   "metadata": {},
   "outputs": [],
   "source": [
    "### 2.1  读取Excel文件中的数据\n",
    "import pandas as pd\n",
    "\n",
    "# 设置列对齐\n",
    "pd.set_option('display.unicode.ambiguous_as_wide', True)\n",
    "pd.set_option('display.unicode.east_asian_width', True)"
   ]
  },
  {
   "cell_type": "code",
   "execution_count": 95,
   "metadata": {
    "pycharm": {
     "name": "#%%\n"
    }
   },
   "outputs": [
    {
     "name": "stdout",
     "output_type": "stream",
     "text": [
      "   工号  姓名           时段  交易额\n",
      "0  1001  张三   9：00-14：00  1664.0\n",
      "1  1002  李四  14：00-21：00   954.0\n",
      "2  1003  王五   9：00-14：00  1407.0\n",
      "3  1004  赵六  14：00-21：00  1320.0\n",
      "4  1005  周七   9：00-14：00   994.0\n",
      "5  1006  钱八  14：00-21：00  1421.0\n",
      "6  1006  钱八   9：00-14：00  1226.0\n",
      "7  1001  张三  14：00-21：00  1442.0\n",
      "8  1001  张三   9：00-14：00  1530.0\n",
      "9  1002  李四  14：00-21：00  1395.0\n",
      "\n"
     ]
    }
   ],
   "source": [
    "# 读取工号、姓名、时段、交易额这四列数据，使用默认索引\n",
    "df = pd.read_excel(r'超市营业额2.xlsx',\n",
    "                   usecols=['工号','姓名','时段','交易额'])\n",
    "\n",
    "# 输出前10行数据\n",
    "print(df[:10], end='\\n\\n')"
   ]
  },
  {
   "cell_type": "code",
   "execution_count": 96,
   "metadata": {
    "pycharm": {
     "name": "#%%\n"
    }
   },
   "outputs": [
    {
     "name": "stdout",
     "output_type": "stream",
     "text": [
      "      工号        日期           时段  交易额      柜台\n",
      "姓名                                                   \n",
      "李四  1002  2019-03-01  14：00-21：00   954.0    化妆品\n",
      "赵六  1004  2019-03-01  14：00-21：00  1320.0      食品\n",
      "钱八  1006  2019-03-01  14：00-21：00  1421.0    日用品\n",
      "钱八  1006  2019-03-01   9：00-14：00  1226.0  蔬菜水果\n",
      "张三  1001  2019-03-01  14：00-21：00  1442.0  蔬菜水果\n",
      "张三  1001  2019-03-02   9：00-14：00  1530.0    化妆品\n",
      "李四  1002  2019-03-02  14：00-21：00  1395.0    化妆品\n",
      "王五  1003  2019-03-02   9：00-14：00   936.0      食品\n",
      "赵六  1004  2019-03-02  14：00-21：00   906.0      食品\n",
      "周七  1005  2019-03-02   9：00-14：00  1444.0    日用品\n"
     ]
    }
   ],
   "source": [
    "# 读取第一个worksheet中所有列\n",
    "# 跳过第1、3、5行，指定下标为1的列中数据为DataFrame的行索引标签\n",
    "df = pd.read_excel(r'超市营业额2.xlsx',\n",
    "                   skiprows=[1,3,5], index_col=1)\n",
    "print(df[:10])"
   ]
  },
  {
   "cell_type": "code",
   "execution_count": 97,
   "metadata": {},
   "outputs": [],
   "source": [
    "### 2.2  筛选符合特定条件的数据\n",
    "import pandas as pd\n",
    "\n",
    "# 设置列对齐\n",
    "pd.set_option('display.unicode.ambiguous_as_wide', True)\n",
    "pd.set_option('display.unicode.east_asian_width', True)"
   ]
  },
  {
   "cell_type": "code",
   "execution_count": 98,
   "metadata": {
    "pycharm": {
     "name": "#%%\n"
    }
   },
   "outputs": [
    {
     "name": "stdout",
     "output_type": "stream",
     "text": [
      "下标在[5,10]区间的的行======\n",
      "    工号  姓名        日期           时段  交易额      柜台\n",
      "5   1006  钱八  2019-03-01  14：00-21：00  1421.0    日用品\n",
      "6   1006  钱八  2019-03-01   9：00-14：00  1226.0  蔬菜水果\n",
      "7   1001  张三  2019-03-01  14：00-21：00  1442.0  蔬菜水果\n",
      "8   1001  张三  2019-03-02   9：00-14：00  1530.0    化妆品\n",
      "9   1002  李四  2019-03-02  14：00-21：00  1395.0    化妆品\n",
      "10  1003  王五  2019-03-02   9：00-14：00   936.0      食品\n"
     ]
    }
   ],
   "source": [
    "# 读取全部数据，使用默认索引\n",
    "df = pd.read_excel(r'超市营业额2.xlsx')\n",
    "\n",
    "print('下标在[5,10]区间的的行'.ljust(20, '='))\n",
    "# 对行进行切片，注意切片是限定的左闭右开区间\n",
    "print(df[5:11])"
   ]
  },
  {
   "cell_type": "code",
   "execution_count": 99,
   "metadata": {
    "pycharm": {
     "name": "#%%\n"
    }
   },
   "outputs": [
    {
     "name": "stdout",
     "output_type": "stream",
     "text": [
      "索引为5的行==============\n",
      "工号               1006\n",
      "姓名               钱八\n",
      "日期         2019-03-01\n",
      "时段      14：00-21：00\n",
      "交易额           1421.0\n",
      "柜台             日用品\n",
      "Name: 5, dtype: object\n"
     ]
    }
   ],
   "source": [
    "# iloc使用数字做索引\n",
    "print('索引为5的行'.ljust(20,'='))\n",
    "print(df.iloc[5])"
   ]
  },
  {
   "cell_type": "code",
   "execution_count": 100,
   "metadata": {
    "pycharm": {
     "name": "#%%\n"
    }
   },
   "outputs": [
    {
     "name": "stdout",
     "output_type": "stream",
     "text": [
      "下标为[3,5,10]的行=======\n",
      "    工号  姓名        日期           时段  交易额    柜台\n",
      "3   1004  赵六  2019-03-01  14：00-21：00  1320.0    食品\n",
      "5   1006  钱八  2019-03-01  14：00-21：00  1421.0  日用品\n",
      "10  1003  王五  2019-03-02   9：00-14：00   936.0    食品\n"
     ]
    }
   ],
   "source": [
    "print('下标为[3,5,10]的行'.ljust(20, '='))\n",
    "print(df.iloc[[3,5,10],:])"
   ]
  },
  {
   "cell_type": "code",
   "execution_count": 101,
   "metadata": {
    "pycharm": {
     "name": "#%%\n"
    }
   },
   "outputs": [
    {
     "name": "stdout",
     "output_type": "stream",
     "text": [
      "行下标为[3,5,10]，列下标为[0,1,4]======\n",
      "    工号  姓名  交易额\n",
      "3   1004  赵六  1320.0\n",
      "5   1006  钱八  1421.0\n",
      "10  1003  王五   936.0\n"
     ]
    }
   ],
   "source": [
    "print('行下标为[3,5,10]，列下标为[0,1,4]'.ljust(30, '='))\n",
    "print(df.iloc[[3,5,10],[0,1,4]])"
   ]
  },
  {
   "cell_type": "code",
   "execution_count": 102,
   "metadata": {
    "pycharm": {
     "name": "#%%\n"
    }
   },
   "outputs": [
    {
     "name": "stdout",
     "output_type": "stream",
     "text": [
      "查看指定的列前5行数据=========\n",
      "   姓名           时段  交易额\n",
      "0  张三   9：00-14：00  1664.0\n",
      "1  李四  14：00-21：00   954.0\n",
      "2  王五   9：00-14：00  1407.0\n",
      "3  赵六  14：00-21：00  1320.0\n",
      "4  周七   9：00-14：00   994.0\n"
     ]
    }
   ],
   "source": [
    "print('查看指定的列前5行数据'.ljust(20,'='))\n",
    "print(df[['姓名', '时段', '交易额']][:5])"
   ]
  },
  {
   "cell_type": "code",
   "execution_count": 103,
   "metadata": {
    "pycharm": {
     "name": "#%%\n"
    }
   },
   "outputs": [
    {
     "name": "stdout",
     "output_type": "stream",
     "text": [
      "只查看前10行指定的列=========\n",
      "   姓名        日期      柜台\n",
      "0  张三  2019-03-01    化妆品\n",
      "1  李四  2019-03-01    化妆品\n",
      "2  王五  2019-03-01      食品\n",
      "3  赵六  2019-03-01      食品\n",
      "4  周七  2019-03-01    日用品\n",
      "5  钱八  2019-03-01    日用品\n",
      "6  钱八  2019-03-01  蔬菜水果\n",
      "7  张三  2019-03-01  蔬菜水果\n",
      "8  张三  2019-03-02    化妆品\n",
      "9  李四  2019-03-02    化妆品\n"
     ]
    }
   ],
   "source": [
    "print('只查看前10行指定的列'.ljust(20, '='))\n",
    "print(df[:10][['姓名', '日期', '柜台']])"
   ]
  },
  {
   "cell_type": "code",
   "execution_count": 104,
   "metadata": {
    "pycharm": {
     "name": "#%%\n"
    }
   },
   "outputs": [
    {
     "name": "stdout",
     "output_type": "stream",
     "text": [
      "下标为[3,5,10]的行的指定列===\n",
      "    姓名  交易额\n",
      "3   赵六  1320.0\n",
      "5   钱八  1421.0\n",
      "10  王五   936.0\n"
     ]
    }
   ],
   "source": [
    "print('下标为[3,5,10]的行的指定列'.ljust(20, '='))\n",
    "# loc和at使用标签文本做索引\n",
    "print(df.loc[[3,5,10], ['姓名','交易额']])"
   ]
  },
  {
   "cell_type": "code",
   "execution_count": 105,
   "metadata": {
    "pycharm": {
     "name": "#%%\n"
    }
   },
   "outputs": [
    {
     "name": "stdout",
     "output_type": "stream",
     "text": [
      "行下标为3,姓名列的值=========\n",
      "赵六\n"
     ]
    }
   ],
   "source": [
    "print('行下标为3,姓名列的值'.ljust(20,'='))\n",
    "print(df.at[3, '姓名'])"
   ]
  },
  {
   "cell_type": "code",
   "execution_count": 106,
   "metadata": {
    "pycharm": {
     "name": "#%%\n"
    }
   },
   "outputs": [
    {
     "name": "stdout",
     "output_type": "stream",
     "text": [
      "交易额高于1700元的数据=======\n",
      "     工号  姓名        日期           时段   交易额      柜台\n",
      "18   1003  王五  2019-03-03   9：00-14：00   1713.0      食品\n",
      "47   1005  周七  2019-03-06  14：00-21：00   1778.0  蔬菜水果\n",
      "48   1003  王五  2019-03-07   9：00-14：00   1713.0    化妆品\n",
      "82   1006  钱八  2019-03-11   9：00-14：00   1737.0      食品\n",
      "105  1001  张三  2019-03-14   9：00-14：00  12100.0    日用品\n",
      "113  1002  李四  2019-03-15   9：00-14：00   1798.0    日用品\n",
      "121  1002  李四  2019-03-16   9：00-14：00   1788.0    日用品\n",
      "136  1001  张三  2019-03-17  14：00-21：00   1791.0      食品\n",
      "185  1004  赵六  2019-03-24   9：00-14：00   1775.0    化妆品\n",
      "188  1002  李四  2019-03-24  14：00-21：00   1793.0  蔬菜水果\n",
      "205  1001  张三  2019-03-26   9：00-14：00   1746.0    日用品\n",
      "223  1003  王五  2019-03-28   9：00-14：00   9031.0      食品\n",
      "227  1005  周七  2019-03-29   9：00-14：00   1737.0  蔬菜水果\n",
      "246  1004  赵六  2019-03-31  14：00-21：00   1722.0    日用品\n"
     ]
    }
   ],
   "source": [
    "print('交易额高于1700元的数据'.ljust(20, '='))\n",
    "print(df[df['交易额']>1700])"
   ]
  },
  {
   "cell_type": "code",
   "execution_count": 107,
   "metadata": {
    "pycharm": {
     "name": "#%%\n"
    }
   },
   "outputs": [
    {
     "name": "stdout",
     "output_type": "stream",
     "text": [
      "交易总额================\n",
      "327257.0\n"
     ]
    }
   ],
   "source": [
    "print('交易总额'.ljust(20, '='))\n",
    "print(df['交易额'].sum())"
   ]
  },
  {
   "cell_type": "code",
   "execution_count": 108,
   "metadata": {
    "pycharm": {
     "name": "#%%\n"
    }
   },
   "outputs": [
    {
     "name": "stdout",
     "output_type": "stream",
     "text": [
      "下午班的交易总额============\n",
      "151228.0\n"
     ]
    }
   ],
   "source": [
    "print('下午班的交易总额'.ljust(20, '='))\n",
    "print(df[df['时段']=='14：00-21：00']['交易额'].sum())"
   ]
  },
  {
   "cell_type": "code",
   "execution_count": 109,
   "metadata": {
    "pycharm": {
     "name": "#%%\n"
    }
   },
   "outputs": [
    {
     "name": "stdout",
     "output_type": "stream",
     "text": [
      "张三下午班的交易情况==========\n",
      "     工号  姓名        日期           时段  交易额      柜台\n",
      "7    1001  张三  2019-03-01  14：00-21：00  1442.0  蔬菜水果\n",
      "39   1001  张三  2019-03-05  14：00-21：00   856.0  蔬菜水果\n",
      "73   1001  张三  2019-03-10  14：00-21：00  1040.0    化妆品\n",
      "91   1001  张三  2019-03-12  14：00-21：00  1435.0      食品\n",
      "99   1001  张三  2019-03-13  14：00-21：00  1333.0      食品\n",
      "112  1001  张三  2019-03-14  14：00-21：00  1261.0  蔬菜水果\n",
      "120  1001  张三  2019-03-15  14：00-21：00  1035.0  蔬菜水果\n",
      "128  1001  张三  2019-03-16  14：00-21：00  1408.0  蔬菜水果\n",
      "136  1001  张三  2019-03-17  14：00-21：00  1791.0      食品\n",
      "144  1001  张三  2019-03-18  14：00-21：00  1378.0      食品\n"
     ]
    }
   ],
   "source": [
    "print('张三下午班的交易情况'.ljust(20,'='))\n",
    "print(df[(df.姓名=='张三')&(df.时段=='14：00-21：00')][:10])"
   ]
  },
  {
   "cell_type": "code",
   "execution_count": 110,
   "metadata": {
    "pycharm": {
     "name": "#%%\n"
    }
   },
   "outputs": [
    {
     "name": "stdout",
     "output_type": "stream",
     "text": [
      "日用品柜台销售总额===========\n",
      "88162.0\n"
     ]
    }
   ],
   "source": [
    "print('日用品柜台销售总额'.ljust(20, '='))\n",
    "print(df[df['柜台']=='日用品']['交易额'].sum())"
   ]
  },
  {
   "cell_type": "code",
   "execution_count": 111,
   "metadata": {
    "pycharm": {
     "name": "#%%\n"
    }
   },
   "outputs": [
    {
     "name": "stdout",
     "output_type": "stream",
     "text": [
      "张三和李四二人销售总额=========\n",
      "116860.0\n"
     ]
    }
   ],
   "source": [
    "print('张三和李四二人销售总额'.ljust(20, '='))\n",
    "print(df[df['姓名'].isin(['张三','李四'])]['交易额'].sum())"
   ]
  },
  {
   "cell_type": "code",
   "execution_count": 112,
   "metadata": {
    "pycharm": {
     "name": "#%%\n"
    }
   },
   "outputs": [
    {
     "name": "stdout",
     "output_type": "stream",
     "text": [
      "交易额在指定范围内的记录========\n",
      "     工号  姓名        日期           时段  交易额      柜台\n",
      "41   1002  李四  2019-03-06  14：00-21：00   822.0    化妆品\n",
      "55   1002  李四  2019-03-07  14：00-21：00   831.0  蔬菜水果\n",
      "59   1004  赵六  2019-03-08  14：00-21：00   825.0      食品\n",
      "86   1003  王五  2019-03-11   9：00-14：00   801.0  蔬菜水果\n",
      "94   1003  王五  2019-03-12   9：00-14：00   831.0  蔬菜水果\n",
      "106  1002  李四  2019-03-14  14：00-21：00   822.0    日用品\n",
      "129  1002  李四  2019-03-17   9：00-14：00   828.0    日用品\n",
      "132  1006  钱八  2019-03-17  14：00-21：00   840.0  蔬菜水果\n",
      "137  1002  李四  2019-03-18   9：00-14：00   824.0    化妆品\n",
      "147  1003  王五  2019-03-19   9：00-14：00   846.0  蔬菜水果\n",
      "152  1001  张三  2019-03-19  14：00-21：00   844.0      食品\n",
      "160  1001  张三  2019-03-20  14：00-21：00   829.0      食品\n",
      "163  1006  钱八  2019-03-21   9：00-14：00   807.0  蔬菜水果\n",
      "233  1001  张三  2019-03-30  14：00-21：00   850.0    化妆品\n",
      "248  1006  钱八  2019-03-31  14：00-21：00   812.0      食品\n"
     ]
    }
   ],
   "source": [
    "print('交易额在指定范围内的记录'.ljust(20, '='))\n",
    "print(df[df['交易额'].between(800,850)])"
   ]
  },
  {
   "cell_type": "code",
   "execution_count": 113,
   "metadata": {},
   "outputs": [],
   "source": [
    "### 2.3  查看数据特征和统计信息\n",
    "import pandas as pd\n",
    "\n",
    "# 读取全部数据，使用默认索引\n",
    "df = pd.read_excel(r'超市营业额2.xlsx')"
   ]
  },
  {
   "cell_type": "code",
   "execution_count": 114,
   "metadata": {
    "pycharm": {
     "name": "#%%\n"
    }
   },
   "outputs": [
    {
     "name": "stdout",
     "output_type": "stream",
     "text": [
      "查看交易额统计信息===========\n",
      "count      246.000000\n",
      "mean      1330.313008\n",
      "std        904.300720\n",
      "min         53.000000\n",
      "25%       1031.250000\n",
      "50%       1259.000000\n",
      "75%       1523.000000\n",
      "max      12100.000000\n",
      "Name: 交易额, dtype: float64\n"
     ]
    }
   ],
   "source": [
    "print('查看交易额统计信息'.ljust(20, '='))\n",
    "print(df['交易额'].describe())"
   ]
  },
  {
   "cell_type": "code",
   "execution_count": 115,
   "metadata": {
    "pycharm": {
     "name": "#%%\n"
    }
   },
   "outputs": [
    {
     "name": "stdout",
     "output_type": "stream",
     "text": [
      "交易额四分位数=============\n",
      "0.00       53.00\n",
      "0.25     1031.25\n",
      "0.50     1259.00\n",
      "0.75     1523.00\n",
      "1.00    12100.00\n",
      "Name: 交易额, dtype: float64\n"
     ]
    }
   ],
   "source": [
    "print('交易额四分位数'.ljust(20, '='))\n",
    "print(df['交易额'].quantile([0, 0.25, 0.5, 0.75, 1.0]))"
   ]
  },
  {
   "cell_type": "code",
   "execution_count": 116,
   "metadata": {
    "pycharm": {
     "name": "#%%\n"
    }
   },
   "outputs": [
    {
     "name": "stdout",
     "output_type": "stream",
     "text": [
      "交易额中值===============\n",
      "1259.0\n"
     ]
    }
   ],
   "source": [
    "print('交易额中值'.ljust(20, '='))\n",
    "print(df['交易额'].median())"
   ]
  },
  {
   "cell_type": "code",
   "execution_count": 117,
   "metadata": {
    "pycharm": {
     "name": "#%%\n"
    }
   },
   "outputs": [
    {
     "name": "stdout",
     "output_type": "stream",
     "text": [
      "交易额最小的三条记录==========\n",
      "     工号  姓名        日期           时段  交易额    柜台\n",
      "76   1005  周七  2019-03-10   9：00-14：00    53.0  日用品\n",
      "97   1002  李四  2019-03-13  14：00-21：00    98.0  日用品\n",
      "194  1001  张三  2019-03-25  14：00-21：00   114.0  化妆品\n"
     ]
    }
   ],
   "source": [
    "print('交易额最小的三条记录'.ljust(20, '='))\n",
    "print(df.nsmallest(3, '交易额'))"
   ]
  },
  {
   "cell_type": "code",
   "execution_count": 118,
   "metadata": {
    "pycharm": {
     "name": "#%%\n"
    }
   },
   "outputs": [
    {
     "name": "stdout",
     "output_type": "stream",
     "text": [
      "交易额最大的5条记录==========\n",
      "     工号  姓名        日期           时段   交易额      柜台\n",
      "105  1001  张三  2019-03-14   9：00-14：00  12100.0    日用品\n",
      "223  1003  王五  2019-03-28   9：00-14：00   9031.0      食品\n",
      "113  1002  李四  2019-03-15   9：00-14：00   1798.0    日用品\n",
      "188  1002  李四  2019-03-24  14：00-21：00   1793.0  蔬菜水果\n",
      "136  1001  张三  2019-03-17  14：00-21：00   1791.0      食品\n"
     ]
    }
   ],
   "source": [
    "print('交易额最大的5条记录'.ljust(20, '='))\n",
    "print(df.nlargest(5, '交易额'))"
   ]
  },
  {
   "cell_type": "code",
   "execution_count": 119,
   "metadata": {
    "pycharm": {
     "name": "#%%\n"
    }
   },
   "outputs": [
    {
     "name": "stdout",
     "output_type": "stream",
     "text": [
      "最后一个日期==============\n",
      "2019-03-31\n"
     ]
    }
   ],
   "source": [
    "print('最后一个日期'.ljust(20, '='))\n",
    "print(df['日期'].max())"
   ]
  },
  {
   "cell_type": "code",
   "execution_count": 120,
   "metadata": {
    "pycharm": {
     "name": "#%%\n"
    }
   },
   "outputs": [
    {
     "name": "stdout",
     "output_type": "stream",
     "text": [
      "最小的工号===============\n",
      "1001\n"
     ]
    }
   ],
   "source": [
    "print('最小的工号'.ljust(20, '='))\n",
    "print(df['工号'].min())"
   ]
  },
  {
   "cell_type": "code",
   "execution_count": 121,
   "metadata": {
    "pycharm": {
     "name": "#%%\n"
    }
   },
   "outputs": [
    {
     "name": "stdout",
     "output_type": "stream",
     "text": [
      "第一个最小交易额的行下标========\n",
      "76\n",
      "第一个最小交易额============\n",
      "53.0\n"
     ]
    }
   ],
   "source": [
    "print('第一个最小交易额的行下标'.ljust(20,'='))\n",
    "index = df['交易额'].idxmin()\n",
    "print(index)\n",
    "print('第一个最小交易额'.ljust(20,'='))\n",
    "print(df.loc[index,'交易额'])"
   ]
  },
  {
   "cell_type": "code",
   "execution_count": 122,
   "metadata": {
    "pycharm": {
     "name": "#%%\n"
    }
   },
   "outputs": [
    {
     "name": "stdout",
     "output_type": "stream",
     "text": [
      "第一个最大交易额的行下标========\n",
      "105\n",
      "第一个最大交易额============\n",
      "12100.0\n"
     ]
    }
   ],
   "source": [
    "print('第一个最大交易额的行下标'.ljust(20,'='))\n",
    "index = df['交易额'].idxmax()\n",
    "print(index)\n",
    "print('第一个最大交易额'.ljust(20,'='))\n",
    "print(df.loc[index,'交易额'])"
   ]
  },
  {
   "cell_type": "code",
   "execution_count": 123,
   "metadata": {},
   "outputs": [],
   "source": [
    "### 2.4  按不同标准对数据排序\n",
    "import pandas as pd\n",
    "\n",
    "# 设置列对齐\n",
    "pd.set_option('display.unicode.ambiguous_as_wide', True)\n",
    "pd.set_option('display.unicode.east_asian_width', True)"
   ]
  },
  {
   "cell_type": "code",
   "execution_count": 124,
   "metadata": {
    "pycharm": {
     "name": "#%%\n"
    }
   },
   "outputs": [],
   "source": [
    "# 读取全部数据，使用默认索引\n",
    "df = pd.read_excel(r'超市营业额2.xlsx')"
   ]
  },
  {
   "cell_type": "code",
   "execution_count": 125,
   "metadata": {
    "pycharm": {
     "name": "#%%\n"
    }
   },
   "outputs": [
    {
     "name": "stdout",
     "output_type": "stream",
     "text": [
      "按交易额和工号降序排序=========\n",
      "     工号  姓名        日期           时段   交易额      柜台\n",
      "105  1001  张三  2019-03-14   9：00-14：00  12100.0    日用品\n",
      "223  1003  王五  2019-03-28   9：00-14：00   9031.0      食品\n",
      "113  1002  李四  2019-03-15   9：00-14：00   1798.0    日用品\n",
      "188  1002  李四  2019-03-24  14：00-21：00   1793.0  蔬菜水果\n",
      "136  1001  张三  2019-03-17  14：00-21：00   1791.0      食品\n",
      "121  1002  李四  2019-03-16   9：00-14：00   1788.0    日用品\n",
      "47   1005  周七  2019-03-06  14：00-21：00   1778.0  蔬菜水果\n",
      "185  1004  赵六  2019-03-24   9：00-14：00   1775.0    化妆品\n",
      "205  1001  张三  2019-03-26   9：00-14：00   1746.0    日用品\n",
      "82   1006  钱八  2019-03-11   9：00-14：00   1737.0      食品\n",
      "227  1005  周七  2019-03-29   9：00-14：00   1737.0  蔬菜水果\n",
      "246  1004  赵六  2019-03-31  14：00-21：00   1722.0    日用品\n"
     ]
    }
   ],
   "source": [
    "print('按交易额和工号降序排序'.ljust(20, '='))\n",
    "print(df.sort_values(by=['交易额','工号'], ascending=False)[:12])"
   ]
  },
  {
   "cell_type": "code",
   "execution_count": 126,
   "metadata": {
    "pycharm": {
     "name": "#%%\n"
    }
   },
   "outputs": [
    {
     "name": "stdout",
     "output_type": "stream",
     "text": [
      "按交易额降序、工号升序排序=======\n",
      "     工号  姓名        日期           时段   交易额      柜台\n",
      "105  1001  张三  2019-03-14   9：00-14：00  12100.0    日用品\n",
      "223  1003  王五  2019-03-28   9：00-14：00   9031.0      食品\n",
      "113  1002  李四  2019-03-15   9：00-14：00   1798.0    日用品\n",
      "188  1002  李四  2019-03-24  14：00-21：00   1793.0  蔬菜水果\n",
      "136  1001  张三  2019-03-17  14：00-21：00   1791.0      食品\n",
      "121  1002  李四  2019-03-16   9：00-14：00   1788.0    日用品\n",
      "47   1005  周七  2019-03-06  14：00-21：00   1778.0  蔬菜水果\n",
      "185  1004  赵六  2019-03-24   9：00-14：00   1775.0    化妆品\n",
      "205  1001  张三  2019-03-26   9：00-14：00   1746.0    日用品\n",
      "227  1005  周七  2019-03-29   9：00-14：00   1737.0  蔬菜水果\n",
      "82   1006  钱八  2019-03-11   9：00-14：00   1737.0      食品\n",
      "246  1004  赵六  2019-03-31  14：00-21：00   1722.0    日用品\n"
     ]
    }
   ],
   "source": [
    "print('按交易额降序、工号升序排序'.ljust(20, '='))\n",
    "print(df.sort_values(by=['交易额','工号'], ascending=[False,True])[:12])"
   ]
  },
  {
   "cell_type": "code",
   "execution_count": 127,
   "metadata": {
    "pycharm": {
     "name": "#%%\n"
    }
   },
   "outputs": [
    {
     "name": "stdout",
     "output_type": "stream",
     "text": [
      "按工号升序排序=============\n",
      "     工号  姓名        日期           时段  交易额      柜台\n",
      "0    1001  张三  2019-03-01   9：00-14：00  1664.0    化妆品\n",
      "178  1001  张三  2019-03-23  14：00-21：00  1271.0    化妆品\n",
      "39   1001  张三  2019-03-05  14：00-21：00   856.0  蔬菜水果\n",
      "40   1001  张三  2019-03-06   9：00-14：00  1037.0    化妆品\n",
      "177  1001  张三  2019-03-23   9：00-14：00  1296.0    化妆品\n",
      "169  1001  张三  2019-03-22   9：00-14：00   946.0    化妆品\n",
      "160  1001  张三  2019-03-20  14：00-21：00   829.0      食品\n",
      "54   1001  张三  2019-03-07   9：00-14：00  1263.0  蔬菜水果\n",
      "157  1001  张三  2019-03-20   9：00-14：00  1037.0    日用品\n",
      "225  1001  张三  2019-03-29  14：00-21：00  1523.0    化妆品\n"
     ]
    }
   ],
   "source": [
    "print('按工号升序排序'.ljust(20, '='))\n",
    "print(df.sort_values(by='工号', na_position='last')[:10])"
   ]
  },
  {
   "cell_type": "code",
   "execution_count": 128,
   "metadata": {
    "pycharm": {
     "name": "#%%\n"
    }
   },
   "outputs": [
    {
     "name": "stdout",
     "output_type": "stream",
     "text": [
      "按列名升序排序=============\n",
      "   交易额  姓名  工号        日期           时段      柜台\n",
      "0  1664.0  张三  1001  2019-03-01   9：00-14：00    化妆品\n",
      "1   954.0  李四  1002  2019-03-01  14：00-21：00    化妆品\n",
      "2  1407.0  王五  1003  2019-03-01   9：00-14：00      食品\n",
      "3  1320.0  赵六  1004  2019-03-01  14：00-21：00      食品\n",
      "4   994.0  周七  1005  2019-03-01   9：00-14：00    日用品\n",
      "5  1421.0  钱八  1006  2019-03-01  14：00-21：00    日用品\n",
      "6  1226.0  钱八  1006  2019-03-01   9：00-14：00  蔬菜水果\n",
      "7  1442.0  张三  1001  2019-03-01  14：00-21：00  蔬菜水果\n",
      "8  1530.0  张三  1001  2019-03-02   9：00-14：00    化妆品\n",
      "9  1395.0  李四  1002  2019-03-02  14：00-21：00    化妆品\n"
     ]
    }
   ],
   "source": [
    "print('按列名升序排序'.ljust(20, '='))\n",
    "# 注意，这里是按汉字的Unicode编码排序\n",
    "print(df.sort_index(axis=1, ascending=True)[:10])"
   ]
  },
  {
   "cell_type": "code",
   "execution_count": 129,
   "metadata": {},
   "outputs": [],
   "source": [
    "### 2.5  使用分组与聚合对员工业绩进行汇总\n",
    "import pandas as pd\n",
    "import numpy as np\n",
    "\n",
    "# 设置列对齐\n",
    "pd.set_option('display.unicode.ambiguous_as_wide', True)\n",
    "pd.set_option('display.unicode.east_asian_width', True)"
   ]
  },
  {
   "cell_type": "code",
   "execution_count": 130,
   "metadata": {
    "pycharm": {
     "name": "#%%\n"
    }
   },
   "outputs": [
    {
     "name": "stdout",
     "output_type": "stream",
     "text": [
      "根据lambda表达式对index处理后的结果分组=====\n",
      "0    72823.0\n",
      "1    64877.0\n",
      "2    62382.0\n",
      "3    71094.0\n",
      "4    56081.0\n",
      "Name: 交易额, dtype: float64\n"
     ]
    }
   ],
   "source": [
    "# 读取全部数据，使用默认索引\n",
    "df = pd.read_excel(r'超市营业额2.xlsx')\n",
    "\n",
    "print('根据lambda表达式对index处理后的结果分组'.ljust(30,'='))\n",
    "print(df.groupby(by=lambda num: num%5)['交易额'].sum())"
   ]
  },
  {
   "cell_type": "code",
   "execution_count": 131,
   "metadata": {
    "pycharm": {
     "name": "#%%\n"
    }
   },
   "outputs": [
    {
     "name": "stdout",
     "output_type": "stream",
     "text": [
      "指定by参数为字典=====================\n",
      "下标为35的行     974.0\n",
      "下标为7的行     1442.0\n",
      "Name: 交易额, dtype: float64\n"
     ]
    }
   ],
   "source": [
    "# 根据指定字典的“键”对index进行分组，“值”作为index标签\n",
    "print('指定by参数为字典'.ljust(30,'='))\n",
    "print(df.groupby(by={7:'下标为7的行', 35:'下标为35的行'})['交易额'].sum())"
   ]
  },
  {
   "cell_type": "code",
   "execution_count": 132,
   "metadata": {
    "pycharm": {
     "name": "#%%\n"
    }
   },
   "outputs": [
    {
     "name": "stdout",
     "output_type": "stream",
     "text": [
      "不同时段的销售总额=====================\n",
      "时段\n",
      "14：00-21：00    151228.0\n",
      "9：00-14：00     176029.0\n",
      "Name: 交易额, dtype: float64\n"
     ]
    }
   ],
   "source": [
    "print('不同时段的销售总额'.ljust(30,'='))\n",
    "print(df.groupby(by='时段')['交易额'].sum())"
   ]
  },
  {
   "cell_type": "code",
   "execution_count": 133,
   "metadata": {
    "pycharm": {
     "name": "#%%\n"
    }
   },
   "outputs": [
    {
     "name": "stdout",
     "output_type": "stream",
     "text": [
      "各柜台的销售总额======================\n",
      "柜台\n",
      "化妆品      75389.0\n",
      "日用品      88162.0\n",
      "蔬菜水果    78532.0\n",
      "食品        85174.0\n",
      "Name: 交易额, dtype: float64\n"
     ]
    }
   ],
   "source": [
    "print('各柜台的销售总额'.ljust(30,'='))\n",
    "print(df.groupby(by='柜台')['交易额'].sum())"
   ]
  },
  {
   "cell_type": "code",
   "execution_count": 134,
   "metadata": {
    "pycharm": {
     "name": "#%%\n"
    }
   },
   "outputs": [
    {
     "name": "stdout",
     "output_type": "stream",
     "text": [
      "每个员工上班的次数=====================\n",
      "姓名\n",
      "周七    42\n",
      "张三    38\n",
      "李四    47\n",
      "王五    40\n",
      "赵六    45\n",
      "钱八    37\n",
      "Name: 上班次数, dtype: int64\n"
     ]
    }
   ],
   "source": [
    "# 可以查看每个员工上班总时长是否均匀\n",
    "print('每个员工上班的次数'.ljust(30,'='))\n",
    "dff = df.groupby(by='姓名')['日期'].count()\n",
    "dff.name = '上班次数'\n",
    "print(dff)"
   ]
  },
  {
   "cell_type": "code",
   "execution_count": 135,
   "metadata": {
    "pycharm": {
     "name": "#%%\n"
    }
   },
   "outputs": [
    {
     "name": "stdout",
     "output_type": "stream",
     "text": [
      "每个员工交易额平均值====================\n",
      "姓名\n",
      "周七    1195.45\n",
      "赵六    1245.98\n",
      "李四    1249.57\n",
      "钱八    1322.72\n",
      "王五    1472.30\n",
      "张三    1529.74\n",
      "Name: 交易额, dtype: float64\n"
     ]
    }
   ],
   "source": [
    "print('每个员工交易额平均值'.ljust(30,'='))\n",
    "print(df.groupby(by='姓名')[ '交易额'].mean().round(2).sort_values())"
   ]
  },
  {
   "cell_type": "code",
   "execution_count": 136,
   "metadata": {
    "pycharm": {
     "name": "#%%\n"
    }
   },
   "outputs": [
    {
     "name": "stdout",
     "output_type": "stream",
     "text": [
      "汇总交易额转换为整数====================\n",
      "姓名\n",
      "周七    47818\n",
      "张三    58130\n",
      "李四    58730\n",
      "王五    58892\n",
      "赵六    56069\n",
      "钱八    47618\n",
      "Name: 交易额, dtype: int64\n"
     ]
    }
   ],
   "source": [
    "print('汇总交易额转换为整数'.ljust(30,'='))\n",
    "print(df.groupby(by='姓名').sum()['交易额'].apply(int))"
   ]
  },
  {
   "cell_type": "code",
   "execution_count": 137,
   "metadata": {
    "pycharm": {
     "name": "#%%\n"
    }
   },
   "outputs": [
    {
     "name": "stdout",
     "output_type": "stream",
     "text": [
      "每个员工交易额的中值====================\n",
      "姓名\n",
      "周七    1134.5\n",
      "张三    1290.0\n",
      "李四    1276.0\n",
      "王五    1227.0\n",
      "赵六    1224.0\n",
      "钱八    1381.0\n",
      "Name: 交易额, dtype: float64\n"
     ]
    }
   ],
   "source": [
    "print('每个员工交易额的中值'.ljust(30,'='))\n",
    "dff = df.groupby(by='姓名').median()\n",
    "print(dff['交易额'])"
   ]
  },
  {
   "cell_type": "code",
   "execution_count": 138,
   "metadata": {
    "pycharm": {
     "name": "#%%\n"
    }
   },
   "outputs": [
    {
     "name": "stdout",
     "output_type": "stream",
     "text": [
      "每个员工交易额中值的排名==================\n",
      "      交易额  排名\n",
      "姓名              \n",
      "周七  1134.5   6.0\n",
      "张三  1290.0   2.0\n",
      "李四  1276.0   3.0\n",
      "王五  1227.0   4.0\n",
      "赵六  1224.0   5.0\n",
      "钱八  1381.0   1.0\n"
     ]
    }
   ],
   "source": [
    "dff['排名'] = dff['交易额'].rank(ascending=False)\n",
    "print('每个员工交易额中值的排名'.ljust(30,'='))\n",
    "print(dff[['交易额','排名']])"
   ]
  },
  {
   "cell_type": "code",
   "execution_count": 139,
   "metadata": {
    "pycharm": {
     "name": "#%%\n"
    }
   },
   "outputs": [
    {
     "name": "stdout",
     "output_type": "stream",
     "text": [
      "每个员工不同时段的交易额==================\n",
      "姓名  时段       \n",
      "周七  14：00-21：00    15910.0\n",
      "      9：00-14：00     31908.0\n",
      "张三  14：00-21：00    23659.0\n",
      "      9：00-14：00     34471.0\n",
      "李四  14：00-21：00    32295.0\n",
      "      9：00-14：00     26435.0\n",
      "王五  14：00-21：00    17089.0\n",
      "      9：00-14：00     41803.0\n",
      "赵六  14：00-21：00    29121.0\n",
      "      9：00-14：00     26948.0\n",
      "钱八  14：00-21：00    33154.0\n",
      "      9：00-14：00     14464.0\n",
      "Name: 交易额, dtype: float64\n"
     ]
    }
   ],
   "source": [
    "print('每个员工不同时段的交易额'.ljust(30,'='))\n",
    "print(df.groupby(by=['姓名','时段'])['交易额'].sum())"
   ]
  },
  {
   "cell_type": "code",
   "execution_count": 140,
   "metadata": {
    "pycharm": {
     "name": "#%%\n"
    }
   },
   "outputs": [
    {
     "name": "stdout",
     "output_type": "stream",
     "text": [
      "时段和交易额采用不同的聚合方式===============\n",
      "       交易额        时段\n",
      "姓名                     \n",
      "周七  47818.0  各时段累计\n",
      "张三  58130.0  各时段累计\n",
      "李四  58730.0  各时段累计\n",
      "王五  58892.0  各时段累计\n",
      "赵六  56069.0  各时段累计\n",
      "钱八  47618.0  各时段累计\n"
     ]
    },
    {
     "name": "stderr",
     "output_type": "stream",
     "text": [
      "/Library/Frameworks/Python.framework/Versions/3.7/lib/python3.7/site-packages/ipykernel_launcher.py:3: FutureWarning: Indexing with multiple keys (implicitly converted to a tuple of keys) will be deprecated, use a list instead.\n",
      "  This is separate from the ipykernel package so we can avoid doing imports until\n"
     ]
    }
   ],
   "source": [
    "# 对不同的列可以采用不同的函数\n",
    "print('时段和交易额采用不同的聚合方式'.ljust(30,'='))\n",
    "print(df.groupby(by=['姓名'])['时段', '交易额'].aggregate({'交易额':np.sum, '时段':lambda x:'各时段累计'}))"
   ]
  },
  {
   "cell_type": "code",
   "execution_count": 141,
   "metadata": {},
   "outputs": [
    {
     "name": "stdout",
     "output_type": "stream",
     "text": [
      "时段和交易额采用不同的聚合方式===============\n",
      "       交易额        时段\n",
      "姓名                     \n",
      "周七  47818.0  各时段累计\n",
      "张三  58130.0  各时段累计\n",
      "李四  58730.0  各时段累计\n",
      "王五  58892.0  各时段累计\n",
      "赵六  56069.0  各时段累计\n",
      "钱八  47618.0  各时段累计\n"
     ]
    }
   ],
   "source": [
    "# 对不同的列可以采用不同的函数\n",
    "print('时段和交易额采用不同的聚合方式'.ljust(30,'='))\n",
    "print(df.groupby(by=['姓名'])[['时段', '交易额']].aggregate({'交易额':np.sum, '时段':lambda x:'各时段累计'}))"
   ]
  },
  {
   "cell_type": "code",
   "execution_count": 142,
   "metadata": {
    "pycharm": {
     "name": "#%%\n"
    }
   },
   "outputs": [
    {
     "name": "stdout",
     "output_type": "stream",
     "text": [
      "使用agg()方法对交易额进行聚合=============\n",
      "               交易额        日期\n",
      "sum     327257.000000         NaN\n",
      "mean      1330.313008         NaN\n",
      "min         53.000000  2019-03-01\n",
      "max      12100.000000  2019-03-31\n",
      "median    1259.000000         NaN\n"
     ]
    }
   ],
   "source": [
    "# 使用DataFrame结构的agg()方法对指定列进行聚合\n",
    "print('使用agg()方法对交易额进行聚合'.ljust(30,'='))\n",
    "print(df.agg({'交易额':['sum','mean','min','max','median'], '日期':['min','max']}))"
   ]
  },
  {
   "cell_type": "code",
   "execution_count": 143,
   "metadata": {
    "pycharm": {
     "name": "#%%\n"
    }
   },
   "outputs": [
    {
     "name": "stdout",
     "output_type": "stream",
     "text": [
      "对分组结果进行聚合=====================\n",
      "      工号                         交易额                            \n",
      "       max   min    mean  median      max    min         mean  median\n",
      "姓名                                                                 \n",
      "周七  1005  1005  1005.0  1005.0   1778.0   53.0  1195.450000  1134.5\n",
      "张三  1001  1001  1001.0  1001.0  12100.0  114.0  1529.736842  1290.0\n",
      "李四  1002  1002  1002.0  1002.0   1798.0   98.0  1249.574468  1276.0\n",
      "王五  1003  1003  1003.0  1003.0   9031.0  801.0  1472.300000  1227.0\n",
      "赵六  1004  1004  1004.0  1004.0   1775.0  825.0  1245.977778  1224.0\n",
      "钱八  1006  1006  1006.0  1006.0   1737.0  807.0  1322.722222  1381.0\n"
     ]
    }
   ],
   "source": [
    "print('对分组结果进行聚合'.ljust(30,'='))\n",
    "print(df.groupby(by='姓名').agg(['max','min','mean','median']))"
   ]
  },
  {
   "cell_type": "code",
   "execution_count": 144,
   "metadata": {
    "pycharm": {
     "name": "#%%\n"
    }
   },
   "outputs": [
    {
     "name": "stdout",
     "output_type": "stream",
     "text": [
      "查看分组聚合后的部分结果==================\n",
      "          max    min         mean  median\n",
      "姓名                                     \n",
      "周七   1778.0   53.0  1195.450000  1134.5\n",
      "张三  12100.0  114.0  1529.736842  1290.0\n",
      "李四   1798.0   98.0  1249.574468  1276.0\n",
      "王五   9031.0  801.0  1472.300000  1227.0\n",
      "赵六   1775.0  825.0  1245.977778  1224.0\n",
      "钱八   1737.0  807.0  1322.722222  1381.0\n"
     ]
    }
   ],
   "source": [
    "print('查看分组聚合后的部分结果'.ljust(30,'='))\n",
    "print(df.groupby(by='姓名').agg(['max','min', 'mean','median'])['交易额'])"
   ]
  },
  {
   "cell_type": "code",
   "execution_count": 145,
   "metadata": {},
   "outputs": [],
   "source": [
    "### 2.6  处理超市交易数据中的异常值\n",
    "import pandas as pd\n",
    "\n",
    "# 设置列对齐\n",
    "pd.set_option('display.unicode.ambiguous_as_wide', True)\n",
    "pd.set_option('display.unicode.east_asian_width', True)"
   ]
  },
  {
   "cell_type": "code",
   "execution_count": 146,
   "metadata": {
    "pycharm": {
     "name": "#%%\n"
    }
   },
   "outputs": [
    {
     "name": "stdout",
     "output_type": "stream",
     "text": [
      "查看交易额低于200的数据=======\n",
      "     工号  姓名        日期           时段  交易额    柜台\n",
      "76   1005  周七  2019-03-10   9：00-14：00    53.0  日用品\n",
      "97   1002  李四  2019-03-13  14：00-21：00    98.0  日用品\n",
      "194  1001  张三  2019-03-25  14：00-21：00   114.0  化妆品\n"
     ]
    }
   ],
   "source": [
    "# 读取全部数据，使用默认索引\n",
    "df = pd.read_excel(r'超市营业额2.xlsx')\n",
    "\n",
    "print('查看交易额低于200的数据'.ljust(20,'='))\n",
    "print(df[df.交易额<200])"
   ]
  },
  {
   "cell_type": "code",
   "execution_count": 147,
   "metadata": {
    "pycharm": {
     "name": "#%%\n"
    }
   },
   "outputs": [
    {
     "name": "stdout",
     "output_type": "stream",
     "text": [
      "上浮50%之后仍低于200的数据====\n",
      "     工号  姓名        日期           时段  交易额    柜台\n",
      "76   1005  周七  2019-03-10   9：00-14：00    79.5  日用品\n",
      "97   1002  李四  2019-03-13  14：00-21：00   147.0  日用品\n",
      "194  1001  张三  2019-03-25  14：00-21：00   171.0  化妆品\n"
     ]
    }
   ],
   "source": [
    "df.loc[df.交易额<200, '交易额'] = df[df.交易额<200]['交易额'].map(lambda num: num*1.5)\n",
    "print('上浮50%之后仍低于200的数据'.ljust(20,'='))\n",
    "print(df[df.交易额<200])"
   ]
  },
  {
   "cell_type": "code",
   "execution_count": 148,
   "metadata": {
    "pycharm": {
     "name": "#%%\n"
    }
   },
   "outputs": [
    {
     "name": "stdout",
     "output_type": "stream",
     "text": [
      "查看交易额高于3000的数据======\n",
      "     工号  姓名        日期          时段   交易额    柜台\n",
      "105  1001  张三  2019-03-14  9：00-14：00  12100.0  日用品\n",
      "223  1003  王五  2019-03-28  9：00-14：00   9031.0    食品\n"
     ]
    }
   ],
   "source": [
    "print('查看交易额高于3000的数据'.ljust(20,'='))\n",
    "print(df[df['交易额']>3000])"
   ]
  },
  {
   "cell_type": "code",
   "execution_count": 149,
   "metadata": {
    "pycharm": {
     "name": "#%%\n"
    }
   },
   "outputs": [
    {
     "name": "stdout",
     "output_type": "stream",
     "text": [
      "交易额低于200或高于3000的数据==\n",
      "     工号  姓名        日期           时段   交易额    柜台\n",
      "76   1005  周七  2019-03-10   9：00-14：00     79.5  日用品\n",
      "97   1002  李四  2019-03-13  14：00-21：00    147.0  日用品\n",
      "105  1001  张三  2019-03-14   9：00-14：00  12100.0  日用品\n",
      "194  1001  张三  2019-03-25  14：00-21：00    171.0  化妆品\n",
      "223  1003  王五  2019-03-28   9：00-14：00   9031.0    食品\n"
     ]
    }
   ],
   "source": [
    "print('交易额低于200或高于3000的数据'.ljust(20,'='))\n",
    "print(df[(df.交易额<200) | (df.交易额>3000)])"
   ]
  },
  {
   "cell_type": "code",
   "execution_count": 150,
   "metadata": {
    "pycharm": {
     "name": "#%%\n"
    }
   },
   "outputs": [
    {
     "name": "stdout",
     "output_type": "stream",
     "text": [
      "交易额低于200或高于3000的数据==\n",
      "     工号  姓名        日期          时段   交易额    柜台\n",
      "105  1001  张三  2019-03-14  9：00-14：00  12100.0  日用品\n",
      "223  1003  王五  2019-03-28  9：00-14：00   9031.0    食品\n"
     ]
    }
   ],
   "source": [
    "# 把低于200的交易额都替换为固定的200\n",
    "df.loc[df.交易额<200, '交易额'] = 200\n",
    "print('交易额低于200或高于3000的数据'.ljust(20,'='))\n",
    "print(df[(df.交易额<200) | (df.交易额>3000)])"
   ]
  },
  {
   "cell_type": "code",
   "execution_count": 151,
   "metadata": {
    "pycharm": {
     "name": "#%%\n"
    }
   },
   "outputs": [
    {
     "name": "stdout",
     "output_type": "stream",
     "text": [
      "交易额低于200或高于3000的数量==\n",
      "0\n"
     ]
    }
   ],
   "source": [
    "# 把高于3000的交易额都替换为固定的3000\n",
    "df.loc[df.交易额>3000, '交易额'] = 3000\n",
    "print('交易额低于200或高于3000的数量'.ljust(20,'='))\n",
    "print(df[(df.交易额<200) | (df.交易额>3000)]['交易额'].count())"
   ]
  },
  {
   "cell_type": "code",
   "execution_count": 152,
   "metadata": {},
   "outputs": [],
   "source": [
    "### 2.7  处理超市交易数据中的缺失值\n",
    "from copy import deepcopy\n",
    "import pandas as pd\n",
    "\n",
    "# 设置列对齐\n",
    "pd.set_option('display.unicode.ambiguous_as_wide', True)\n",
    "pd.set_option('display.unicode.east_asian_width', True)"
   ]
  },
  {
   "cell_type": "code",
   "execution_count": 153,
   "metadata": {
    "pycharm": {
     "name": "#%%\n"
    }
   },
   "outputs": [
    {
     "name": "stdout",
     "output_type": "stream",
     "text": [
      "数据总行数===============\n",
      "249\n"
     ]
    }
   ],
   "source": [
    "# 读取全部数据，使用默认索引\n",
    "df = pd.read_excel(r'超市营业额2.xlsx')\n",
    "\n",
    "print('数据总行数'.ljust(20,'='))\n",
    "print(len(df))"
   ]
  },
  {
   "cell_type": "code",
   "execution_count": 154,
   "metadata": {
    "pycharm": {
     "name": "#%%\n"
    }
   },
   "outputs": [
    {
     "name": "stdout",
     "output_type": "stream",
     "text": [
      "丢弃缺失值之后的行数==========\n",
      "246\n"
     ]
    }
   ],
   "source": [
    "print('丢弃缺失值之后的行数'.ljust(20,'='))\n",
    "print(len(df.dropna()))"
   ]
  },
  {
   "cell_type": "code",
   "execution_count": 155,
   "metadata": {
    "pycharm": {
     "name": "#%%\n"
    }
   },
   "outputs": [
    {
     "name": "stdout",
     "output_type": "stream",
     "text": [
      "包含缺失值的行=============\n",
      "     工号  姓名        日期           时段  交易额    柜台\n",
      "110  1005  周七  2019-03-14  14：00-21：00     NaN  化妆品\n",
      "124  1006  钱八  2019-03-16  14：00-21：00     NaN    食品\n",
      "168  1005  周七  2019-03-21  14：00-21：00     NaN    食品\n"
     ]
    }
   ],
   "source": [
    "print('包含缺失值的行'.ljust(20,'='))\n",
    "print(df[df['交易额'].isnull()])"
   ]
  },
  {
   "cell_type": "code",
   "execution_count": 156,
   "metadata": {
    "pycharm": {
     "name": "#%%\n"
    }
   },
   "outputs": [
    {
     "name": "stdout",
     "output_type": "stream",
     "text": [
      "使用固定值替换缺失值==========\n",
      "     工号  姓名        日期           时段  交易额    柜台\n",
      "110  1005  周七  2019-03-14  14：00-21：00  1000.0  化妆品\n",
      "124  1006  钱八  2019-03-16  14：00-21：00  1000.0    食品\n",
      "168  1005  周七  2019-03-21  14：00-21：00  1000.0    食品\n"
     ]
    }
   ],
   "source": [
    "print('使用固定值替换缺失值'.ljust(20,'='))\n",
    "# 深复制，不影响原来的df\n",
    "dff = deepcopy(df)\n",
    "dff.loc[dff.交易额.isnull(),'交易额'] = 1000\n",
    "print(dff.iloc[[110,124,168],:])"
   ]
  },
  {
   "cell_type": "code",
   "execution_count": 157,
   "metadata": {
    "pycharm": {
     "name": "#%%\n"
    }
   },
   "outputs": [
    {
     "name": "stdout",
     "output_type": "stream",
     "text": [
      "使用每人交易额均值替换缺失值======\n",
      "     工号  姓名        日期           时段  交易额    柜台\n",
      "110  1005  周七  2019-03-14  14：00-21：00  1195.0  化妆品\n",
      "124  1006  钱八  2019-03-16  14：00-21：00  1323.0    食品\n",
      "168  1005  周七  2019-03-21  14：00-21：00  1195.0    食品\n"
     ]
    }
   ],
   "source": [
    "print('使用每人交易额均值替换缺失值'.ljust(20,'='))\n",
    "dff = deepcopy(df)\n",
    "for i in dff[dff.交易额.isnull()].index:\n",
    "    dff.loc[i, '交易额'] = round(dff.loc[dff.姓名==dff.loc[i,'姓名'], '交易额'].mean())\n",
    "print(dff.iloc[[110,124,168],:])"
   ]
  },
  {
   "cell_type": "code",
   "execution_count": 158,
   "metadata": {
    "pycharm": {
     "name": "#%%\n"
    }
   },
   "outputs": [
    {
     "name": "stdout",
     "output_type": "stream",
     "text": [
      "使用整体均值的80%填充缺失值=====\n",
      "     工号  姓名        日期           时段  交易额    柜台\n",
      "110  1005  周七  2019-03-14  14：00-21：00  1064.0  化妆品\n",
      "124  1006  钱八  2019-03-16  14：00-21：00  1064.0    食品\n",
      "168  1005  周七  2019-03-21  14：00-21：00  1064.0    食品\n"
     ]
    }
   ],
   "source": [
    "print('使用整体均值的80%填充缺失值'.ljust(20,'='))\n",
    "df.fillna({'交易额': round(df['交易额'].mean()*0.8)}, inplace=True)\n",
    "print(df.iloc[[110,124,168],:])"
   ]
  },
  {
   "cell_type": "code",
   "execution_count": 159,
   "metadata": {},
   "outputs": [],
   "source": [
    "### 2.8  处理超市交易数据中的重复值\n",
    "from copy import deepcopy\n",
    "import pandas as pd\n",
    "import numpy as np\n",
    "\n",
    "# 设置列对齐\n",
    "pd.set_option('display.unicode.ambiguous_as_wide', True)\n",
    "pd.set_option('display.unicode.east_asian_width', True)"
   ]
  },
  {
   "cell_type": "code",
   "execution_count": 160,
   "metadata": {
    "pycharm": {
     "name": "#%%\n"
    }
   },
   "outputs": [
    {
     "name": "stdout",
     "output_type": "stream",
     "text": [
      "数据总行数===============\n",
      "249\n"
     ]
    }
   ],
   "source": [
    "# 读取全部数据，使用默认索引\n",
    "df = pd.read_excel(r'超市营业额2.xlsx')\n",
    "\n",
    "print('数据总行数'.ljust(20,'='))\n",
    "print(len(df))"
   ]
  },
  {
   "cell_type": "code",
   "execution_count": 161,
   "metadata": {
    "pycharm": {
     "name": "#%%\n"
    }
   },
   "outputs": [
    {
     "name": "stdout",
     "output_type": "stream",
     "text": [
      "重复行=================\n",
      "     工号  姓名        日期           时段  交易额      柜台\n",
      "104  1006  钱八  2019-03-13  14：00-21：00  1609.0  蔬菜水果\n"
     ]
    }
   ],
   "source": [
    "print('重复行'.ljust(20,'='))\n",
    "print(df[df.duplicated()])"
   ]
  },
  {
   "cell_type": "code",
   "execution_count": 162,
   "metadata": {
    "pycharm": {
     "name": "#%%\n"
    }
   },
   "outputs": [
    {
     "name": "stdout",
     "output_type": "stream",
     "text": [
      "一人同时负责两个柜台的排班=======\n",
      "    工号  姓名        日期           时段  交易额      柜台\n",
      "49  1002  李四  2019-03-07  14：00-21：00  1199.0    化妆品\n",
      "55  1002  李四  2019-03-07  14：00-21：00   831.0  蔬菜水果\n",
      "     工号  姓名        日期           时段  交易额      柜台\n",
      "103  1006  钱八  2019-03-13  14：00-21：00  1609.0  蔬菜水果\n",
      "104  1006  钱八  2019-03-13  14：00-21：00  1609.0  蔬菜水果\n",
      "     工号  姓名        日期          时段  交易额      柜台\n",
      "171  1006  钱八  2019-03-22  9：00-14：00  1555.0  蔬菜水果\n",
      "175  1006  钱八  2019-03-22  9：00-14：00  1503.0      食品\n",
      "     工号  姓名        日期          时段  交易额    柜台\n",
      "201  1004  赵六  2019-03-26  9：00-14：00  1599.0  化妆品\n",
      "210  1004  赵六  2019-03-26  9：00-14：00  1257.0  化妆品\n",
      "有效数据总行数=============\n",
      "248\n"
     ]
    }
   ],
   "source": [
    "print('一人同时负责两个柜台的排班'.ljust(20,'='))\n",
    "dff = df[['工号','姓名','日期','时段']]\n",
    "dff = dff[dff.duplicated()]\n",
    "for row in dff.values:\n",
    "    print(df[(df.工号==row[0])&(df.日期==row[2])&(df.时段==row[3])])\n",
    "\n",
    "# 直接丢弃重复行\n",
    "df = df.drop_duplicates()\n",
    "print('有效数据总行数'.ljust(20,'='))\n",
    "print(len(df))"
   ]
  },
  {
   "cell_type": "code",
   "execution_count": 163,
   "metadata": {
    "pycharm": {
     "name": "#%%\n"
    }
   },
   "outputs": [
    {
     "name": "stdout",
     "output_type": "stream",
     "text": [
      "所有工号与姓名的对应关系========\n",
      "   工号  姓名\n",
      "0  1001  张三\n",
      "1  1002  李四\n",
      "2  1003  王五\n",
      "3  1004  赵六\n",
      "4  1005  周七\n",
      "5  1006  钱八\n"
     ]
    }
   ],
   "source": [
    "# 可以查看是否有录入错误的工号和姓名\n",
    "print('所有工号与姓名的对应关系'.ljust(20,'='))\n",
    "dff = df[['工号','姓名']]\n",
    "print(dff.drop_duplicates())"
   ]
  },
  {
   "cell_type": "code",
   "execution_count": 164,
   "metadata": {},
   "outputs": [
    {
     "name": "stdout",
     "output_type": "stream",
     "text": [
      "每天交易总额变化情况==========\n",
      "日期\n",
      "2019-03-01       +nan\n",
      "2019-03-02    -248.00\n",
      "2019-03-03    +924.00\n",
      "2019-03-04     +56.00\n",
      "2019-03-05    -277.00\n",
      "Name: 交易额, dtype: object\n"
     ]
    }
   ],
   "source": [
    "### 2.9  使用数据差分查看员工业绩波动情况\n",
    "import pandas as pd\n",
    "\n",
    "# 设置列对齐\n",
    "pd.set_option('display.unicode.ambiguous_as_wide', True)\n",
    "pd.set_option('display.unicode.east_asian_width', True)\n",
    "\n",
    "# 读取全部数据，使用默认索引\n",
    "df = pd.read_excel(r'超市营业额2.xlsx')\n",
    "\n",
    "print('每天交易总额变化情况'.ljust(20,'='))\n",
    "dff = df.groupby(by='日期').sum()['交易额'].diff()\n",
    "# 格式化，整数前面带加号\n",
    "print(dff.map(lambda num:'%+.2f'%num)[:5])"
   ]
  },
  {
   "cell_type": "code",
   "execution_count": 165,
   "metadata": {
    "pycharm": {
     "name": "#%%\n"
    }
   },
   "outputs": [
    {
     "name": "stdout",
     "output_type": "stream",
     "text": [
      "张三的每天交易总额变化情况=======\n",
      "日期\n",
      "2019-03-01       NaN\n",
      "2019-03-02   -1576.0\n",
      "2019-03-03    -169.0\n",
      "2019-03-04    -145.0\n",
      "2019-03-05    1031.0\n",
      "Name: 交易额, dtype: float64\n"
     ]
    }
   ],
   "source": [
    "print('张三的每天交易总额变化情况'.ljust(20,'='))\n",
    "print(df[df.姓名=='张三'].groupby(by='日期').sum()['交易额'].diff()[:5])"
   ]
  },
  {
   "cell_type": "code",
   "execution_count": 166,
   "metadata": {
    "scrolled": true
   },
   "outputs": [
    {
     "name": "stdout",
     "output_type": "stream",
     "text": [
      "查看每人每天交易总额==========\n",
      "日期  2019-03-01  2019-03-02  2019-03-03  2019-03-04  2019-03-05\n",
      "姓名                                                            \n",
      "周七       994.0      1444.0      3230.0      2545.0      1249.0\n",
      "张三      3106.0      1530.0      1361.0      1216.0      2247.0\n",
      "李四       954.0      3044.0      1034.0      2734.0      3148.0\n",
      "王五      1407.0      2115.0      1713.0      1590.0      1687.0\n",
      "赵六      1320.0       906.0      2309.0      1673.0       974.0\n",
      "钱八      2647.0      1141.0      1457.0      1402.0      1578.0\n"
     ]
    }
   ],
   "source": [
    "### 2.10  使用透视表与交叉表查看业绩汇总数据\n",
    "#（1）透视表\n",
    "import pandas as pd\n",
    "\n",
    "# 设置列对齐\n",
    "pd.set_option('display.unicode.ambiguous_as_wide', True)\n",
    "pd.set_option('display.unicode.east_asian_width', True)\n",
    "\n",
    "# 读取全部数据，使用默认索引\n",
    "df = pd.read_excel(r'超市营业额2.xlsx')\n",
    "\n",
    "print('查看每人每天交易总额'.ljust(20,'='))\n",
    "dff = df.groupby(by=['姓名','日期'], as_index=False).sum()\n",
    "# 数据量太大，为减少篇幅占用，只输出前5天的数据\n",
    "dff = dff.pivot(index='姓名', columns='日期', values='交易额')\n",
    "print(dff.iloc[:,:5])"
   ]
  },
  {
   "cell_type": "code",
   "execution_count": 167,
   "metadata": {
    "pycharm": {
     "name": "#%%\n"
    }
   },
   "outputs": [
    {
     "name": "stdout",
     "output_type": "stream",
     "text": [
      "交易总额低于5万元的员工前5天业绩===\n",
      "日期  2019-03-01  2019-03-02  2019-03-03  2019-03-04  2019-03-05\n",
      "姓名                                                            \n",
      "周七       994.0      1444.0      3230.0      2545.0      1249.0\n",
      "钱八      2647.0      1141.0      1457.0      1402.0      1578.0\n"
     ]
    }
   ],
   "source": [
    "print('交易总额低于5万元的员工前5天业绩'.ljust(20,'='))\n",
    "print(dff[dff.sum(axis=1)<50000].iloc[:,:5])"
   ]
  },
  {
   "cell_type": "code",
   "execution_count": 168,
   "metadata": {
    "pycharm": {
     "name": "#%%\n"
    }
   },
   "outputs": [
    {
     "name": "stdout",
     "output_type": "stream",
     "text": [
      "交易总额低于5万元的员工姓名======\n",
      "['周七' '钱八']\n"
     ]
    }
   ],
   "source": [
    "print('交易总额低于5万元的员工姓名'.ljust(20,'='))\n",
    "print(dff[dff.sum(axis=1)<50000].index.values)"
   ]
  },
  {
   "cell_type": "code",
   "execution_count": 169,
   "metadata": {
    "pycharm": {
     "name": "#%%\n"
    }
   },
   "outputs": [
    {
     "name": "stdout",
     "output_type": "stream",
     "text": [
      "使用pivot_table()方法实现=\n",
      "日期  2019-03-01  2019-03-02  2019-03-03  2019-03-04  2019-03-05\n",
      "姓名                                                            \n",
      "周七       994.0      1444.0      3230.0      2545.0      1249.0\n",
      "张三      3106.0      1530.0      1361.0      1216.0      2247.0\n",
      "李四       954.0      3044.0      1034.0      2734.0      3148.0\n",
      "王五      1407.0      2115.0      1713.0      1590.0      1687.0\n",
      "赵六      1320.0       906.0      2309.0      1673.0       974.0\n",
      "钱八      2647.0      1141.0      1457.0      1402.0      1578.0\n",
      "All      10428.0     10180.0     11104.0     11160.0     10883.0\n"
     ]
    }
   ],
   "source": [
    "print('使用pivot_table()方法实现'.ljust(20,'='))\n",
    "# 如果把只显示前5列的限制去掉，会发现最后还有一个名字为ALL的列\n",
    "print(df.pivot_table(values='交易额', index='姓名', columns='日期', aggfunc='sum',margins=True).iloc[:,:5])"
   ]
  },
  {
   "cell_type": "code",
   "execution_count": 170,
   "metadata": {
    "pycharm": {
     "name": "#%%\n"
    }
   },
   "outputs": [
    {
     "name": "stdout",
     "output_type": "stream",
     "text": [
      "查看每人在各柜台的交易总额=======\n",
      "柜台   化妆品   日用品  蔬菜水果     食品\n",
      "姓名                                     \n",
      "周七   9516.0  12863.0   16443.0   8996.0\n",
      "张三  22975.0  18629.0    7265.0   9261.0\n",
      "李四  20467.0  10104.0   23263.0   4896.0\n",
      "王五  10112.0  11357.0   10473.0  26950.0\n",
      "赵六  12319.0  23286.0    2527.0  17937.0\n",
      "钱八      NaN  11923.0   18561.0  17134.0\n"
     ]
    }
   ],
   "source": [
    "print('查看每人在各柜台的交易总额'.ljust(20,'='))\n",
    "dff = df.groupby(by=['姓名','柜台'], as_index=False).sum()\n",
    "print(dff.pivot(index='姓名', columns='柜台', values='交易额'))"
   ]
  },
  {
   "cell_type": "code",
   "execution_count": 171,
   "metadata": {
    "pycharm": {
     "name": "#%%\n"
    }
   },
   "outputs": [
    {
     "name": "stdout",
     "output_type": "stream",
     "text": [
      "查看每人每天的上班次数=========\n",
      "日期  2019-03-01  2019-03-02  2019-03-03  2019-03-04  2019-03-05\n",
      "姓名                                                            \n",
      "周七         1.0         1.0         2.0         2.0         1.0\n",
      "张三         2.0         1.0         1.0         1.0         2.0\n",
      "李四         1.0         2.0         1.0         2.0         2.0\n",
      "王五         1.0         2.0         1.0         1.0         1.0\n",
      "赵六         1.0         1.0         2.0         1.0         1.0\n",
      "钱八         2.0         1.0         1.0         1.0         1.0\n",
      "All          8.0         8.0         8.0         8.0         8.0\n"
     ]
    }
   ],
   "source": [
    "print('查看每人每天的上班次数'.ljust(20,'='))\n",
    "print(df.pivot_table(values='交易额', index='姓名', columns='日期', aggfunc='count',margins=True).iloc[:,:5])"
   ]
  },
  {
   "cell_type": "code",
   "execution_count": 172,
   "metadata": {
    "pycharm": {
     "name": "#%%\n"
    }
   },
   "outputs": [
    {
     "name": "stdout",
     "output_type": "stream",
     "text": [
      "查看每人在各柜台的上班次数=======\n",
      "柜台  化妆品  日用品  蔬菜水果  食品  All\n",
      "姓名                                     \n",
      "周七     8.0    11.0      14.0   7.0   40\n",
      "张三    19.0     6.0       6.0   7.0   38\n",
      "李四    16.0     9.0      18.0   4.0   47\n",
      "王五     8.0     9.0       9.0  14.0   40\n",
      "赵六    10.0    18.0       2.0  15.0   45\n",
      "钱八     NaN     9.0      14.0  13.0   36\n",
      "All     61.0    62.0      63.0  60.0  246\n"
     ]
    }
   ],
   "source": [
    "print('查看每人在各柜台的上班次数'.ljust(20,'='))\n",
    "print(df.pivot_table(values='交易额', index='姓名', columns='柜台', aggfunc='count',margins=True))"
   ]
  },
  {
   "cell_type": "code",
   "execution_count": 173,
   "metadata": {},
   "outputs": [
    {
     "name": "stdout",
     "output_type": "stream",
     "text": [
      "每人每天的上班次数===========\n",
      "日期  2019-03-01  2019-03-02  2019-03-03  2019-03-04  2019-03-05\n",
      "姓名                                                            \n",
      "周七           1           1           2           2           1\n",
      "张三           2           1           1           1           2\n",
      "李四           1           2           1           2           2\n",
      "王五           1           2           1           1           1\n",
      "赵六           1           1           2           1           1\n",
      "钱八           2           1           1           1           1\n",
      "All            8           8           8           8           8\n"
     ]
    }
   ],
   "source": [
    "### 2.10  使用透视表与交叉表查看业绩汇总数据\n",
    "#（2）交叉表\n",
    "import pandas as pd\n",
    "\n",
    "# 设置列对齐\n",
    "pd.set_option('display.unicode.ambiguous_as_wide', True)\n",
    "pd.set_option('display.unicode.east_asian_width', True)\n",
    "\n",
    "# 读取全部数据，使用默认索引\n",
    "df = pd.read_excel(r'超市营业额2.xlsx')\n",
    "\n",
    "print('每人每天的上班次数'.ljust(20,'='))\n",
    "print(pd.crosstab(df.姓名, df.日期, margins=True).iloc[:,:5])"
   ]
  },
  {
   "cell_type": "code",
   "execution_count": 174,
   "metadata": {
    "pycharm": {
     "name": "#%%\n"
    }
   },
   "outputs": [
    {
     "name": "stdout",
     "output_type": "stream",
     "text": [
      "每人在各柜台上班总次数=========\n",
      "柜台  化妆品  日用品  蔬菜水果  食品\n",
      "姓名                                \n",
      "周七       9      11        14     8\n",
      "张三      19       6         6     7\n",
      "李四      16       9        18     4\n",
      "王五       8       9         9    14\n",
      "赵六      10      18         2    15\n",
      "钱八       0       9        14    14\n"
     ]
    }
   ],
   "source": [
    "print('每人在各柜台上班总次数'.ljust(20,'='))\n",
    "print(pd.crosstab(df.姓名, df.柜台))"
   ]
  },
  {
   "cell_type": "code",
   "execution_count": 175,
   "metadata": {
    "pycharm": {
     "name": "#%%\n"
    }
   },
   "outputs": [
    {
     "name": "stdout",
     "output_type": "stream",
     "text": [
      "每人在各柜台交易总额==========\n",
      "柜台   化妆品   日用品  蔬菜水果     食品\n",
      "姓名                                     \n",
      "周七   9516.0  12863.0   16443.0   8996.0\n",
      "张三  22975.0  18629.0    7265.0   9261.0\n",
      "李四  20467.0  10104.0   23263.0   4896.0\n",
      "王五  10112.0  11357.0   10473.0  26950.0\n",
      "赵六  12319.0  23286.0    2527.0  17937.0\n",
      "钱八      NaN  11923.0   18561.0  17134.0\n",
      "每人在各柜台交易额平均值========\n",
      "柜台   化妆品   日用品  蔬菜水果     食品\n",
      "姓名                                     \n",
      "周七  1189.50  1169.36   1174.50  1285.14\n",
      "张三  1209.21  3104.83   1210.83  1323.00\n",
      "李四  1279.19  1122.67   1292.39  1224.00\n",
      "王五  1264.00  1261.89   1163.67  1925.00\n",
      "赵六  1231.90  1293.67   1263.50  1195.80\n",
      "钱八      NaN  1324.78   1325.79  1318.00\n"
     ]
    }
   ],
   "source": [
    "print('每人在各柜台交易总额'.ljust(20,'='))\n",
    "print(pd.crosstab(df.姓名, df.柜台, df.交易额, aggfunc='sum'))\n",
    "\n",
    "print('每人在各柜台交易额平均值'.ljust(20,'='))\n",
    "print(pd.crosstab(df.姓名, df.柜台, df.交易额, aggfunc='mean').apply(lambda num: round(num,2)))"
   ]
  },
  {
   "cell_type": "code",
   "execution_count": 176,
   "metadata": {
    "scrolled": true
   },
   "outputs": [
    {
     "name": "stdout",
     "output_type": "stream",
     "text": [
      "每7天营业总额=============\n",
      "日期\n",
      "2019-03-01    73600.0\n",
      "2019-03-08    77823.0\n",
      "2019-03-15    65996.0\n",
      "2019-03-22    79046.0\n",
      "2019-03-29    30792.0\n",
      "Freq: 7D, Name: 交易额, dtype: float64\n"
     ]
    }
   ],
   "source": [
    "### 2.11  使用重采样技术按时间段查看员工业绩\n",
    "import numpy as np\n",
    "import pandas as pd\n",
    "\n",
    "# 设置列对齐\n",
    "pd.set_option('display.unicode.ambiguous_as_wide', True)\n",
    "pd.set_option('display.unicode.east_asian_width', True)\n",
    "\n",
    "# 读取全部数据，使用默认索引\n",
    "df = pd.read_excel(r'超市营业额2.xlsx')\n",
    "df.日期 = pd.to_datetime(df.日期)\n",
    "\n",
    "print('每7天营业总额'.ljust(20,'='))\n",
    "print(df.resample('7D', on='日期').sum()['交易额'])"
   ]
  },
  {
   "cell_type": "code",
   "execution_count": 177,
   "metadata": {
    "pycharm": {
     "name": "#%%\n"
    }
   },
   "outputs": [
    {
     "name": "stdout",
     "output_type": "stream",
     "text": [
      "每7天营业总额=============\n",
      "日期\n",
      "2019-03-08    73600.0\n",
      "2019-03-15    77823.0\n",
      "2019-03-22    65996.0\n",
      "2019-03-29    79046.0\n",
      "2019-04-05    30792.0\n",
      "Freq: 7D, Name: 交易额, dtype: float64\n"
     ]
    }
   ],
   "source": [
    "print('每7天营业总额'.ljust(20,'='))\n",
    "print(df.resample('7D', on='日期',\n",
    "                    label='right').sum()['交易额'])"
   ]
  },
  {
   "cell_type": "code",
   "execution_count": 178,
   "metadata": {
    "pycharm": {
     "name": "#%%\n"
    }
   },
   "outputs": [
    {
     "name": "stdout",
     "output_type": "stream",
     "text": [
      "每7天营业额平均值===========\n",
      "日期\n",
      "2019-03-08    1314.29\n",
      "2019-03-15    1389.70\n",
      "2019-03-22    1222.15\n",
      "2019-03-29    1411.54\n",
      "2019-04-05    1283.00\n",
      "Freq: 7D, Name: 交易额, dtype: float64\n"
     ]
    }
   ],
   "source": [
    "print('每7天营业额平均值'.ljust(20,'='))\n",
    "func = lambda num:round(num,2)\n",
    "print(df.resample('7D', on='日期',\n",
    "                    label='right').mean().apply(func)['交易额'])"
   ]
  },
  {
   "cell_type": "code",
   "execution_count": 179,
   "metadata": {
    "pycharm": {
     "name": "#%%\n"
    }
   },
   "outputs": [
    {
     "name": "stdout",
     "output_type": "stream",
     "text": [
      "每7天营业额平均值===========\n"
     ]
    },
    {
     "name": "stderr",
     "output_type": "stream",
     "text": [
      "/Library/Frameworks/Python.framework/Versions/3.7/lib/python3.7/site-packages/pandas/core/groupby/generic.py:1137: FutureWarning: Dropping invalid columns in SeriesGroupBy.agg is deprecated. In a future version, a TypeError will be raised. Before calling .agg, select only columns which should be valid for the aggregating function.\n",
      "  result[i] = colg.aggregate(func, *args, **kwargs)\n"
     ]
    },
    {
     "ename": "TypeError",
     "evalue": "unsupported operand type(s) for /: 'str' and 'int'",
     "output_type": "error",
     "traceback": [
      "\u001b[0;31m---------------------------------------------------------------------------\u001b[0m",
      "\u001b[0;31mTypeError\u001b[0m                                 Traceback (most recent call last)",
      "\u001b[0;32m/var/folders/lh/hf05nc8s2rx92_8p56r545xr0000gn/T/ipykernel_2601/137730960.py\u001b[0m in \u001b[0;36m<module>\u001b[0;34m\u001b[0m\n\u001b[1;32m      3\u001b[0m \u001b[0;31m# 因为内置函数sum()不能忽略缺失值\u001b[0m\u001b[0;34m\u001b[0m\u001b[0;34m\u001b[0m\u001b[0;34m\u001b[0m\u001b[0m\n\u001b[1;32m      4\u001b[0m \u001b[0mfunc\u001b[0m \u001b[0;34m=\u001b[0m \u001b[0;32mlambda\u001b[0m \u001b[0mitem\u001b[0m\u001b[0;34m:\u001b[0m\u001b[0mround\u001b[0m\u001b[0;34m(\u001b[0m\u001b[0mnp\u001b[0m\u001b[0;34m.\u001b[0m\u001b[0msum\u001b[0m\u001b[0;34m(\u001b[0m\u001b[0mitem\u001b[0m\u001b[0;34m)\u001b[0m\u001b[0;34m/\u001b[0m\u001b[0mlen\u001b[0m\u001b[0;34m(\u001b[0m\u001b[0mitem\u001b[0m\u001b[0;34m)\u001b[0m\u001b[0;34m,\u001b[0m\u001b[0;36m2\u001b[0m\u001b[0;34m)\u001b[0m\u001b[0;34m\u001b[0m\u001b[0;34m\u001b[0m\u001b[0m\n\u001b[0;32m----> 5\u001b[0;31m \u001b[0mprint\u001b[0m\u001b[0;34m(\u001b[0m\u001b[0mdf\u001b[0m\u001b[0;34m.\u001b[0m\u001b[0mresample\u001b[0m\u001b[0;34m(\u001b[0m\u001b[0;34m'7D'\u001b[0m\u001b[0;34m,\u001b[0m \u001b[0mon\u001b[0m\u001b[0;34m=\u001b[0m\u001b[0;34m'日期'\u001b[0m\u001b[0;34m,\u001b[0m\u001b[0mlabel\u001b[0m\u001b[0;34m=\u001b[0m\u001b[0;34m'right'\u001b[0m\u001b[0;34m)\u001b[0m\u001b[0;34m.\u001b[0m\u001b[0mapply\u001b[0m\u001b[0;34m(\u001b[0m\u001b[0mfunc\u001b[0m\u001b[0;34m)\u001b[0m\u001b[0;34m[\u001b[0m\u001b[0;34m'交易额'\u001b[0m\u001b[0;34m]\u001b[0m\u001b[0;34m)\u001b[0m\u001b[0;34m\u001b[0m\u001b[0;34m\u001b[0m\u001b[0m\n\u001b[0m",
      "\u001b[0;32m/Library/Frameworks/Python.framework/Versions/3.7/lib/python3.7/site-packages/pandas/core/resample.py\u001b[0m in \u001b[0;36maggregate\u001b[0;34m(self, func, *args, **kwargs)\u001b[0m\n\u001b[1;32m    336\u001b[0m             \u001b[0mhow\u001b[0m \u001b[0;34m=\u001b[0m \u001b[0mfunc\u001b[0m\u001b[0;34m\u001b[0m\u001b[0;34m\u001b[0m\u001b[0m\n\u001b[1;32m    337\u001b[0m             \u001b[0mgrouper\u001b[0m \u001b[0;34m=\u001b[0m \u001b[0;32mNone\u001b[0m\u001b[0;34m\u001b[0m\u001b[0;34m\u001b[0m\u001b[0m\n\u001b[0;32m--> 338\u001b[0;31m             \u001b[0mresult\u001b[0m \u001b[0;34m=\u001b[0m \u001b[0mself\u001b[0m\u001b[0;34m.\u001b[0m\u001b[0m_groupby_and_aggregate\u001b[0m\u001b[0;34m(\u001b[0m\u001b[0mhow\u001b[0m\u001b[0;34m,\u001b[0m \u001b[0mgrouper\u001b[0m\u001b[0;34m,\u001b[0m \u001b[0;34m*\u001b[0m\u001b[0margs\u001b[0m\u001b[0;34m,\u001b[0m \u001b[0;34m**\u001b[0m\u001b[0mkwargs\u001b[0m\u001b[0;34m)\u001b[0m\u001b[0;34m\u001b[0m\u001b[0;34m\u001b[0m\u001b[0m\n\u001b[0m\u001b[1;32m    339\u001b[0m \u001b[0;34m\u001b[0m\u001b[0m\n\u001b[1;32m    340\u001b[0m         \u001b[0mresult\u001b[0m \u001b[0;34m=\u001b[0m \u001b[0mself\u001b[0m\u001b[0;34m.\u001b[0m\u001b[0m_apply_loffset\u001b[0m\u001b[0;34m(\u001b[0m\u001b[0mresult\u001b[0m\u001b[0;34m)\u001b[0m\u001b[0;34m\u001b[0m\u001b[0;34m\u001b[0m\u001b[0m\n",
      "\u001b[0;32m/Library/Frameworks/Python.framework/Versions/3.7/lib/python3.7/site-packages/pandas/core/resample.py\u001b[0m in \u001b[0;36m_groupby_and_aggregate\u001b[0;34m(self, how, grouper, *args, **kwargs)\u001b[0m\n\u001b[1;32m    407\u001b[0m             \u001b[0;32mif\u001b[0m \u001b[0misinstance\u001b[0m\u001b[0;34m(\u001b[0m\u001b[0mobj\u001b[0m\u001b[0;34m,\u001b[0m \u001b[0mABCDataFrame\u001b[0m\u001b[0;34m)\u001b[0m \u001b[0;32mand\u001b[0m \u001b[0mcallable\u001b[0m\u001b[0;34m(\u001b[0m\u001b[0mhow\u001b[0m\u001b[0;34m)\u001b[0m\u001b[0;34m:\u001b[0m\u001b[0;34m\u001b[0m\u001b[0;34m\u001b[0m\u001b[0m\n\u001b[1;32m    408\u001b[0m                 \u001b[0;31m# Check if the function is reducing or not.\u001b[0m\u001b[0;34m\u001b[0m\u001b[0;34m\u001b[0m\u001b[0;34m\u001b[0m\u001b[0m\n\u001b[0;32m--> 409\u001b[0;31m                 \u001b[0mresult\u001b[0m \u001b[0;34m=\u001b[0m \u001b[0mgrouped\u001b[0m\u001b[0;34m.\u001b[0m\u001b[0m_aggregate_item_by_item\u001b[0m\u001b[0;34m(\u001b[0m\u001b[0mhow\u001b[0m\u001b[0;34m,\u001b[0m \u001b[0;34m*\u001b[0m\u001b[0margs\u001b[0m\u001b[0;34m,\u001b[0m \u001b[0;34m**\u001b[0m\u001b[0mkwargs\u001b[0m\u001b[0;34m)\u001b[0m\u001b[0;34m\u001b[0m\u001b[0;34m\u001b[0m\u001b[0m\n\u001b[0m\u001b[1;32m    410\u001b[0m             \u001b[0;32melse\u001b[0m\u001b[0;34m:\u001b[0m\u001b[0;34m\u001b[0m\u001b[0;34m\u001b[0m\u001b[0m\n\u001b[1;32m    411\u001b[0m                 \u001b[0mresult\u001b[0m \u001b[0;34m=\u001b[0m \u001b[0mgrouped\u001b[0m\u001b[0;34m.\u001b[0m\u001b[0maggregate\u001b[0m\u001b[0;34m(\u001b[0m\u001b[0mhow\u001b[0m\u001b[0;34m,\u001b[0m \u001b[0;34m*\u001b[0m\u001b[0margs\u001b[0m\u001b[0;34m,\u001b[0m \u001b[0;34m**\u001b[0m\u001b[0mkwargs\u001b[0m\u001b[0;34m)\u001b[0m\u001b[0;34m\u001b[0m\u001b[0;34m\u001b[0m\u001b[0m\n",
      "\u001b[0;32m/Library/Frameworks/Python.framework/Versions/3.7/lib/python3.7/site-packages/pandas/core/groupby/generic.py\u001b[0m in \u001b[0;36m_aggregate_item_by_item\u001b[0;34m(self, func, *args, **kwargs)\u001b[0m\n\u001b[1;32m   1135\u001b[0m             )\n\u001b[1;32m   1136\u001b[0m \u001b[0;34m\u001b[0m\u001b[0m\n\u001b[0;32m-> 1137\u001b[0;31m             \u001b[0mresult\u001b[0m\u001b[0;34m[\u001b[0m\u001b[0mi\u001b[0m\u001b[0;34m]\u001b[0m \u001b[0;34m=\u001b[0m \u001b[0mcolg\u001b[0m\u001b[0;34m.\u001b[0m\u001b[0maggregate\u001b[0m\u001b[0;34m(\u001b[0m\u001b[0mfunc\u001b[0m\u001b[0;34m,\u001b[0m \u001b[0;34m*\u001b[0m\u001b[0margs\u001b[0m\u001b[0;34m,\u001b[0m \u001b[0;34m**\u001b[0m\u001b[0mkwargs\u001b[0m\u001b[0;34m)\u001b[0m\u001b[0;34m\u001b[0m\u001b[0;34m\u001b[0m\u001b[0m\n\u001b[0m\u001b[1;32m   1138\u001b[0m \u001b[0;34m\u001b[0m\u001b[0m\n\u001b[1;32m   1139\u001b[0m         \u001b[0mres_df\u001b[0m \u001b[0;34m=\u001b[0m \u001b[0mself\u001b[0m\u001b[0;34m.\u001b[0m\u001b[0mobj\u001b[0m\u001b[0;34m.\u001b[0m\u001b[0m_constructor\u001b[0m\u001b[0;34m(\u001b[0m\u001b[0mresult\u001b[0m\u001b[0;34m)\u001b[0m\u001b[0;34m\u001b[0m\u001b[0;34m\u001b[0m\u001b[0m\n",
      "\u001b[0;32m/Library/Frameworks/Python.framework/Versions/3.7/lib/python3.7/site-packages/pandas/core/groupby/generic.py\u001b[0m in \u001b[0;36maggregate\u001b[0;34m(self, func, engine, engine_kwargs, *args, **kwargs)\u001b[0m\n\u001b[1;32m    263\u001b[0m \u001b[0;34m\u001b[0m\u001b[0m\n\u001b[1;32m    264\u001b[0m             \u001b[0;32mtry\u001b[0m\u001b[0;34m:\u001b[0m\u001b[0;34m\u001b[0m\u001b[0;34m\u001b[0m\u001b[0m\n\u001b[0;32m--> 265\u001b[0;31m                 \u001b[0;32mreturn\u001b[0m \u001b[0mself\u001b[0m\u001b[0;34m.\u001b[0m\u001b[0m_python_agg_general\u001b[0m\u001b[0;34m(\u001b[0m\u001b[0mfunc\u001b[0m\u001b[0;34m,\u001b[0m \u001b[0;34m*\u001b[0m\u001b[0margs\u001b[0m\u001b[0;34m,\u001b[0m \u001b[0;34m**\u001b[0m\u001b[0mkwargs\u001b[0m\u001b[0;34m)\u001b[0m\u001b[0;34m\u001b[0m\u001b[0;34m\u001b[0m\u001b[0m\n\u001b[0m\u001b[1;32m    266\u001b[0m             \u001b[0;32mexcept\u001b[0m \u001b[0mKeyError\u001b[0m\u001b[0;34m:\u001b[0m\u001b[0;34m\u001b[0m\u001b[0;34m\u001b[0m\u001b[0m\n\u001b[1;32m    267\u001b[0m                 \u001b[0;31m# TODO: KeyError is raised in _python_agg_general,\u001b[0m\u001b[0;34m\u001b[0m\u001b[0;34m\u001b[0m\u001b[0;34m\u001b[0m\u001b[0m\n",
      "\u001b[0;32m/Library/Frameworks/Python.framework/Versions/3.7/lib/python3.7/site-packages/pandas/core/groupby/groupby.py\u001b[0m in \u001b[0;36m_python_agg_general\u001b[0;34m(self, func, *args, **kwargs)\u001b[0m\n\u001b[1;32m   1324\u001b[0m \u001b[0;34m\u001b[0m\u001b[0m\n\u001b[1;32m   1325\u001b[0m         \u001b[0;32mif\u001b[0m \u001b[0;32mnot\u001b[0m \u001b[0moutput\u001b[0m\u001b[0;34m:\u001b[0m\u001b[0;34m\u001b[0m\u001b[0;34m\u001b[0m\u001b[0m\n\u001b[0;32m-> 1326\u001b[0;31m             \u001b[0;32mreturn\u001b[0m \u001b[0mself\u001b[0m\u001b[0;34m.\u001b[0m\u001b[0m_python_apply_general\u001b[0m\u001b[0;34m(\u001b[0m\u001b[0mf\u001b[0m\u001b[0;34m,\u001b[0m \u001b[0mself\u001b[0m\u001b[0;34m.\u001b[0m\u001b[0m_selected_obj\u001b[0m\u001b[0;34m)\u001b[0m\u001b[0;34m\u001b[0m\u001b[0;34m\u001b[0m\u001b[0m\n\u001b[0m\u001b[1;32m   1327\u001b[0m \u001b[0;34m\u001b[0m\u001b[0m\n\u001b[1;32m   1328\u001b[0m         \u001b[0;32mreturn\u001b[0m \u001b[0mself\u001b[0m\u001b[0;34m.\u001b[0m\u001b[0m_wrap_aggregated_output\u001b[0m\u001b[0;34m(\u001b[0m\u001b[0moutput\u001b[0m\u001b[0;34m)\u001b[0m\u001b[0;34m\u001b[0m\u001b[0;34m\u001b[0m\u001b[0m\n",
      "\u001b[0;32m/Library/Frameworks/Python.framework/Versions/3.7/lib/python3.7/site-packages/pandas/core/groupby/groupby.py\u001b[0m in \u001b[0;36m_python_apply_general\u001b[0;34m(self, f, data)\u001b[0m\n\u001b[1;32m   1285\u001b[0m             \u001b[0mdata\u001b[0m \u001b[0mafter\u001b[0m \u001b[0mapplying\u001b[0m \u001b[0mf\u001b[0m\u001b[0;34m\u001b[0m\u001b[0;34m\u001b[0m\u001b[0m\n\u001b[1;32m   1286\u001b[0m         \"\"\"\n\u001b[0;32m-> 1287\u001b[0;31m         \u001b[0mkeys\u001b[0m\u001b[0;34m,\u001b[0m \u001b[0mvalues\u001b[0m\u001b[0;34m,\u001b[0m \u001b[0mmutated\u001b[0m \u001b[0;34m=\u001b[0m \u001b[0mself\u001b[0m\u001b[0;34m.\u001b[0m\u001b[0mgrouper\u001b[0m\u001b[0;34m.\u001b[0m\u001b[0mapply\u001b[0m\u001b[0;34m(\u001b[0m\u001b[0mf\u001b[0m\u001b[0;34m,\u001b[0m \u001b[0mdata\u001b[0m\u001b[0;34m,\u001b[0m \u001b[0mself\u001b[0m\u001b[0;34m.\u001b[0m\u001b[0maxis\u001b[0m\u001b[0;34m)\u001b[0m\u001b[0;34m\u001b[0m\u001b[0;34m\u001b[0m\u001b[0m\n\u001b[0m\u001b[1;32m   1288\u001b[0m \u001b[0;34m\u001b[0m\u001b[0m\n\u001b[1;32m   1289\u001b[0m         return self._wrap_applied_output(\n",
      "\u001b[0;32m/Library/Frameworks/Python.framework/Versions/3.7/lib/python3.7/site-packages/pandas/core/groupby/ops.py\u001b[0m in \u001b[0;36mapply\u001b[0;34m(self, f, data, axis)\u001b[0m\n\u001b[1;32m    818\u001b[0m             \u001b[0;31m# group might be modified\u001b[0m\u001b[0;34m\u001b[0m\u001b[0;34m\u001b[0m\u001b[0;34m\u001b[0m\u001b[0m\n\u001b[1;32m    819\u001b[0m             \u001b[0mgroup_axes\u001b[0m \u001b[0;34m=\u001b[0m \u001b[0mgroup\u001b[0m\u001b[0;34m.\u001b[0m\u001b[0maxes\u001b[0m\u001b[0;34m\u001b[0m\u001b[0;34m\u001b[0m\u001b[0m\n\u001b[0;32m--> 820\u001b[0;31m             \u001b[0mres\u001b[0m \u001b[0;34m=\u001b[0m \u001b[0mf\u001b[0m\u001b[0;34m(\u001b[0m\u001b[0mgroup\u001b[0m\u001b[0;34m)\u001b[0m\u001b[0;34m\u001b[0m\u001b[0;34m\u001b[0m\u001b[0m\n\u001b[0m\u001b[1;32m    821\u001b[0m             \u001b[0;32mif\u001b[0m \u001b[0;32mnot\u001b[0m \u001b[0m_is_indexed_like\u001b[0m\u001b[0;34m(\u001b[0m\u001b[0mres\u001b[0m\u001b[0;34m,\u001b[0m \u001b[0mgroup_axes\u001b[0m\u001b[0;34m,\u001b[0m \u001b[0maxis\u001b[0m\u001b[0;34m)\u001b[0m\u001b[0;34m:\u001b[0m\u001b[0;34m\u001b[0m\u001b[0;34m\u001b[0m\u001b[0m\n\u001b[1;32m    822\u001b[0m                 \u001b[0mmutated\u001b[0m \u001b[0;34m=\u001b[0m \u001b[0;32mTrue\u001b[0m\u001b[0;34m\u001b[0m\u001b[0;34m\u001b[0m\u001b[0m\n",
      "\u001b[0;32m/Library/Frameworks/Python.framework/Versions/3.7/lib/python3.7/site-packages/pandas/core/groupby/groupby.py\u001b[0m in \u001b[0;36m<lambda>\u001b[0;34m(x)\u001b[0m\n\u001b[1;32m   1294\u001b[0m     \u001b[0;32mdef\u001b[0m \u001b[0m_python_agg_general\u001b[0m\u001b[0;34m(\u001b[0m\u001b[0mself\u001b[0m\u001b[0;34m,\u001b[0m \u001b[0mfunc\u001b[0m\u001b[0;34m,\u001b[0m \u001b[0;34m*\u001b[0m\u001b[0margs\u001b[0m\u001b[0;34m,\u001b[0m \u001b[0;34m**\u001b[0m\u001b[0mkwargs\u001b[0m\u001b[0;34m)\u001b[0m\u001b[0;34m:\u001b[0m\u001b[0;34m\u001b[0m\u001b[0;34m\u001b[0m\u001b[0m\n\u001b[1;32m   1295\u001b[0m         \u001b[0mfunc\u001b[0m \u001b[0;34m=\u001b[0m \u001b[0mcom\u001b[0m\u001b[0;34m.\u001b[0m\u001b[0mis_builtin_func\u001b[0m\u001b[0;34m(\u001b[0m\u001b[0mfunc\u001b[0m\u001b[0;34m)\u001b[0m\u001b[0;34m\u001b[0m\u001b[0;34m\u001b[0m\u001b[0m\n\u001b[0;32m-> 1296\u001b[0;31m         \u001b[0mf\u001b[0m \u001b[0;34m=\u001b[0m \u001b[0;32mlambda\u001b[0m \u001b[0mx\u001b[0m\u001b[0;34m:\u001b[0m \u001b[0mfunc\u001b[0m\u001b[0;34m(\u001b[0m\u001b[0mx\u001b[0m\u001b[0;34m,\u001b[0m \u001b[0;34m*\u001b[0m\u001b[0margs\u001b[0m\u001b[0;34m,\u001b[0m \u001b[0;34m**\u001b[0m\u001b[0mkwargs\u001b[0m\u001b[0;34m)\u001b[0m\u001b[0;34m\u001b[0m\u001b[0;34m\u001b[0m\u001b[0m\n\u001b[0m\u001b[1;32m   1297\u001b[0m \u001b[0;34m\u001b[0m\u001b[0m\n\u001b[1;32m   1298\u001b[0m         \u001b[0;31m# iterate through \"columns\" ex exclusions to populate output dict\u001b[0m\u001b[0;34m\u001b[0m\u001b[0;34m\u001b[0m\u001b[0;34m\u001b[0m\u001b[0m\n",
      "\u001b[0;32m/var/folders/lh/hf05nc8s2rx92_8p56r545xr0000gn/T/ipykernel_2601/137730960.py\u001b[0m in \u001b[0;36m<lambda>\u001b[0;34m(item)\u001b[0m\n\u001b[1;32m      2\u001b[0m \u001b[0;31m# 注意，这里要用np.sum()，不能用内置函数sum()\u001b[0m\u001b[0;34m\u001b[0m\u001b[0;34m\u001b[0m\u001b[0;34m\u001b[0m\u001b[0m\n\u001b[1;32m      3\u001b[0m \u001b[0;31m# 因为内置函数sum()不能忽略缺失值\u001b[0m\u001b[0;34m\u001b[0m\u001b[0;34m\u001b[0m\u001b[0;34m\u001b[0m\u001b[0m\n\u001b[0;32m----> 4\u001b[0;31m \u001b[0mfunc\u001b[0m \u001b[0;34m=\u001b[0m \u001b[0;32mlambda\u001b[0m \u001b[0mitem\u001b[0m\u001b[0;34m:\u001b[0m\u001b[0mround\u001b[0m\u001b[0;34m(\u001b[0m\u001b[0mnp\u001b[0m\u001b[0;34m.\u001b[0m\u001b[0msum\u001b[0m\u001b[0;34m(\u001b[0m\u001b[0mitem\u001b[0m\u001b[0;34m)\u001b[0m\u001b[0;34m/\u001b[0m\u001b[0mlen\u001b[0m\u001b[0;34m(\u001b[0m\u001b[0mitem\u001b[0m\u001b[0;34m)\u001b[0m\u001b[0;34m,\u001b[0m\u001b[0;36m2\u001b[0m\u001b[0;34m)\u001b[0m\u001b[0;34m\u001b[0m\u001b[0;34m\u001b[0m\u001b[0m\n\u001b[0m\u001b[1;32m      5\u001b[0m \u001b[0mprint\u001b[0m\u001b[0;34m(\u001b[0m\u001b[0mdf\u001b[0m\u001b[0;34m.\u001b[0m\u001b[0mresample\u001b[0m\u001b[0;34m(\u001b[0m\u001b[0;34m'7D'\u001b[0m\u001b[0;34m,\u001b[0m \u001b[0mon\u001b[0m\u001b[0;34m=\u001b[0m\u001b[0;34m'日期'\u001b[0m\u001b[0;34m,\u001b[0m\u001b[0mlabel\u001b[0m\u001b[0;34m=\u001b[0m\u001b[0;34m'right'\u001b[0m\u001b[0;34m)\u001b[0m\u001b[0;34m.\u001b[0m\u001b[0mapply\u001b[0m\u001b[0;34m(\u001b[0m\u001b[0mfunc\u001b[0m\u001b[0;34m)\u001b[0m\u001b[0;34m[\u001b[0m\u001b[0;34m'交易额'\u001b[0m\u001b[0;34m]\u001b[0m\u001b[0;34m)\u001b[0m\u001b[0;34m\u001b[0m\u001b[0;34m\u001b[0m\u001b[0m\n",
      "\u001b[0;31mTypeError\u001b[0m: unsupported operand type(s) for /: 'str' and 'int'"
     ]
    }
   ],
   "source": [
    "print('每7天营业额平均值'.ljust(20,'='))\n",
    "# 注意，这里要用np.sum()，不能用内置函数sum()\n",
    "# 因为内置函数sum()不能忽略缺失值\n",
    "func = lambda item:round(np.sum(item)/len(item),2)\n",
    "print(df.resample('7D', on='日期',label='right').apply(func)['交易额'])"
   ]
  },
  {
   "cell_type": "code",
   "execution_count": null,
   "metadata": {},
   "outputs": [
    {
     "name": "stdout",
     "output_type": "stream",
     "text": [
      "日期\n",
      "2019-03-08    1314.29\n",
      "2019-03-15    1365.32\n",
      "2019-03-22    1178.50\n",
      "2019-03-29    1411.54\n",
      "2019-04-05    1283.00\n",
      "Freq: 7D, Name: 交易额, dtype: float64\n"
     ]
    }
   ],
   "source": [
    "print(df.resample('7D', on='日期',label='right')['交易额'].apply(func))"
   ]
  },
  {
   "cell_type": "code",
   "execution_count": null,
   "metadata": {},
   "outputs": [
    {
     "name": "stdout",
     "output_type": "stream",
     "text": [
      "按姓名和柜台进行分组汇总========\n",
      "                交易额\n",
      "姓名 柜台             \n",
      "周七 化妆品     9516.0\n",
      "     日用品    12863.0\n",
      "     蔬菜水果  16443.0\n",
      "     食品       8996.0\n",
      "张三 化妆品    22975.0\n",
      "     日用品    18629.0\n",
      "     蔬菜水果   7265.0\n",
      "     食品       9261.0\n",
      "李四 化妆品    20467.0\n",
      "     日用品    10104.0\n"
     ]
    }
   ],
   "source": [
    "### 2.12  多索引相关技术与操作\n",
    "import pandas as pd\n",
    "\n",
    "# 设置列对齐\n",
    "pd.set_option('display.unicode.ambiguous_as_wide', True)\n",
    "pd.set_option('display.unicode.east_asian_width', True)\n",
    "\n",
    "# 读取全部数据，使用默认索引\n",
    "df = pd.read_excel(r'超市营业额2.xlsx')\n",
    "# 删除工号一列的数据\n",
    "df.drop('工号', axis=1, inplace=True)\n",
    "df = df.groupby(by=['姓名', '柜台']).sum()\n",
    "print('按姓名和柜台进行分组汇总'.ljust(20,'='))\n",
    "print(df[:10])"
   ]
  },
  {
   "cell_type": "code",
   "execution_count": null,
   "metadata": {
    "pycharm": {
     "name": "#%%\n"
    }
   },
   "outputs": [
    {
     "name": "stdout",
     "output_type": "stream",
     "text": [
      "查看周七的汇总数据===========\n",
      "           交易额\n",
      "柜台             \n",
      "化妆品     9516.0\n",
      "日用品    12863.0\n",
      "蔬菜水果  16443.0\n",
      "食品       8996.0\n"
     ]
    }
   ],
   "source": [
    "print('查看周七的汇总数据'.ljust(20,'='))\n",
    "print(df.loc['周七',:])"
   ]
  },
  {
   "cell_type": "code",
   "execution_count": null,
   "metadata": {
    "pycharm": {
     "name": "#%%\n"
    }
   },
   "outputs": [
    {
     "name": "stdout",
     "output_type": "stream",
     "text": [
      "查看周七在化妆品柜台的交易数据=====\n",
      "交易额    9516.0\n",
      "Name: (周七, 化妆品), dtype: float64\n",
      "按柜台排序，查看前12行========\n",
      "                   日期           时段  交易额\n",
      "姓名 柜台                                     \n",
      "周七 化妆品  2019-03-11   9：00-14：00   859.0\n",
      "     化妆品  2019-03-11  14：00-21：00  1633.0\n",
      "     化妆品  2019-03-12   9：00-14：00  1302.0\n",
      "     化妆品  2019-03-12  14：00-21：00  1317.0\n",
      "     化妆品  2019-03-13  14：00-21：00   922.0\n",
      "     化妆品  2019-03-14  14：00-21：00     NaN\n",
      "     化妆品  2019-03-15  14：00-21：00   916.0\n",
      "     化妆品  2019-03-16  14：00-21：00  1246.0\n",
      "     化妆品  2019-03-31  14：00-21：00  1321.0\n",
      "张三 化妆品  2019-03-01   9：00-14：00  1664.0\n",
      "     化妆品  2019-03-02   9：00-14：00  1530.0\n",
      "     化妆品  2019-03-03   9：00-14：00  1361.0\n"
     ]
    }
   ],
   "source": [
    "print('查看周七在化妆品柜台的交易数据'.ljust(20,'='))\n",
    "print(df.loc[('周七', '化妆品')])\n",
    "\n",
    "# 重新读取数据，指定多个索引\n",
    "df = pd.read_excel(r'超市营业额2.xlsx', index_col=[1, 5])\n",
    "\n",
    "# 丢弃“工号”列\n",
    "df.drop('工号', axis=1, inplace=True)\n",
    "\n",
    "# 按索引“柜台”排序，查看前12行\n",
    "dff = df.sort_index(level='柜台', axis=0)\n",
    "print('按柜台排序，查看前12行'.ljust(20,'='))\n",
    "print(dff[:12])"
   ]
  },
  {
   "cell_type": "code",
   "execution_count": null,
   "metadata": {
    "pycharm": {
     "name": "#%%\n"
    }
   },
   "outputs": [
    {
     "name": "stdout",
     "output_type": "stream",
     "text": [
      "按姓名排序，查看前12行========\n",
      "                   日期           时段  交易额\n",
      "姓名 柜台                                     \n",
      "周七 化妆品  2019-03-11   9：00-14：00   859.0\n",
      "     化妆品  2019-03-11  14：00-21：00  1633.0\n",
      "     化妆品  2019-03-12   9：00-14：00  1302.0\n",
      "     化妆品  2019-03-12  14：00-21：00  1317.0\n",
      "     化妆品  2019-03-13  14：00-21：00   922.0\n",
      "     化妆品  2019-03-14  14：00-21：00     NaN\n",
      "     化妆品  2019-03-15  14：00-21：00   916.0\n",
      "     化妆品  2019-03-16  14：00-21：00  1246.0\n",
      "     化妆品  2019-03-31  14：00-21：00  1321.0\n",
      "     日用品  2019-03-01   9：00-14：00   994.0\n",
      "     日用品  2019-03-02   9：00-14：00  1444.0\n",
      "     日用品  2019-03-03   9：00-14：00  1592.0\n"
     ]
    }
   ],
   "source": [
    "# 按索引“姓名”排序，查看前12行\n",
    "dff = df.sort_index(level='姓名', axis=0)\n",
    "print('按姓名排序，查看前12行'.ljust(20,'='))\n",
    "print(dff[:12])"
   ]
  },
  {
   "cell_type": "code",
   "execution_count": null,
   "metadata": {
    "pycharm": {
     "name": "#%%\n"
    }
   },
   "outputs": [
    {
     "name": "stdout",
     "output_type": "stream",
     "text": [
      "按柜台分组求和=============\n",
      "          交易额总和\n",
      "柜台                \n",
      "化妆品       75389.0\n",
      "日用品       88162.0\n",
      "蔬菜水果     78532.0\n",
      "食品         85174.0\n"
     ]
    }
   ],
   "source": [
    "# 按索引“柜台”分组求和\n",
    "print('按柜台分组求和'.ljust(20,'='))\n",
    "dfff = dff.groupby(level='柜台').sum()\n",
    "dfff.columns = ['交易额总和']\n",
    "print(dfff)"
   ]
  },
  {
   "cell_type": "code",
   "execution_count": null,
   "metadata": {
    "pycharm": {
     "name": "#%%\n"
    }
   },
   "outputs": [
    {
     "name": "stdout",
     "output_type": "stream",
     "text": [
      "按姓名分组求中值============\n",
      "      交易额中值\n",
      "姓名            \n",
      "周七      1134.5\n",
      "张三      1290.0\n",
      "李四      1276.0\n",
      "王五      1227.0\n",
      "赵六      1224.0\n",
      "钱八      1381.0\n"
     ]
    }
   ],
   "source": [
    "# 按索引“姓名”分组求中值\n",
    "print('按姓名分组求中值'.ljust(20,'='))\n",
    "dfff = dff.groupby(level='姓名').median()\n",
    "dfff.columns = ['交易额中值']\n",
    "print(dfff)"
   ]
  },
  {
   "cell_type": "code",
   "execution_count": null,
   "metadata": {},
   "outputs": [
    {
     "name": "stdout",
     "output_type": "stream",
     "text": [
      "原始数据================\n",
      "   A  B   C   D\n",
      "0  3  1  -5 -50\n",
      "1  3  2  -4 -40\n",
      "2  3  3  15  15\n",
      "3  3  4   4  40\n",
      "4  3  5   5  50\n"
     ]
    }
   ],
   "source": [
    "### 2.13  使用标准差与协方差分析员工业绩\n",
    "###演示数据\n",
    "import pandas as pd\n",
    "\n",
    "df = pd.DataFrame({'A':[3,3,3,3,3], 'B':[1,2,3,4,5],'C':[-5,-4,15,4,5], 'D':[-50,-40,15,40,50]})\n",
    "print('原始数据'.ljust(20,'='))\n",
    "print(df)"
   ]
  },
  {
   "cell_type": "code",
   "execution_count": null,
   "metadata": {
    "pycharm": {
     "name": "#%%\n"
    }
   },
   "outputs": [
    {
     "name": "stdout",
     "output_type": "stream",
     "text": [
      "平均值=================\n",
      "A    3.0\n",
      "B    3.0\n",
      "C    3.0\n",
      "D    3.0\n",
      "dtype: float64\n"
     ]
    }
   ],
   "source": [
    "print('平均值'.ljust(20,'='))\n",
    "print(df.mean())"
   ]
  },
  {
   "cell_type": "code",
   "execution_count": null,
   "metadata": {
    "pycharm": {
     "name": "#%%\n"
    }
   },
   "outputs": [
    {
     "name": "stdout",
     "output_type": "stream",
     "text": [
      "标准差=================\n",
      "A     0.000000\n",
      "B     1.581139\n",
      "C     8.093207\n",
      "D    45.771170\n",
      "dtype: float64\n"
     ]
    }
   ],
   "source": [
    "print('标准差'.ljust(20,'='))\n",
    "print(df.std())"
   ]
  },
  {
   "cell_type": "code",
   "execution_count": null,
   "metadata": {
    "pycharm": {
     "name": "#%%\n"
    }
   },
   "outputs": [
    {
     "name": "stdout",
     "output_type": "stream",
     "text": [
      "标准差的平方==============\n",
      "A       0.0\n",
      "B       2.5\n",
      "C      65.5\n",
      "D    2095.0\n",
      "dtype: float64\n"
     ]
    }
   ],
   "source": [
    "print('标准差的平方'.ljust(20,'='))\n",
    "print(df.std()**2)"
   ]
  },
  {
   "cell_type": "code",
   "execution_count": null,
   "metadata": {
    "pycharm": {
     "name": "#%%\n"
    }
   },
   "outputs": [
    {
     "name": "stdout",
     "output_type": "stream",
     "text": [
      "协方差=================\n",
      "     A     B      C       D\n",
      "A  0.0   0.0    0.0     0.0\n",
      "B  0.0   2.5    7.0    70.0\n",
      "C  0.0   7.0   65.5   250.0\n",
      "D  0.0  70.0  250.0  2095.0\n",
      "标准差=================\n",
      "柜台\n",
      "化妆品       36.480497\n",
      "日用品      159.008839\n",
      "蔬菜水果     60.331171\n",
      "食品        105.031231\n",
      "dtype: float64\n"
     ]
    }
   ],
   "source": [
    "print('协方差'.ljust(20,'='))\n",
    "print(df.cov())\n",
    "\n",
    "\n",
    "###使用标准差和协方差分析不同柜台的业绩\n",
    "# 设置列对齐\n",
    "pd.set_option('display.unicode.ambiguous_as_wide', True)\n",
    "pd.set_option('display.unicode.east_asian_width', True)\n",
    "\n",
    "# 读取全部数据，使用默认索引\n",
    "df = pd.read_excel(r'超市营业额2.xlsx',\n",
    "                     usecols=['姓名','日期','时段','柜台','交易额'])\n",
    "\n",
    "# 丢弃缺失值和重复值\n",
    "df.dropna(inplace=True)\n",
    "df.drop_duplicates(inplace=True)\n",
    "\n",
    "# 处理异常值\n",
    "df.loc[df.交易额<200, '交易额'] = 200\n",
    "df.loc[df.交易额>3000, '交易额'] = 3000\n",
    "\n",
    "# 使用交叉表得到不同员工在不同柜台的交易额平均值\n",
    "dff = pd.crosstab(df.姓名, df.柜台, df.交易额, aggfunc='mean')\n",
    "\n",
    "print('标准差'.ljust(20,'='))\n",
    "print(dff.std())"
   ]
  },
  {
   "cell_type": "code",
   "execution_count": null,
   "metadata": {
    "pycharm": {
     "name": "#%%\n"
    }
   },
   "outputs": [
    {
     "name": "stdout",
     "output_type": "stream",
     "text": [
      "协方差=================\n",
      "柜台           化妆品        日用品     蔬菜水果          食品\n",
      "柜台                                                          \n",
      "化妆品    1330.826697  -2296.460562   923.019793    692.300017\n",
      "日用品   -2296.460562  25283.810853 -1030.111953   2957.850772\n",
      "蔬菜水果   923.019793  -1030.111953  3639.850206  -3918.549524\n",
      "食品       692.300017   2957.850772 -3918.549524  11031.559490\n"
     ]
    }
   ],
   "source": [
    "print('协方差'.ljust(20,'='))\n",
    "print(dff.cov())"
   ]
  },
  {
   "cell_type": "code",
   "execution_count": null,
   "metadata": {},
   "outputs": [
    {
     "name": "stdout",
     "output_type": "stream",
     "text": [
      "按周几分组查看交易额平均值=======\n",
      "           交易额\n",
      "周几             \n",
      "Friday     1277.0\n",
      "Monday     1233.0\n",
      "Saturday   1306.0\n",
      "Sunday     1254.0\n",
      "Thursday   1830.0\n",
      "Tuesday    1258.0\n",
      "Wednesday  1224.0\n"
     ]
    }
   ],
   "source": [
    "### 2.14  使用pandas的属性接口实现高级功能\n",
    "import copy\n",
    "import pandas as pd\n",
    "\n",
    "# 设置列对齐\n",
    "pd.set_option('display.unicode.ambiguous_as_wide', True)\n",
    "pd.set_option('display.unicode.east_asian_width', True)\n",
    "\n",
    "# 读取全部数据，使用默认索引\n",
    "df = pd.read_excel(r'超市营业额2.xlsx', usecols=['日期', '交易额'])\n",
    "\n",
    "# 深复制，不影响原来的df\n",
    "dff = copy.deepcopy(df)\n",
    "# 把日期列替换为周几\n",
    "dff['日期'] = pd.to_datetime(df['日期']).dt.day_name()\n",
    "# 按周几分组，查看交易额平均值，四舍五入\n",
    "print('按周几分组查看交易额平均值'.ljust(20,'='))\n",
    "dff = dff.groupby('日期').mean().apply(round)\n",
    "dff.index.name = '周几'\n",
    "print(dff)"
   ]
  },
  {
   "cell_type": "code",
   "execution_count": null,
   "metadata": {
    "pycharm": {
     "name": "#%%\n"
    }
   },
   "outputs": [
    {
     "name": "stdout",
     "output_type": "stream",
     "text": [
      "只查看年份和月份============\n",
      "      日期  交易额\n",
      "0  2019-03  1664.0\n",
      "1  2019-03   954.0\n",
      "2  2019-03  1407.0\n",
      "3  2019-03  1320.0\n",
      "4  2019-03   994.0\n"
     ]
    }
   ],
   "source": [
    "dff = copy.deepcopy(df)\n",
    "# 修改日期列，只保留年份和月份\n",
    "dff['日期'] = dff['日期'].str.extract(r'(\\d{4}-\\d{2})')\n",
    "print('只查看年份和月份'.ljust(20,'='))\n",
    "print(dff[:5])"
   ]
  },
  {
   "cell_type": "code",
   "execution_count": null,
   "metadata": {
    "pycharm": {
     "name": "#%%\n"
    }
   },
   "outputs": [
    {
     "name": "stdout",
     "output_type": "stream",
     "text": [
      "按日期的日进行分组查看交易额平均值===\n",
      "      交易额\n",
      "日期        \n",
      "0     1178.0\n",
      "1     1264.0\n",
      "2     1273.0\n",
      "3     1317.0\n",
      "4     1801.0\n",
      "5     1223.0\n",
      "6     1292.0\n",
      "7     1216.0\n",
      "8     1508.0\n",
      "9     1266.0\n"
     ]
    }
   ],
   "source": [
    "# 按字符串形式的日期最后一位数进行分组\n",
    "# 该月1、11、21、31日汇总为一组，2、12、22日为一组，以此类推\n",
    "print('按日期的日进行分组查看交易额平均值'.ljust(20,'='))\n",
    "print(df.groupby(df['日期'].str.__getitem__(-1)).mean().apply(round))"
   ]
  },
  {
   "cell_type": "code",
   "execution_count": null,
   "metadata": {
    "pycharm": {
     "name": "#%%\n"
    }
   },
   "outputs": [
    {
     "name": "stdout",
     "output_type": "stream",
     "text": [
      "查看日期尾数为6的数据=========\n",
      "           日期  交易额\n",
      "40   2019-03-06  1037.0\n",
      "41   2019-03-06   822.0\n",
      "42   2019-03-06  1200.0\n",
      "43   2019-03-06  1245.0\n",
      "44   2019-03-06  1699.0\n",
      "45   2019-03-06  1199.0\n",
      "46   2019-03-06  1162.0\n",
      "47   2019-03-06  1778.0\n",
      "121  2019-03-16  1788.0\n",
      "122  2019-03-16  1590.0\n",
      "123  2019-03-16  1498.0\n",
      "124  2019-03-16     NaN\n"
     ]
    }
   ],
   "source": [
    "# 查看日期尾数为6的数据前12行\n",
    "print('查看日期尾数为6的数据'.ljust(20,'='))\n",
    "print(df[df['日期'].str.endswith('6')][:12])"
   ]
  },
  {
   "cell_type": "code",
   "execution_count": null,
   "metadata": {
    "pycharm": {
     "name": "#%%\n"
    }
   },
   "outputs": [
    {
     "name": "stdout",
     "output_type": "stream",
     "text": [
      "日期尾数为12的交易数据========\n",
      "          日期  交易额\n",
      "88  2019-03-12  1183.0\n",
      "89  2019-03-12   979.0\n",
      "90  2019-03-12  1651.0\n",
      "91  2019-03-12  1435.0\n",
      "92  2019-03-12  1302.0\n",
      "93  2019-03-12  1317.0\n",
      "94  2019-03-12   831.0\n",
      "95  2019-03-12  1530.0\n"
     ]
    }
   ],
   "source": [
    "# 查看日期尾数为12的数据\n",
    "# slice()接收3个参数，分别为起始位置、结束位置和步长\n",
    "print('日期尾数为12的交易数据'.ljust(20,'='))\n",
    "print(df[df.日期.str.slice(-2)=='12'])"
   ]
  },
  {
   "cell_type": "code",
   "execution_count": null,
   "metadata": {
    "pycharm": {
     "name": "#%%\n"
    }
   },
   "outputs": [
    {
     "name": "stdout",
     "output_type": "stream",
     "text": [
      "日期中月份或天数包含2的交易数据====\n",
      "           日期  交易额\n",
      "95   2019-03-12  1530.0\n",
      "153  2019-03-20  1332.0\n",
      "154  2019-03-20  1485.0\n",
      "155  2019-03-20   980.0\n",
      "156  2019-03-20  1615.0\n",
      "157  2019-03-20  1037.0\n",
      "158  2019-03-20  1649.0\n",
      "159  2019-03-20  1046.0\n",
      "160  2019-03-20   829.0\n",
      "161  2019-03-21  1528.0\n"
     ]
    }
   ],
   "source": [
    "# 日期中月份或天数包含2的交易数据第15到25行\n",
    "print('日期中月份或天数包含2的交易数据'.ljust(20,'='))\n",
    "print(df[df.日期.str.slice(-5).str.contains('2')][15:25])"
   ]
  },
  {
   "cell_type": "code",
   "execution_count": null,
   "metadata": {},
   "outputs": [],
   "source": [
    "### 2.15  绘制各员工在不同柜台业绩平均值的柱状图\n",
    "import pandas as pd\n",
    "import matplotlib.pyplot as plt\n",
    "import matplotlib.font_manager as fm\n",
    "\n",
    "# 读取全部数据，使用默认索引\n",
    "df = pd.read_excel(r'超市营业额2.xlsx')\n",
    "\n",
    "# 修改异常值\n",
    "df.loc[df.交易额>3000, '交易额'] = 3000\n",
    "df.loc[df.交易额<200, '交易额'] = 200\n",
    "\n",
    "# 删除重复值\n",
    "df.drop_duplicates(inplace=True)\n",
    "\n",
    "# 填充缺失值\n",
    "df['交易额'].fillna(df['交易额'].mean(), inplace=True)\n",
    "\n"
   ]
  },
  {
   "cell_type": "code",
   "execution_count": null,
   "metadata": {
    "pycharm": {
     "name": "#%%\n"
    }
   },
   "outputs": [
    {
     "name": "stdout",
     "output_type": "stream",
     "text": [
      "====================\n"
     ]
    },
    {
     "data": {
      "image/png": "[encoded data removed]",
      "text/plain": [
       "<Figure size 432x288 with 1 Axes>"
      ]
     },
     "metadata": {
      "needs_background": "light"
     },
     "output_type": "display_data"
    }
   ],
   "source": [
    "# 使用交叉表得到每人在各柜台交易额平均值\n",
    "print(''.ljust(20,'='))\n",
    "df_group = pd.crosstab(df.姓名, df.柜台, df.交易额, aggfunc='mean').apply(round)# 绘制柱状图，默认使用index作为横坐标\n",
    "df_group.plot(kind='bar')\n",
    "\n",
    "font = fm.FontProperties(fname=r'C:\\Windows\\Fonts\\STKAITI.ttf')\n",
    "plt.xlabel('员工业绩分布', fontproperties='simhei')\n",
    "plt.xticks(fontproperties='simhei')\n",
    "plt.legend(prop=font)\n",
    "\n",
    "# 显示绘制结果\n",
    "plt.show()"
   ]
  },
  {
   "cell_type": "code",
   "execution_count": null,
   "metadata": {},
   "outputs": [
    {
     "name": "stdout",
     "output_type": "stream",
     "text": [
      "   工号  姓名        日期           时段  交易额    柜台\n",
      "0  1001  张三  2019-03-01   9：00-14：00  1664.0  化妆品\n",
      "1  1002  李四  2019-03-01  14：00-21：00   954.0  化妆品\n",
      "2  1003  王五  2019-03-01   9：00-14：00  1407.0    食品\n",
      "\n",
      "    工号  姓名        日期           时段  交易额    柜台\n",
      "50  1004  赵六  2019-03-07   9：00-14：00  1340.0    食品\n",
      "51  1004  赵六  2019-03-07  14：00-21：00   942.0    食品\n",
      "52  1005  周七  2019-03-07   9：00-14：00  1465.0  日用品\n",
      "\n",
      "    工号  姓名        日期           时段  交易额      柜台\n",
      "0   1001  张三  2019-03-01   9：00-14：00  1664.0    化妆品\n",
      "1   1002  李四  2019-03-01  14：00-21：00   954.0    化妆品\n",
      "2   1003  王五  2019-03-01   9：00-14：00  1407.0      食品\n",
      "50  1004  赵六  2019-03-07   9：00-14：00  1340.0      食品\n",
      "51  1004  赵六  2019-03-07  14：00-21：00   942.0      食品\n",
      "52  1005  周七  2019-03-07   9：00-14：00  1465.0    日用品\n",
      "0   1001  张三  2019-04-01   9：00-14：00  1367.0    化妆品\n",
      "1   1002  李四  2019-04-01  14：00-21：00  1005.0    化妆品\n",
      "2   1003  王五  2019-04-01   9：00-14：00  1460.0      食品\n",
      "3   1004  赵六  2019-04-01  14：00-21：00  1270.0      食品\n",
      "4   1005  周七  2019-04-01   9：00-14：00  1123.0    日用品\n",
      "5   1006  钱八  2019-04-01  14：00-21：00  1321.0    日用品\n",
      "6   1007  孙九  2019-04-01   9：00-14：00  1364.0  蔬菜水果\n",
      "7   1007  孙九  2019-04-01  14：00-21：00  1633.0  蔬菜水果\n",
      "\n",
      "    工号  姓名        日期           时段  交易额      柜台\n",
      "0   1001  张三  2019-03-01   9：00-14：00  1664.0    化妆品\n",
      "1   1002  李四  2019-03-01  14：00-21：00   954.0    化妆品\n",
      "2   1003  王五  2019-03-01   9：00-14：00  1407.0      食品\n",
      "3   1004  赵六  2019-03-07   9：00-14：00  1340.0      食品\n",
      "4   1004  赵六  2019-03-07  14：00-21：00   942.0      食品\n",
      "5   1005  周七  2019-03-07   9：00-14：00  1465.0    日用品\n",
      "6   1001  张三  2019-04-01   9：00-14：00  1367.0    化妆品\n",
      "7   1002  李四  2019-04-01  14：00-21：00  1005.0    化妆品\n",
      "8   1003  王五  2019-04-01   9：00-14：00  1460.0      食品\n",
      "9   1004  赵六  2019-04-01  14：00-21：00  1270.0      食品\n",
      "10  1005  周七  2019-04-01   9：00-14：00  1123.0    日用品\n",
      "11  1006  钱八  2019-04-01  14：00-21：00  1321.0    日用品\n",
      "12  1007  孙九  2019-04-01   9：00-14：00  1364.0  蔬菜水果\n",
      "13  1007  孙九  2019-04-01  14：00-21：00  1633.0  蔬菜水果\n",
      "\n",
      "   姓名    柜台  交易额\n",
      "0  张三  化妆品  1664.0\n",
      "1  李四  化妆品   954.0\n",
      "2  王五    食品  1407.0\n",
      "3  赵六    食品  1320.0\n",
      "4  周七  日用品   994.0\n"
     ]
    }
   ],
   "source": [
    "### 2.17  数据拆分与合并\n",
    "#（1）concat()函数与append()方法\n",
    "import pandas as pd\n",
    "\n",
    "# 设置列对齐\n",
    "pd.set_option('display.unicode.ambiguous_as_wide', True)\n",
    "pd.set_option('display.unicode.east_asian_width', True)\n",
    "\n",
    "# 读取Sheet1中全部数据，使用默认索引\n",
    "df = pd.read_excel(r'超市营业额2.xlsx')\n",
    "# 读取Sheet2中全部数据，使用默认索引\n",
    "df5 = pd.read_excel(r'超市营业额2.xlsx',\n",
    "                      sheet_name='Sheet2')\n",
    "\n",
    "# 按行进行拆分\n",
    "df1 = df[:3]\n",
    "df2 = df[50:53]\n",
    "# 按行进行合并，要求多个DataFrame结构相同\n",
    "df3 = pd.concat([df1,df2,df5])\n",
    "# 使用append()方法按行合并，忽略原来的索引\n",
    "df4 = df1.append([df2,df5], ignore_index=True)\n",
    "# 按列进行拆分\n",
    "df6 = df.loc[:, ['姓名','柜台','交易额']]\n",
    "\n",
    "print(df1, df2, df3, df4, df6[:5], sep='\\n\\n')"
   ]
  },
  {
   "cell_type": "code",
   "execution_count": null,
   "metadata": {},
   "outputs": [],
   "source": [
    "### 2.17  数据拆分与合并\n",
    "#（2）merge()方法与join()方法\n",
    "import numpy as np\n",
    "import pandas as pd\n",
    "\n",
    "# 设置列对齐\n",
    "pd.set_option('display.unicode.ambiguous_as_wide', True)\n",
    "pd.set_option('display.unicode.east_asian_width', True)\n",
    "\n",
    "# 读取Sheet1中全部数据，使用默认索引\n",
    "df1 = pd.read_excel(r'超市营业额2.xlsx')\n",
    "# 读取Sheet3中全部数据，使用默认索引\n",
    "df2 = pd.read_excel(r'超市营业额2.xlsx', sheet_name='Sheet3')"
   ]
  },
  {
   "cell_type": "code",
   "execution_count": null,
   "metadata": {
    "pycharm": {
     "name": "#%%\n"
    }
   },
   "outputs": [
    {
     "name": "stdout",
     "output_type": "stream",
     "text": [
      "     工号  姓名        日期           时段  交易额      柜台  职级\n",
      "185  1005  周七  2019-03-11  14：00-21：00  1633.0    化妆品  员工\n",
      "235  1006  钱八  2019-03-21   9：00-14：00   807.0  蔬菜水果  员工\n",
      "109  1003  王五  2019-03-19   9：00-14：00   846.0  蔬菜水果  组长\n",
      "138  1004  赵六  2019-03-10   9：00-14：00  1061.0      食品  员工\n",
      "11   1001  张三  2019-03-12   9：00-14：00  1651.0      食品  店长\n",
      "124  1003  王五  2019-03-31   9：00-14：00  1274.0      食品  组长\n",
      "60   1002  李四  2019-03-16  14：00-21：00  1590.0    日用品  主管\n",
      "6    1001  张三  2019-03-05  14：00-21：00   856.0  蔬菜水果  店长\n",
      "14   1001  张三  2019-03-13  14：00-21：00  1333.0      食品  店长\n",
      "211  1005  周七  2019-03-31   9：00-14：00  1044.0  蔬菜水果  员工\n",
      "\n"
     ]
    }
   ],
   "source": [
    "# 按同名的列合并，随机查看10行数据\n",
    "rows = np.random.randint(0, len(df1), 10)\n",
    "print(pd.merge(df1, df2).iloc[rows,:], end='\\n\\n')"
   ]
  },
  {
   "cell_type": "code",
   "execution_count": null,
   "metadata": {
    "pycharm": {
     "name": "#%%\n"
    }
   },
   "outputs": [
    {
     "name": "stdout",
     "output_type": "stream",
     "text": [
      "     工号 姓名_x        日期           时段  交易额      柜台 姓名_y  职级\n",
      "185  1005   周七  2019-03-11  14：00-21：00  1633.0    化妆品   周七  员工\n",
      "235  1006   钱八  2019-03-21   9：00-14：00   807.0  蔬菜水果   钱八  员工\n",
      "109  1003   王五  2019-03-19   9：00-14：00   846.0  蔬菜水果   王五  组长\n",
      "138  1004   赵六  2019-03-10   9：00-14：00  1061.0      食品   赵六  员工\n",
      "11   1001   张三  2019-03-12   9：00-14：00  1651.0      食品   张三  店长\n",
      "124  1003   王五  2019-03-31   9：00-14：00  1274.0      食品   王五  组长\n",
      "60   1002   李四  2019-03-16  14：00-21：00  1590.0    日用品   李四  主管\n",
      "6    1001   张三  2019-03-05  14：00-21：00   856.0  蔬菜水果   张三  店长\n",
      "14   1001   张三  2019-03-13  14：00-21：00  1333.0      食品   张三  店长\n",
      "211  1005   周七  2019-03-31   9：00-14：00  1044.0  蔬菜水果   周七  员工\n",
      "\n"
     ]
    }
   ],
   "source": [
    "# 按工号合并，指定其他同名列的后缀\n",
    "print(pd.merge(df1, df2, on='工号', suffixes=['_x','_y']).iloc[rows,:], end='\\n\\n')"
   ]
  },
  {
   "cell_type": "code",
   "execution_count": null,
   "metadata": {
    "pycharm": {
     "name": "#%%\n"
    }
   },
   "outputs": [
    {
     "name": "stdout",
     "output_type": "stream",
     "text": [
      "     姓名_x        日期           时段  交易额      柜台 姓名_y  职级\n",
      "工号                                                                 \n",
      "1005   周七  2019-03-11  14：00-21：00  1633.0    化妆品   周七  员工\n",
      "1006   钱八  2019-03-21   9：00-14：00   807.0  蔬菜水果   钱八  员工\n",
      "1003   王五  2019-03-19   9：00-14：00   846.0  蔬菜水果   王五  组长\n",
      "1004   赵六  2019-03-10   9：00-14：00  1061.0      食品   赵六  员工\n",
      "1001   张三  2019-03-12   9：00-14：00  1651.0      食品   张三  店长\n",
      "1003   王五  2019-03-31   9：00-14：00  1274.0      食品   王五  组长\n",
      "1002   李四  2019-03-16  14：00-21：00  1590.0    日用品   李四  主管\n",
      "1001   张三  2019-03-05  14：00-21：00   856.0  蔬菜水果   张三  店长\n",
      "1001   张三  2019-03-13  14：00-21：00  1333.0      食品   张三  店长\n",
      "1005   周七  2019-03-31   9：00-14：00  1044.0  蔬菜水果   周七  员工\n"
     ]
    }
   ],
   "source": [
    "# 两个表都设置工号列为索引\n",
    "print(df1.set_index('工号').join(df2.set_index('工号'), lsuffix='_x', rsuffix='_y').iloc[rows,:])\n"
   ]
  },
  {
   "cell_type": "code",
   "execution_count": null,
   "metadata": {},
   "outputs": [],
   "source": []
  }
 ],
 "metadata": {
  "kernelspec": {
   "display_name": "Python 3",
   "language": "python",
   "name": "python3"
  },
  "language_info": {
   "codemirror_mode": {
    "name": "ipython",
    "version": 3
   },
   "file_extension": ".py",
   "mimetype": "text/x-python",
   "name": "python",
   "nbconvert_exporter": "python",
   "pygments_lexer": "ipython3",
   "version": "3.7.4"
  }
 },
 "nbformat": 4,
 "nbformat_minor": 2
}
